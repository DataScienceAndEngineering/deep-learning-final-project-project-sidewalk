{
 "cells": [
  {
   "cell_type": "code",
   "execution_count": 2,
   "metadata": {},
   "outputs": [],
   "source": [
    "import os,sys\n",
    "ROOT_DIR = os.path.abspath(\"../../\")\n",
    "RAW_DATA = os.path.join(ROOT_DIR, 'data/raw/disparity_trainvaltest/disparity')\n",
    "PROCESSED_DATA = os.path.join(ROOT_DIR, 'data/processed')\n",
    "txt = os.path.join(ROOT_DIR, 'data/processed/keep_img_ids.txt')\n",
    "sys.path.append(ROOT_DIR)  # To find local version of the library\n",
    "\n",
    "import shutil\n",
    "\n",
    "\n",
    "train, val = RAW_DATA+'/train', RAW_DATA+'/val'\n",
    "\n",
    "with open(txt,'r') as f:\n",
    "    keep_ids = f.readlines()\n",
    "    keep_ids = [k[:-1] for k in keep_ids]\n"
   ]
  },
  {
   "cell_type": "code",
   "execution_count": 3,
   "metadata": {},
   "outputs": [],
   "source": [
    "# shutil.move('oldname', 'renamedfiles/newname')\n",
    "# moving everything one level up \n",
    "def moveUp(old_directory, new_directory=None, to_keep = None, mask=False):\n",
    "    for cities in os.listdir(old_directory):\n",
    "        subdir = os.path.join(old_directory,cities)\n",
    "        if cities == '.DS_Store':\n",
    "            continue\n",
    "        for img in os.listdir(subdir):\n",
    "            _id = img.split('.')\n",
    "            if mask and _id[1]!='json':\n",
    "                continue\n",
    "            id = \"_\".join(_id[0].split(\"_\")[:3])\n",
    "            if id in to_keep:\n",
    "                img_path = os.path.join(subdir,img)\n",
    "                if mask:\n",
    "                    new_path = os.path.join(new_directory,f'{id}.json')\n",
    "                else:\n",
    "                    new_path = os.path.join(new_directory,f'{id}.png')\n",
    "                \n",
    "                shutil.move(img_path, new_path)         \n",
    "\n",
    "# moveUp(train, os.path.join(PROCESSED_DATA, 'disparity_maps'), keep_ids)\n",
    "# moveUp(val, os.path.join(PROCESSED_DATA, 'disparity_maps'), keep_ids)"
   ]
  },
  {
   "cell_type": "code",
   "execution_count": 6,
   "metadata": {},
   "outputs": [],
   "source": [
    "# #  now to move the camera intrinsic and extrinsic values \n",
    "# NEW_DIR = os.path.join(PROCESSED_DATA, 'camera_calibrations')\n",
    "# train = os.path.join(ROOT_DIR, 'data','raw','camera_trainvaltest','camera','train')\n",
    "# val = os.path.join(ROOT_DIR,'data','raw', 'camera_trainvaltest','camera','val')\n",
    "\n",
    "# moveUp(train, NEW_DIR, keep_ids,mask=True)\n",
    "# moveUp(val, NEW_DIR, keep_ids,True)"
   ]
  },
  {
   "cell_type": "code",
   "execution_count": null,
   "metadata": {},
   "outputs": [],
   "source": []
  }
 ],
 "metadata": {
  "kernelspec": {
   "display_name": "tf",
   "language": "python",
   "name": "python3"
  },
  "language_info": {
   "codemirror_mode": {
    "name": "ipython",
    "version": 3
   },
   "file_extension": ".py",
   "mimetype": "text/x-python",
   "name": "python",
   "nbconvert_exporter": "python",
   "pygments_lexer": "ipython3",
   "version": "3.8.16"
  },
  "orig_nbformat": 4
 },
 "nbformat": 4,
 "nbformat_minor": 2
}
