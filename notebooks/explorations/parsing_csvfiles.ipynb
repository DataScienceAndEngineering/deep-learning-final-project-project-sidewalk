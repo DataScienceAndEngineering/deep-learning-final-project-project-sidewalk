{
 "cells": [
  {
   "cell_type": "code",
   "execution_count": 1,
   "metadata": {},
   "outputs": [],
   "source": [
    "import pandas as pd\n",
    "import sys,os\n",
    "import re\n",
    "import numpy as np\n",
    "\n",
    "\n",
    "ROOT_DIR = \"../../\"\n",
    "DATA_DIR = os.path.join(ROOT_DIR, 'data/')\n",
    "\n",
    "sys.path.append(os.path.abspath(ROOT_DIR))\n"
   ]
  },
  {
   "cell_type": "code",
   "execution_count": 2,
   "metadata": {},
   "outputs": [
    {
     "name": "stderr",
     "output_type": "stream",
     "text": [
      "/Users/csea/miniconda/envs/tf_m1/lib/python3.8/site-packages/tqdm/auto.py:21: TqdmWarning: IProgress not found. Please update jupyter and ipywidgets. See https://ipywidgets.readthedocs.io/en/stable/user_install.html\n",
      "  from .autonotebook import tqdm as notebook_tqdm\n",
      "2023-04-13 19:02:58.744252: I tensorflow/compiler/mlir/mlir_graph_optimization_pass.cc:185] None of the MLIR Optimization Passes are enabled (registered 2)\n",
      "2023-04-13 19:02:58.744625: W tensorflow/core/platform/profile_utils/cpu_utils.cc:128] Failed to get CPU frequency: 0 Hz\n"
     ]
    }
   ],
   "source": [
    "from src.data import helper\n",
    "# build the dataset\n",
    "train, validation, test = helper.buildCityscapes()"
   ]
  },
  {
   "cell_type": "code",
   "execution_count": 3,
   "metadata": {},
   "outputs": [],
   "source": [
    "def decode(df: pd.Series):\n",
    "    return df.apply(lambda x: x.decode() if isinstance(x, bytes) else x)\n",
    "\n",
    "def dropImage(df: pd.DataFrame):\n",
    "    return df.drop(columns='image_left', inplace=True)\n",
    "\n",
    "def toNumpy(df: pd.Series):\n",
    "    return df.to_numpy()\n",
    "\n",
    "def updateFileName(filename,mask=False):\n",
    "    tail = 'leftImg8bit'\n",
    "    if mask:\n",
    "        tail = 'gtFine_color'\n",
    "    parentFolder = re.findall('([a-z]{2,})',filename)\n",
    "    return parentFolder[0]+f'/{filename}_{tail}.png'\n"
   ]
  },
  {
   "cell_type": "code",
   "execution_count": 11,
   "metadata": {},
   "outputs": [],
   "source": [
    "files = [train, test, validation]\n",
    "names = ['train','test','validation']\n",
    "\n",
    "for i,f in enumerate(files):\n",
    "    if 'image_left' in f.columns:\n",
    "        f.drop(columns=['image_left'],inplace=True)\n",
    "    f['image_id'] = decode( f['image_id'])\n",
    "    f['filename'] = f['image_id'].apply(lambda x: updateFileName(x))\n",
    "    f['mask_name'] = f['image_id'].apply(lambda x: updateFileName(x,True))\n",
    "    f.drop(columns=['segmentation_label'],inplace=True)\n",
    "    f.to_csv(f'deep-learning-final-project-project-sidewalk/data/interim/{names[i]}.csv', index=False)\n"
   ]
  },
  {
   "cell_type": "code",
   "execution_count": null,
   "metadata": {},
   "outputs": [],
   "source": []
  }
 ],
 "metadata": {
  "kernelspec": {
   "display_name": "tf_m1",
   "language": "python",
   "name": "python3"
  },
  "language_info": {
   "codemirror_mode": {
    "name": "ipython",
    "version": 3
   },
   "file_extension": ".py",
   "mimetype": "text/x-python",
   "name": "python",
   "nbconvert_exporter": "python",
   "pygments_lexer": "ipython3",
   "version": "3.8.16"
  },
  "orig_nbformat": 4
 },
 "nbformat": 4,
 "nbformat_minor": 2
}
