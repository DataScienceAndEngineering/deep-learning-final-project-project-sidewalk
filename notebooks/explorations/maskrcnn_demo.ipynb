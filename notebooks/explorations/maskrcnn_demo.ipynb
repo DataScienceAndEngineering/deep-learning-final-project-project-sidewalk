{
 "cells": [
  {
   "cell_type": "code",
   "execution_count": null,
   "metadata": {},
   "outputs": [],
   "source": [
    "import os,sys\n",
    "ROOT_DIR = os.path.abspath(\"../../\")\n",
    "DATA_DIR = os.path.join(ROOT_DIR, 'data/processed')\n",
    "sys.path.append(ROOT_DIR)\n",
    "\n",
    "from src.data import helper\n",
    "from src.data.cityscapeDataset import CityscapeDataset\n",
    "from src.data.cityscapeConfig import CityscapeConfig\n",
    "\n",
    "\n",
    "import numpy as np\n",
    "import pandas as pd\n",
    "import tensorflow as tf\n",
    "import random\n",
    "import matplotlib.pyplot as plt\n",
    "\n",
    "# model import\n",
    "from models.maskrcnn.mrcnn import visualize\n",
    "from models.maskrcnn.mrcnn import model_new as modellib\n",
    "from models.maskrcnn.mrcnn.model import log\n",
    "from models.maskrcnn.mrcnn import config\n",
    "from models.maskrcnn.mrcnn.config import Config\n",
    "from models.maskrcnn.mrcnn import utils"
   ]
  },
  {
   "cell_type": "code",
   "execution_count": null,
   "metadata": {},
   "outputs": [],
   "source": [
    "# create new training configurations\n",
    "cconfig = CityscapeConfig()\n",
    "\n",
    "dataset = CityscapeDataset()\n",
    "dataset.load_dataset(DATA_DIR,'train')\n",
    "dataset.prepare()\n",
    "\n",
    "val_set = CityscapeDataset()\n",
    "val_set.load_dataset(DATA_DIR,'val')\n",
    "val_set.prepare()"
   ]
  },
  {
   "cell_type": "code",
   "execution_count": null,
   "metadata": {},
   "outputs": [],
   "source": [
    "id = random.choice(dataset.image_ids)\n",
    "print(id)\n",
    "img = dataset.load_image(id)\n",
    "masks,labels,obs = dataset.load_mask(id)\n",
    "names = dataset.class_from_source_map\n",
    "\n",
    "visualize.display_top_masks(img,\n",
    "                            masks,\n",
    "                            labels,\n",
    "                            names,\n",
    "                            limit=4)\n",
    "\n",
    "\n",
    "visualize.display_top_masks(img,\n",
    "                            masks,\n",
    "                            obs,\n",
    "                            {0:'BG',1:'obstruction'},\n",
    "                            limit=2)"
   ]
  },
  {
   "cell_type": "code",
   "execution_count": null,
   "metadata": {},
   "outputs": [],
   "source": [
    "COCO_MODEL_PATH = os.path.join(ROOT_DIR,'models/maskrcnn/mask_rcnn_coco.h5')\n",
    "if not os.path.exists(COCO_MODEL_PATH):\n",
    "    utils.download_trained_weights(COCO_MODEL_PATH)"
   ]
  },
  {
   "cell_type": "code",
   "execution_count": null,
   "metadata": {},
   "outputs": [],
   "source": [
    "tf.keras.backend.clear_session()\n",
    "# define a directory to store the tf logs and weights\n",
    "temp_log = os.path.join(ROOT_DIR,'data/external')\n",
    "# define existing weights\n",
    "model_path = os.path.join(ROOT_DIR,'models/maskrcnn/mask_rcnn_coco.h5')\n",
    "\n",
    "\n",
    "# construct the model with custom configuration\n",
    "model = modellib.MaskRCNN(mode='training',\n",
    "                            config=cconfig, \n",
    "                            model_dir=temp_log)\n",
    "\n",
    "model.load_weights(COCO_MODEL_PATH, by_name=True,\n",
    "                       exclude=[\"mrcnn_class_logits\", \"mrcnn_bbox_fc\", \n",
    "                                \"mrcnn_bbox\", \"mrcnn_mask\"])"
   ]
  },
  {
   "cell_type": "code",
   "execution_count": null,
   "metadata": {},
   "outputs": [],
   "source": [
    "# train the model\n",
    "model.train(dataset, val_set, \n",
    "            learning_rate=cconfig.LEARNING_RATE, \n",
    "            epochs=2, \n",
    "            layers='heads',\n",
    "        )"
   ]
  },
  {
   "cell_type": "code",
   "execution_count": null,
   "metadata": {},
   "outputs": [],
   "source": [
    "model.keras_model.summary()"
   ]
  },
  {
   "attachments": {},
   "cell_type": "markdown",
   "metadata": {},
   "source": [
    "# Inference"
   ]
  },
  {
   "cell_type": "code",
   "execution_count": null,
   "metadata": {},
   "outputs": [],
   "source": [
    "# model_path = os.path.join(ROOT_DIR,'models/maskrcnn/mask_rcnn_sidewalks_0001.h5')\n",
    "try:\n",
    "  model_path = model.find_last()\n",
    "except:\n",
    "  # model_path = '//Users/csea/Desktop/deep-learning-final-project-project-sidewalk/models/maskrcnn/logs/3_BCE/mask_rcnn_sidewalks_0010.h5'\n",
    "  model_path ='/Users/csea/Desktop/logs_nicholas/mask_rcnn_sidewalks_0020_fixed_dense.h5'\n",
    "  model_path ='/Users/csea/Desktop/mask_rcnn_sidewalks_0004_shared.h5'\n",
    "  # model_path ='/Users/csea/Downloads/mask_rcnn_sidewalks_0002.h5'\n",
    "  # model_paty = '/Users/csea/Desktop/logs_nicholas/new///mask_rcnn_sidewalks_0020_3Dense_BCE.h5'\n",
    "print(f'Found model at {model_path}')\n",
    "class InferenceConfig(CityscapeConfig):\n",
    "  GPU_COUNT =1 \n",
    "  IMAGES_PER_GPU = 1\n",
    "  DETECTION_MIN_CONFIDENCE = .5\n",
    "  IMAGE_MAX_DIM = 512\n",
    "  IMAGE_MIN_DIM = 512\n",
    "  USE_MINI_MASK = True\n",
    "\n",
    "inference_config = InferenceConfig()\n",
    "temp_log = os.path.join(ROOT_DIR,'data/external')\n",
    "\n",
    "tf.keras.backend.clear_session()\n",
    "model = modellib.MaskRCNN(mode = 'inference',\n",
    "                          config = inference_config,\n",
    "                          model_dir=temp_log)\n",
    "# model.load_weights(model_path, by_name=True, )\n",
    "tf.keras.Model.load_weights(model.keras_model, model_path, by_name=True)\n"
   ]
  },
  {
   "cell_type": "code",
   "execution_count": null,
   "metadata": {},
   "outputs": [],
   "source": [
    "dataset = val_set\n",
    "ids = random.choice(dataset.image_ids)\n",
    "# ids = 272\n",
    "print(ids)\n",
    "# ids = 297\n",
    "image = dataset.load_image(ids)\n",
    "results = model.detect([image],verbose=1)\n",
    "# display preferences\n",
    "def get_ax(rows=1, cols=1, size=10):\n",
    "  _,ax = plt.subplots(rows,cols,figsize=(size*cols,size*rows))\n",
    "  return ax\n",
    "\n",
    "# captions = helper.generate_captions_obstructed(r['class_ids'], r['obstructions'],labels_dict = val_set.rev_mapping)\n",
    "r = results[0]\n",
    "\n",
    "visualize.display_instances(image, r['rois'], r['masks'], r['class_ids'], \n",
    "                           list(dataset.class_from_source_map.values()), r['scores'], \n",
    "                           ax=get_ax(), title='MaskRCNN Segmentations', show_bbox=False)\n",
    "\n",
    "\n",
    "idx = np.where(r['obstructions_ids']==1)[0]\n",
    "\n",
    "b,m,l = helper.filter_obstructions(idx, r['rois'], r['masks'], r['class_ids'])\n",
    "visualize.display_instances(image, b,m,l, \n",
    "                           list(dataset.class_from_source_map.values()), r['obstructions_scores'][idx], \n",
    "                           ax=get_ax(),title='MaskRCNN Obstructions ', show_bbox=False)\n",
    "                           "
   ]
  },
  {
   "cell_type": "code",
   "execution_count": null,
   "metadata": {},
   "outputs": [],
   "source": [
    "# image = dataset.load_image(ids)\n",
    "# ids = 122\n",
    "gt_mask, gt_class_ids, gt_obs = dataset.load_mask(ids)\n",
    "gt_bbox = utils.extract_bboxes(gt_mask)\n",
    "\n",
    "def get_ax(rows=1, cols=1, size=10):\n",
    "  _,ax = plt.subplots(rows,cols,figsize=(size*cols,size*rows))\n",
    "  return ax\n",
    "\n",
    "_ = np.where(gt_obs==1)[0]\n",
    "visualize.display_instances(image, gt_bbox,gt_mask, gt_class_ids, \n",
    "                            list(dataset.class_from_source_map.values()), ax=get_ax(), \n",
    "                            show_bbox=False, title='GT Segmentations')\n",
    "\n",
    "gt_bbox_filtered,gt_mask_filtered,gt_class_ids_filtered = helper.filter_obstructions(_, gt_bbox,gt_mask,gt_class_ids)\n",
    "visualize.display_instances(image, gt_bbox_filtered,gt_mask_filtered, gt_class_ids_filtered,\n",
    "                            list(dataset.class_from_source_map.values()), \n",
    "                            ax=get_ax(), show_bbox=False, title = 'GT obstructions')"
   ]
  },
  {
   "cell_type": "code",
   "execution_count": null,
   "metadata": {},
   "outputs": [],
   "source": [
    "visualize.display_differences(image, gt_bbox,gt_class_ids, gt_mask,\n",
    "                                r['rois'],r['class_ids'],r['scores'],r['masks'],list(dataset.class_from_source_map.values()))"
   ]
  },
  {
   "attachments": {},
   "cell_type": "markdown",
   "metadata": {},
   "source": [
    "# Evaluation"
   ]
  },
  {
   "attachments": {},
   "cell_type": "markdown",
   "metadata": {},
   "source": [
    "## Testing AP functions"
   ]
  },
  {
   "cell_type": "code",
   "execution_count": null,
   "metadata": {},
   "outputs": [],
   "source": [
    "mAP,precisions, recalls, overlaps = utils.compute_ap(gt_bbox,gt_class_ids, gt_mask,\n",
    "                                r['rois'],r['class_ids'],r['scores'],r['masks'])\n",
    "\n",
    "visualize.plot_precision_recall(mAP, precisions, recalls)"
   ]
  }
 ],
 "metadata": {
  "kernelspec": {
   "display_name": "tf_m1",
   "language": "python",
   "name": "python3"
  },
  "language_info": {
   "codemirror_mode": {
    "name": "ipython",
    "version": 3
   },
   "file_extension": ".py",
   "mimetype": "text/x-python",
   "name": "python",
   "nbconvert_exporter": "python",
   "pygments_lexer": "ipython3",
   "version": "3.8.16"
  },
  "orig_nbformat": 4
 },
 "nbformat": 4,
 "nbformat_minor": 2
}
