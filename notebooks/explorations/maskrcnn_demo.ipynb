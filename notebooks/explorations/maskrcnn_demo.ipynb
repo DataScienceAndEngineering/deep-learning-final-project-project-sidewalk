{
 "cells": [
  {
   "cell_type": "code",
   "execution_count": null,
   "metadata": {},
   "outputs": [],
   "source": [
    "import os,sys\n",
    "ROOT_DIR = os.path.abspath(\"../../\")\n",
    "DATA_DIR = os.path.join(ROOT_DIR, 'data/processed')\n",
    "sys.path.append(ROOT_DIR)  # To find local version of the library\n",
    "# LABELS_DIR = os.path.join(ROOT_DIR, 'data/interim')\n",
    "\n",
    "\n",
    "import numpy as np\n",
    "import pandas as pd\n",
    "import tensorflow as tf\n",
    "from tensorflow import keras\n",
    "import matplotlib.pyplot as plt\n",
    "# import cv2\n",
    "# from IPython.display import display\n",
    "import skimage\n",
    "from skimage.draw import polygon\n",
    "import json \n",
    "\n",
    "tf.compat.v1.disable_eager_execution()\n"
   ]
  },
  {
   "cell_type": "code",
   "execution_count": null,
   "metadata": {},
   "outputs": [],
   "source": [
    "from models.maskrcnn.mrcnn import visualize\n",
    "from models.maskrcnn.mrcnn import model\n",
    "# from models.maskrcnn.mrcnn import log\n",
    "from models.maskrcnn.mrcnn import config\n",
    "from models.maskrcnn.mrcnn.config import Config\n",
    "from models.maskrcnn.mrcnn import model as modellib, utils\n",
    "\n",
    "from src.data import helper"
   ]
  },
  {
   "cell_type": "code",
   "execution_count": null,
   "metadata": {},
   "outputs": [],
   "source": [
    "COCO_MODEL_PATH = os.path.join(ROOT_DIR,'models/maskrcnn/mask_rcnn_coco.h5')\n",
    "if not os.path.exists(COCO_MODEL_PATH):\n",
    "    utils.download_trained_weights(COCO_MODEL_PATH)"
   ]
  },
  {
   "cell_type": "code",
   "execution_count": null,
   "metadata": {},
   "outputs": [],
   "source": [
    "class CustomConfig(Config):\n",
    "  NAME = 'sidewalks'\n",
    "  GPU_COUNT = 1\n",
    "\n",
    "  # 12GB GPU can typical handle 2 images (1024 x 1024)\n",
    "  # ColabPro High Ram has roughly 27GB GPU\n",
    "  IMAGES_PER_GPU = 4\n",
    "\n",
    "  # Background + 1 sidewalk class \n",
    "  NUM_CLASSES = 1 + 10\n",
    "\n",
    "  # Number of training steps per epoch\n",
    "  STEPS_PER_EPOCH = 10\n",
    "\n",
    "  # Number of validation steps to runa tt eh end of \n",
    "  # every epoch,larger number improves better accuracy\n",
    "  # but slows down training\n",
    "  VALIDATION_STEPS = 50\n",
    "\n",
    "  # ROIs belwo this threshold are skipped\n",
    "  DETECTION_MIN_CONFIDENCE = .7   \n",
    "  DETECTION_NMS_THRESHOLD = 0.3\n",
    "  LEARNING_RATE =0.0005\n",
    "  BACKBONE = 'resnet101'\n",
    "  IMAGE_MAX_DIM = 512\n",
    "  IMAGE_MIN_DIM = 256\n",
    "  \n",
    "class CustomDataset(utils.Dataset):\n",
    "  def load_dataset(self,dataset_dir,subset):\n",
    "    # self.image_info = {}\n",
    "    # self.class_info = {}\n",
    "    # self.data_directory = dataset_dir\n",
    "\n",
    "    classes = pd.read_csv(os.path.join(dataset_dir,'classes.csv'))\n",
    "    classes = classes.set_index('CLASS_ID').T.to_dict('list')\n",
    "    classes = dict([(k,classes[k][0]) for k,v in classes.items()])\n",
    "\n",
    "    labels = pd.read_csv(os.path.join(dataset_dir, 'labels_obs.csv'), index_col=None)\n",
    "    labels = labels.set_index('ID').T.to_dict('list')\n",
    "    for id in labels:\n",
    "      labs = labels[id][0]\n",
    "      obs = labels[id][1]\n",
    "      labels[id] =  (np.array([int(i) for i in labs.split(' ')[:-1]]),np.array([int(i) for i in obs.split(' ')[:-1]]))\n",
    "\n",
    "\n",
    "    for class_id,class_name in classes.items():\n",
    "      self.add_class(source='cityscape',\n",
    "                   class_id = class_id,\n",
    "                   class_name = class_name)\n",
    "      \n",
    "    # self.class_names = [d['name'] for d in self.class_info.values()]\n",
    "    \n",
    "    # iterating to get the image ids\n",
    "    if subset == 'validation':\n",
    "      subset = 'val'\n",
    "\n",
    "    SUBSET_IDs = pd.read_csv(os.path.join(dataset_dir, subset+'.csv'), index_col=0) \n",
    "    SUBSET_IDs = [i.split('.')[0] for i in SUBSET_IDs['0'].tolist()]\n",
    "\n",
    "    for ID in SUBSET_IDs:\n",
    "    # for i in range(len(data)):\n",
    "      img_path = os.path.join(dataset_dir, f'images/{ID}.png')\n",
    "      img_labels = labels[ID][0]\n",
    "      obs_labels = labels[ID][1]\n",
    "      self.add_image(source='cityscape',\n",
    "                     image_id = ID,\n",
    "                     path = img_path,\n",
    "                     labels = img_labels,\n",
    "                     obstruction = obs_labels)\n",
    "      \n",
    "  def load_mask(self,id):\n",
    "    # if not isinstance(id, str):\n",
    "    #   id = self.image_info[id]\n",
    "\n",
    "    img_info = self.image_info[id]\n",
    "    img_name = img_info['id']\n",
    "    mask_path = os.path.join(os.path.dirname(os.path.dirname(img_info['path']))\n",
    "                        ,'segmentations',f'{img_name}.json')\n",
    "\n",
    "    masks = helper.create_mask(mask_path, img_info['labels'], resize=(256,512))\n",
    "    return masks, img_info['labels']\n",
    "  \n",
    "  def image_reference(self, id):\n",
    "    info = self.image_info[id]\n",
    "    if info[\"source\"] == \"cityscape\":\n",
    "        return info[\"id\"]\n",
    "    else:\n",
    "        super(self.__class__, self).image_reference(id)\n"
   ]
  },
  {
   "cell_type": "code",
   "execution_count": null,
   "metadata": {},
   "outputs": [],
   "source": [
    "config = CustomConfig()\n",
    "\n",
    "dataset = CustomDataset()\n",
    "dataset.load_dataset(DATA_DIR,'train')\n",
    "dataset.prepare()\n",
    "\n",
    "val_set = CustomDataset()\n",
    "val_set.load_dataset(DATA_DIR,'val')\n",
    "val_set.prepare()\n"
   ]
  },
  {
   "cell_type": "code",
   "execution_count": null,
   "metadata": {},
   "outputs": [],
   "source": [
    "id = 0\n",
    "img = dataset.load_image(id)\n",
    "masks,labels = dataset.load_mask(id)\n",
    "names = dataset.class_from_source_map\n",
    "\n",
    "visualize.display_top_masks(img,\n",
    "                            masks,\n",
    "                            labels,\n",
    "                            names,\n",
    "                            limit=8)"
   ]
  },
  {
   "cell_type": "code",
   "execution_count": null,
   "metadata": {},
   "outputs": [],
   "source": [
    "tf.keras.backend.clear_session()\n",
    "temp_log = os.path.join(ROOT_DIR,'data/external')\n",
    "model = modellib.MaskRCNN(mode='training',config=config, model_dir=temp_log)\n",
    "model_path = os.path.join(ROOT_DIR,'models/maskrcnn/mask_rcnn_coco.h5')\n",
    "model.load_weights(COCO_MODEL_PATH, by_name=True,\n",
    "                       exclude=[\"mrcnn_class_logits\", \"mrcnn_bbox_fc\", \n",
    "                                \"mrcnn_bbox\", \"mrcnn_mask\"])"
   ]
  },
  {
   "cell_type": "code",
   "execution_count": null,
   "metadata": {},
   "outputs": [],
   "source": [
    "model.train(dataset, val_set, \n",
    "            learning_rate=config.LEARNING_RATE, \n",
    "            epochs=1, \n",
    "            layers='heads')"
   ]
  },
  {
   "attachments": {},
   "cell_type": "markdown",
   "metadata": {},
   "source": [
    "# Inference"
   ]
  },
  {
   "cell_type": "code",
   "execution_count": null,
   "metadata": {},
   "outputs": [],
   "source": [
    "model_path = os.path.join(ROOT_DIR,'models/maskrcnn/mask_rcnn_coco.h5')\n",
    "\n",
    "class InferenceConfig(CustomConfig):\n",
    "  GPU_COUNT =1 \n",
    "  IMAGES_PER_GPU = 1\n",
    "  DETECTION_MIN_CONFIDENCE = .5\n",
    "\n",
    "inference_config = InferenceConfig()\n",
    "temp_log = os.path.join(ROOT_DIR,'data/external')\n",
    "\n",
    "tf.keras.backend.clear_session()\n",
    "model = modellib.MaskRCNN(mode = 'inference',\n",
    "                          config = inference_config,\n",
    "                          model_dir=temp_log)\n",
    "model.load_weights(model_path, by_name=True, \n",
    "                   exclude=['mrcnn_class_logits','mrcnn_bbox_fc','mrcnn_bbox','mrcnn_mask'])"
   ]
  },
  {
   "cell_type": "code",
   "execution_count": null,
   "metadata": {},
   "outputs": [],
   "source": [
    "model.train(dataset_train, dataset_val, \n",
    "            learning_rate=config.LEARNING_RATE, \n",
    "            epochs=1, \n",
    "            layers='heads')"
   ]
  }
 ],
 "metadata": {
  "kernelspec": {
   "display_name": "tf_m1",
   "language": "python",
   "name": "python3"
  },
  "language_info": {
   "codemirror_mode": {
    "name": "ipython",
    "version": 3
   },
   "file_extension": ".py",
   "mimetype": "text/x-python",
   "name": "python",
   "nbconvert_exporter": "python",
   "pygments_lexer": "ipython3",
   "version": "3.8.16"
  },
  "orig_nbformat": 4
 },
 "nbformat": 4,
 "nbformat_minor": 2
}
