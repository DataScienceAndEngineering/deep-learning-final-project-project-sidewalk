{
 "cells": [
  {
   "cell_type": "code",
   "execution_count": 17,
   "metadata": {},
   "outputs": [],
   "source": [
    "import os,sys\n",
    "ROOT_DIR = os.path.abspath(\"../../\")\n",
    "DATA_DIR = os.path.join(ROOT_DIR, 'data/interim')\n",
    "sys.path.append(ROOT_DIR)  # To find local version of the library\n",
    "\n",
    "\n",
    "import pandas as pd\n",
    "import numpy as np\n",
    "import imageio as iio\n",
    "import json\n",
    "from skimage.draw import polygon\n",
    "import matplotlib.pyplot as plt\n",
    "import skimage\n",
    "from typing import Union"
   ]
  },
  {
   "cell_type": "code",
   "execution_count": 13,
   "metadata": {},
   "outputs": [],
   "source": [
    "# checking for labels of interest\n",
    "# labels of interest\n",
    "labels_dict = {\n",
    "    8: 'sidewalk',\n",
    "    12: 'wall',\n",
    "    13: 'fence',\n",
    "    14: 'guard rail',\n",
    "    17: 'pole',\n",
    "    18:  'polegroup',\n",
    "    20: 'traffic sign'\n",
    "}\n",
    "\n",
    "labels_dc ={'sidewalk':8,\n",
    "            'wall':12,\n",
    "            'fence':13,\n",
    "            'guard rail':14,\n",
    "            'pole':17,\n",
    "            'polegroup':18,\n",
    "            'traffic sign': 20}"
   ]
  },
  {
   "cell_type": "code",
   "execution_count": 14,
   "metadata": {},
   "outputs": [],
   "source": [
    "IMG_DIR = os.path.join(DATA_DIR, 'ZIP.leftImg8bit_trainvaltest.zip/leftImg8bit')\n",
    "LBL_DIR = os.path.join(DATA_DIR, 'ZIP.gtFine_trainvaltest.zip/gtFine/')\n",
    "\n",
    "x_train, y_train = IMG_DIR + '/train', LBL_DIR+'/train'\n",
    "x_test, y_test = IMG_DIR + '/test', LBL_DIR+'/test'\n",
    "x_val , y_val =IMG_DIR + '/val', LBL_DIR+'/val'"
   ]
  },
  {
   "cell_type": "code",
   "execution_count": 203,
   "metadata": {},
   "outputs": [],
   "source": [
    "from typing import Union\n",
    "def parse_json(filename: str, keep:Union[tuple,list,dict]=['sidewalk']):\n",
    "    polygons = []\n",
    "    labels = []\n",
    "    with open(filename) as f:\n",
    "        data = json.load(f)\n",
    "        im_h, im_w = data['imgHeight'], data['imgWidth']\n",
    "        objects = data[\"objects\"]\n",
    "        for i in objects:\n",
    "            if i['label'] in keep:\n",
    "                # if isinstance(keep, dict):\n",
    "                #     labels.append(keep[i['label']])\n",
    "                # else:\n",
    "                #     labels.append(i['label'])\n",
    "                poly_coords = i['polygon']\n",
    "                tmp = list(zip(*poly_coords))\n",
    "            # NOTE: The following line assumes that the point coordinates are given as (x,y). \n",
    "            #       Change the order of the indices if needed.\n",
    "                polygons.append((np.array(tmp[1])-1, np.array(tmp[0])-1))\n",
    "    # return (im_h, im_w), labels, polygons\n",
    "    return (im_h, im_w), polygons\n",
    "\n",
    "# https://stackoverflow.com/questions/72168663/setting-a-list-of-x-y-cooordinates-into-an-array-so-polygons-are-drawn\n",
    "def drawMask(imgsize: tuple, poly:tuple):\n",
    "    img = np.zeros(imgsize)\n",
    "    r = poly[0]\n",
    "    c = poly[1]\n",
    "    r_index, c_index = polygon(r, c)\n",
    "    img[r_index,c_index] = 1\n",
    "    return img"
   ]
  },
  {
   "cell_type": "code",
   "execution_count": 149,
   "metadata": {},
   "outputs": [
    {
     "data": {
      "text/plain": [
       "<matplotlib.image.AxesImage at 0x127e72df0>"
      ]
     },
     "execution_count": 149,
     "metadata": {},
     "output_type": "execute_result"
    },
    {
     "data": {
      "image/png": "[encoded data removed]",
      "text/plain": [
       "<Figure size 640x480 with 1 Axes>"
      ]
     },
     "metadata": {},
     "output_type": "display_data"
    }
   ],
   "source": [
    "imdim, labels, polygons = parse_json('/Users/csea/Desktop/deep-learning-final-project-project-sidewalk/data/interim/ZIP.gtFine_trainvaltest.zip/gtFine/train/zurich/zurich_000086_000019_gtFine_polygons.json')\n",
    "m = drawMask(imdim, polygons[0])\n",
    "plt.imshow(m)"
   ]
  },
  {
   "cell_type": "code",
   "execution_count": 236,
   "metadata": {},
   "outputs": [],
   "source": [
    "# get a list of file names from x\n",
    "# find y json file \n",
    "# find # of instances no need to generate masks yet\n",
    "# img path | json path | class\n",
    "\n",
    "def getIds(subset:list):\n",
    "    cities = os.listdir(subset)\n",
    "    ids = []\n",
    "    for city in cities:\n",
    "        for p in os.listdir(os.path.join(subset, city)): \n",
    "            id = '_'.join(p.split('_')[:3])\n",
    "            ids.append(id)   \n",
    "    return ids\n",
    "\n",
    "\n",
    "def getInstances(filename:str, labelsToKeep:dict):\n",
    "    labels = []\n",
    "    keys = labelsToKeep.keys()\n",
    "    data = json.load(open(filename))\n",
    "    data = data[\"objects\"]\n",
    "    for d in data:\n",
    "        l = d['label']\n",
    "        if l in keys:\n",
    "            labels.append(labelsToKeep[l])\n",
    "    return labels\n",
    "    "
   ]
  },
  {
   "cell_type": "code",
   "execution_count": 237,
   "metadata": {},
   "outputs": [],
   "source": [
    "train_ids = getIds(x_train)\n",
    "test_ids = getIds(x_test)\n",
    "val_ids = getIds(x_val)\n"
   ]
  },
  {
   "cell_type": "code",
   "execution_count": 251,
   "metadata": {},
   "outputs": [],
   "source": [
    "def getLabels(ids, x,y,keepLabels={'sidewalk':8}):\n",
    "    labels = []\n",
    "    for id in ids:\n",
    "        city= id.split('_')[0]\n",
    "        # im_path = os.path.join(x,city,id+'_leftImg8bit.png')\n",
    "        lb_path = os.path.join(y,city, id+'_gtFine_polygons.json')\n",
    "        labels.append(getInstances(lb_path,keepLabels))\n",
    "    return labels\n",
    "\n",
    "def generateCSV(filepath:str, ids, labels):\n",
    "    df = pd.DataFrame(data=list(zip(ids, labels)),columns=['ID','LABEL'])\n",
    "    df.to_csv(filepath, index=False)"
   ]
  },
  {
   "cell_type": "code",
   "execution_count": 249,
   "metadata": {},
   "outputs": [],
   "source": [
    "# val_labels = getLabels(val_ids, x_val,y_val)\n",
    "# generateCSV('/Users/csea/Desktop/deep-learning-final-project-project-sidewalk/data/interim/val.csv',val_ids,val_labels)"
   ]
  },
  {
   "cell_type": "code",
   "execution_count": 15,
   "metadata": {},
   "outputs": [],
   "source": [
    "from models.maskrcnn.mrcnn import visualize\n",
    "from models.maskrcnn.mrcnn import model\n",
    "# from models.maskrcnn.mrcnn import log\n",
    "from models.maskrcnn.mrcnn import config\n",
    "from models.maskrcnn.mrcnn.config import Config\n",
    "from models.maskrcnn.mrcnn import model as modellib, utils"
   ]
  },
  {
   "cell_type": "code",
   "execution_count": 200,
   "metadata": {},
   "outputs": [],
   "source": [
    "class CustomConfig(Config):\n",
    "  NAME = 'sidewalks'\n",
    "  GPU_COUNT = 1\n",
    "\n",
    "  # 12GB GPU can typical handle 2 images (1024 x 1024)\n",
    "  # ColabPro High Ram has roughly 27GB GPU\n",
    "  IMAGES_PER_GPU = 4\n",
    "\n",
    "  # Background + 1 sidewalk class \n",
    "  NUM_CLASSES = 2\n",
    "\n",
    "  # Number of training steps per epoch\n",
    "  STEPS_PER_EPOCH = 10\n",
    "\n",
    "  # Number of validation steps to runa tt eh end of \n",
    "  # every epoch,larger number improves better accuracy\n",
    "  # but slows down training\n",
    "  VALIDATION_STEPS = 50\n",
    "\n",
    "  # ROIs belwo this threshold are skipped\n",
    "  DETECTION_MIN_CONFIDENCE = .7   \n",
    "  DETECTION_NMS_THRESHOLD = 0.3\n",
    "  LEARNING_RATE =0.0005\n",
    "  BACKBONE = 'resnet101'\n",
    "  IMAGE_MAX_DIM = 512\n",
    "  IMAGE_MIN_DIM = 512\n",
    "  \n",
    "class CustomDataset(utils.Dataset):\n",
    " \n",
    "  def add_image(self, source, image_id, path, **kwargs):\n",
    "        image_info = {image_id:\n",
    "            {\"source\": source,\n",
    "            \"path\": path,\n",
    "            }\n",
    "        }\n",
    "        image_info[image_id].update(kwargs)\n",
    "        self.image_info.update(image_info)\n",
    "\n",
    "  def add_class(self, source, class_id, class_name):\n",
    "    assert \".\" not in source, \"Source name cannot contain a dot\"\n",
    "    # Does the class exist already?\n",
    "    if class_id in self.class_info.keys():\n",
    "       return\n",
    "\n",
    "    # Add the class\n",
    "    self.class_info.update({ class_id:\n",
    "       { \"source\": source,\n",
    "        \"name\": class_name,\n",
    "        'id': class_id}\n",
    "    })\n",
    "        \n",
    "  def load_dataset(self,dataset_dir,subset):\n",
    "    self.image_info = {}\n",
    "    self.class_info = {}\n",
    "    self.data_directory = dataset_dir\n",
    "\n",
    "    classes = pd.read_csv(os.path.join(dataset_dir,'classes.csv'))\n",
    "    IDs, LABELS = classes['CLASS_ID'].tolist(), classes['CLASS_NAME'].tolist()\n",
    "    classes = dict(zip(IDs, LABELS))\n",
    "\n",
    "    for i,c in enumerate(classes):\n",
    "      self.add_class(source='cityscape',\n",
    "                   class_id = c,\n",
    "                   class_name=classes[c])\n",
    "      \n",
    "    self.class_names = [d['name'] for d in self.class_info.values()]\n",
    "    \n",
    "    # iterating to get the image ids\n",
    "    if subset == 'validation':\n",
    "      subset = 'val'\n",
    "\n",
    "    data = pd.read_csv(os.path.join(dataset_dir, subset+'.csv'))  \n",
    "\n",
    "    for i in range(len(data)):\n",
    "      ID, LABELS = data.loc[i]\n",
    "      city = ID.split('_')[0]\n",
    "      img_path = os.path.join(dataset_dir, f'leftImg8bit/{subset}/{city}/{ID}_leftImg8bit.png')\n",
    "      classes = [int(i) if i!='' else 0 for i in LABELS.strip('[]').split(',')]\n",
    "      self.add_image(source='cityscape',\n",
    "                     image_id = ID,\n",
    "                     path = img_path,\n",
    "                     classes = classes)\n",
    "      \n",
    "  def load_mask(self,id):\n",
    "    img_info = self.image_info[id]\n",
    "    path = img_info['path']\n",
    "    subset = path.split('/')[-3]\n",
    "    mask_dir = os.path.join(self.data_directory, f'gtFine/{subset}')\n",
    "    \n",
    "    city = id.split('_')[0]\n",
    "    mask_path = os.path.join(mask_dir, city,f'{id}_gtFine_polygons.json')\n",
    "    # mask_path = os.path.join(mask_dir, city,f'{id}_gtFine_labelIds.png')\n",
    "    def parse_json(filename: str, keep=self.class_names) :\n",
    "        polygons = []\n",
    "        with open(filename) as f:\n",
    "            data = json.load(f)\n",
    "            im_h, im_w = data['imgHeight'], data['imgWidth']\n",
    "            objects = data[\"objects\"]\n",
    "            for i in objects:\n",
    "                if i['label'] in keep:\n",
    "                    print(i['label'])\n",
    "                    poly_coords = i['polygon']\n",
    "                    tmp = list(zip(*poly_coords))\n",
    "                    polygons.append((np.array(tmp[1])-1, np.array(tmp[0])-1))\n",
    "        # return (im_h, im_w), labels, polygons\n",
    "        return (im_h, im_w), polygons\n",
    "\n",
    "    # https://stackoverflow.com/questions/72168663/setting-a-list-of-x-y-cooordinates-into-an-array-so-polygons-are-drawn\n",
    "    def drawMask(imgsize: tuple, poly:tuple):\n",
    "        img = np.zeros(imgsize)\n",
    "        row, col = polygon(poly[0], poly[1])\n",
    "        img[row,col] = 1\n",
    "        return img\n",
    "    \n",
    "    masks = []\n",
    "    \n",
    "    imsize, polygons = parse_json(mask_path)\n",
    "    for p in polygons:\n",
    "       mask = drawMask(imsize, p)\n",
    "       masks.append(mask)\n",
    "      \n",
    "    masks = np.stack(masks, axis=-1)\n",
    "    return masks, img_info['classes']\n"
   ]
  },
  {
   "cell_type": "code",
   "execution_count": 201,
   "metadata": {},
   "outputs": [],
   "source": [
    "d = CustomDataset()\n",
    "d.load_dataset(DATA_DIR,'train')"
   ]
  },
  {
   "cell_type": "code",
   "execution_count": 203,
   "metadata": {},
   "outputs": [
    {
     "name": "stdout",
     "output_type": "stream",
     "text": [
      "sidewalk\n",
      "sidewalk\n"
     ]
    },
    {
     "data": {
      "image/png": "[encoded data removed]",
      "text/plain": [
       "<Figure size 1400x500 with 5 Axes>"
      ]
     },
     "metadata": {},
     "output_type": "display_data"
    }
   ],
   "source": [
    "a,b = d.load_mask('monchengladbach_000000_033683')\n",
    "c = d.load_image('monchengladbach_000000_033683')\n",
    "visualize.display_top_masks(c,a,b,d.class_info)"
   ]
  }
 ],
 "metadata": {
  "kernelspec": {
   "display_name": "tf_m1",
   "language": "python",
   "name": "python3"
  },
  "language_info": {
   "codemirror_mode": {
    "name": "ipython",
    "version": 3
   },
   "file_extension": ".py",
   "mimetype": "text/x-python",
   "name": "python",
   "nbconvert_exporter": "python",
   "pygments_lexer": "ipython3",
   "version": "3.8.16"
  },
  "orig_nbformat": 4
 },
 "nbformat": 4,
 "nbformat_minor": 2
}
