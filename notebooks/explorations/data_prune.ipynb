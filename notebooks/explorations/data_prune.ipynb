{
 "cells": [
  {
   "cell_type": "code",
   "execution_count": 45,
   "metadata": {},
   "outputs": [],
   "source": [
    "import os,sys\n",
    "ROOT_DIR = os.path.abspath(\"../../\")\n",
    "INTERIM_DATA = os.path.join(ROOT_DIR, 'data/interim')\n",
    "PROCESSED_DATA = os.path.join(ROOT_DIR, 'data/processed')\n",
    "txt = os.path.join(ROOT_DIR, 'data/processed/keep_img_ids.txt')\n",
    "sys.path.append(ROOT_DIR)  # To find local version of the library\n",
    "\n",
    "\n",
    "import shutil\n"
   ]
  },
  {
   "cell_type": "code",
   "execution_count": 57,
   "metadata": {},
   "outputs": [],
   "source": [
    "labels ={'sidewalk':8,\n",
    "            'rail track':10,\n",
    "            'wall':12,\n",
    "            'fence':13,\n",
    "            'guard rail':14,\n",
    "            'pole':17,\n",
    "            'polegroup':18,\n",
    "            'traffic sign': 20,\n",
    "            'vegetation': 21}\n",
    "\n",
    "IMG_DIR = os.path.join(INTERIM_DATA, 'leftImg8bit')\n",
    "LBL_DIR = os.path.join(INTERIM_DATA, 'gtFine/')\n",
    "\n",
    "x_train, y_train = IMG_DIR + '/train', LBL_DIR+'train'\n",
    "# x_test, y_test = IMG_DIR + '/test', LBL_DIR+'/test'\n",
    "x_val , y_val =IMG_DIR + '/val', LBL_DIR+'val'"
   ]
  },
  {
   "cell_type": "code",
   "execution_count": 58,
   "metadata": {},
   "outputs": [],
   "source": [
    "with open(txt,'r') as f:\n",
    "    keep_ids = f.readlines()\n",
    "    keep_ids = [k[:-1] for k in keep_ids]"
   ]
  },
  {
   "cell_type": "code",
   "execution_count": 60,
   "metadata": {},
   "outputs": [],
   "source": [
    "# shutil.move('oldname', 'renamedfiles/newname')\n",
    "# moving everything one level up \n",
    "def moveUp(old_directory, new_directory=None, to_keep = None, mask=False):\n",
    "    for cities in os.listdir(old_directory):\n",
    "        subdir = os.path.join(old_directory,cities)\n",
    "        if cities == '.DS_Store':\n",
    "            continue\n",
    "        for img in os.listdir(subdir):\n",
    "            _id = img.split('.')\n",
    "            if mask and _id[1]!='json':\n",
    "                continue\n",
    "            id = \"_\".join(_id[0].split(\"_\")[:3])\n",
    "            if id in to_keep:\n",
    "                img_path = os.path.join(subdir,img)\n",
    "                if mask:\n",
    "                    new_path = os.path.join(new_directory,'segmentations',f'{id}.json')\n",
    "                else:\n",
    "                    new_path = os.path.join(new_directory,'images',f'{id}.json')\n",
    "                \n",
    "                shutil.move(img_path, new_path)         \n",
    "\n",
    "moveUp(x_train, PROCESSED_DATA, keep_ids)\n",
    "moveUp(x_val, PROCESSED_DATA, keep_ids)\n",
    "moveUp(y_train, PROCESSED_DATA, keep_ids,True)\n",
    "moveUp(y_val, PROCESSED_DATA, keep_ids, True)\n"
   ]
  },
  {
   "cell_type": "code",
   "execution_count": 65,
   "metadata": {},
   "outputs": [
    {
     "data": {
      "text/plain": [
       "True"
      ]
     },
     "execution_count": 65,
     "metadata": {},
     "output_type": "execute_result"
    }
   ],
   "source": [
    "# check correct number of items moved\n",
    "len(os.listdir(PROCESSED_DATA+'/images')) ==len(os.listdir(PROCESSED_DATA+'/segmentations'))"
   ]
  },
  {
   "cell_type": "code",
   "execution_count": null,
   "metadata": {},
   "outputs": [],
   "source": []
  }
 ],
 "metadata": {
  "kernelspec": {
   "display_name": "tf",
   "language": "python",
   "name": "python3"
  },
  "language_info": {
   "codemirror_mode": {
    "name": "ipython",
    "version": 3
   },
   "file_extension": ".py",
   "mimetype": "text/x-python",
   "name": "python",
   "nbconvert_exporter": "python",
   "pygments_lexer": "ipython3",
   "version": "3.8.16"
  },
  "orig_nbformat": 4
 },
 "nbformat": 4,
 "nbformat_minor": 2
}
