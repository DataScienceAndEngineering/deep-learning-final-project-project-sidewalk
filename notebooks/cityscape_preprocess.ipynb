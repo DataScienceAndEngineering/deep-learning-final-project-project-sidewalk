{
  "cells": [
    {
      "cell_type": "markdown",
      "metadata": {
        "id": "view-in-github",
        "colab_type": "text"
      },
      "source": [
        "<a href=\"https://colab.research.google.com/github/DataScienceAndEngineering/deep-learning-final-project-project-sidewalk/blob/nicholas/notebooks/cityscape_preprocess.ipynb\" target=\"_parent\"><img src=\"https://colab.research.google.com/assets/colab-badge.svg\" alt=\"Open In Colab\"/></a>"
      ]
    },
    {
      "cell_type": "code",
      "execution_count": 4,
      "metadata": {
        "colab": {
          "base_uri": "https://localhost:8080/"
        },
        "id": "BWDx3v-P5UoY",
        "outputId": "955bf914-091d-4cb2-8e53-109888dc776e"
      },
      "outputs": [
        {
          "output_type": "stream",
          "name": "stdout",
          "text": [
            "Mounted at /content/drive\n"
          ]
        }
      ],
      "source": [
        "import os\n",
        "import PIL\n",
        "import imageio as iio\n",
        "import numpy as np\n",
        "import shutil\n",
        "from skimage.transform import resize\n",
        "import subprocess\n",
        "from google.colab import drive, files\n",
        "drive.mount('/content/drive')\n",
        "\n",
        "#Uncompressing the raw data\n",
        "if not os.path.isdir('./leftImg8bit/'):\n",
        "  !unzip -n -q ./drive/MyDrive/tensorflow_datasets/downloads/manual/leftImg8bit_trainvaltest.zip\n",
        "if not os.path.isdir('./gtFine/'):\n",
        "  !unzip -n -q ./drive/MyDrive/tensorflow_datasets/downloads/manual/gtFine_trainvaltest.zip\n"
      ]
    },
    {
      "cell_type": "code",
      "execution_count": 5,
      "metadata": {
        "id": "vlf70kis6HKu"
      },
      "outputs": [],
      "source": [
        "## Data Extraction\n",
        "def mask_2_image(path):\n",
        "  # Converts the mask path string to the image path string corresponding to the same sample\n",
        "  parts = path.split('/')\n",
        "  parts[2] = 'leftImg8bit'\n",
        "  file_name = parts[-1].split('_')\n",
        "  file_name[-2] = 'leftImg8bit.png'\n",
        "  file_name = file_name[0:-1]\n",
        "  parts[-1] = '_'.join(file_name)\n",
        "  path = '/'.join(parts)\n",
        "  return path\n",
        "  \n",
        "def extract_files(subset='all', paths='old', download=False):\n",
        "  # Returns filepaths of all labels and images which include a sidewalk segmentation\n",
        "  # Additinionally, moves all valid samples into extraction folders\n",
        "  if not os.path.isdir('/content/extract_labels/'):\n",
        "    os.mkdir('/content/extract_labels/')\n",
        "    os.mkdir('/content/extract_images/')\n",
        "  labels_files = []\n",
        "  img_files = []\n",
        "  if subset == 'all':\n",
        "    subsets = ['train', 'val', 'test']\n",
        "  else:\n",
        "    subsets = [subset]\n",
        "  for group in subsets:\n",
        "    LabelsDir = f'/content/gtFine/{group}'\n",
        "    print(LabelsDir)\n",
        "    for root, dirs, files_list in os.walk(LabelsDir):\n",
        "      for filename in files_list:\n",
        "        if filename.endswith('labelIds.png'):\n",
        "          f = os.path.join(root, filename)\n",
        "          labels = np.array(PIL.Image.open(f))\n",
        "          if 8 in labels:\n",
        "            os.rename(f, '/content/extract_labels/' + '_'.join(f.split('/')[-1].split('_')[0:3]) + '.png')\n",
        "            d = mask_2_image(f)\n",
        "            os.rename(d, '/content/extract_images/' + '_'.join(d.split('/')[-1].split('_')[0:3]) +'.png')\n",
        "            if paths == 'old':\n",
        "              labels_files.append(f)\n",
        "              img_files.append(d)\n",
        "            elif paths == 'new':\n",
        "              labels_files.append('/content/extract_labels/' + '_'.join(f.split('/')[-1].split('_')[0:3]) + '.png')\n",
        "              img_files.append('/content/extract_images/' + '_'.join(d.split('/')[-1].split('_')[0:3]) +'.png')\n",
        "  if download:\n",
        "    !zip -r /content/extracted_images.zip /content/extract_images\n",
        "    !zip -r /content/extracted_labels.zip /content/extract_labels\n",
        "    files.download(\"/content/extracted_images.zip\")\n",
        "    files.download(\"/content/extracted_labels.zip\")\n",
        "  return labels_files, img_files"
      ]
    },
    {
      "cell_type": "markdown",
      "source": [],
      "metadata": {
        "id": "DuKspi0vBP0Z"
      }
    },
    {
      "cell_type": "code",
      "execution_count": 6,
      "metadata": {
        "id": "8TtNMg626rot"
      },
      "outputs": [],
      "source": [
        "## Data Processing and Exporting\n",
        "def process_images(shape=(256, 512, 3)):\n",
        "  #Preprocessing of the images, resizing to standard size\n",
        "  ImageDir = './extract_images/'\n",
        "  if not os.path.isdir('./processed_images/'):\n",
        "    os.mkdir('./processed_images/')\n",
        "  for fil in os.listdir(ImageDir):\n",
        "    image = iio.imread(ImageDir + fil)\n",
        "    image = resize(image, shape)\n",
        "    np.save('./processed_images/' +fil, image)\n",
        "    #iio.imsave('./processed_images/' + fil, image)\n",
        "\n",
        "def process_masks(shape=(256, 512, 1), id=8, name='sidewalk'):\n",
        "  # Preprocessing of the masks: removes all segmentations except sidewalks\n",
        "  # REsizes masks to standard size\n",
        "  LabelDir = f'./extract_labels/'\n",
        "  if not os.path.isdir(f'./processed_{name}/'):\n",
        "    os.mkdir(f'./processed_{name}/')\n",
        "  for fil in os.listdir(LabelDir):\n",
        "    mask = iio.imread(LabelDir + fil)\n",
        "    mask = np.array(mask == id).astype('uint8')\n",
        "    mask = resize(mask, shape)\n",
        "    np.save(f'./processed_{name}/'+fil, mask)\n",
        "    #iio.imsave('./processed_labels/' + fil, mask)\n",
        "\n",
        "def process_files(download=True, purge=True, source='/content/', destination='./drive/MyDrive/tensorflow_datasets/'):\n",
        "  #Processes all extracted files, zips images and labels, then downloads processed data\n",
        "  \n",
        "  #List of segmentation IDs to be segmented, can be updated\n",
        "  ID_log = {\n",
        "      8:'sidewalk',\n",
        "      11:'building',\n",
        "      12:'wall',\n",
        "      13:'fence',\n",
        "      14:'guard_rail',\n",
        "      15:'bridge',\n",
        "      16:'tunnel',\n",
        "      21:'vegetation',\n",
        "      17:'pole',\n",
        "      18:'polegroup'\n",
        "  }\n",
        "  #process_images()\n",
        "  #print('image processing completed')\n",
        "  #!zip -r ./drive/MyDrive/tensorflow_datasets/processed_images.zip /content/processed_images\n",
        "  #if purge:\n",
        "  #  shutil.rmtree(f'{source}processed_images')\n",
        "  #if download:\n",
        "  #  files.download(f\"{destination}processed_images.zip\")\n",
        "  print('image processing completed')\n",
        "  for i in ID_log.keys():\n",
        "    #Skip ID if processed extraction exists\n",
        "    if os.path.exists(f\"{destination}processed_{ID_log[i]}.zip\"):\n",
        "      print(f'{ID_log[i]} exists as processed zip, skipping....')\n",
        "      continue\n",
        "    print(f'processing mask {ID_log[i]}')\n",
        "    process_masks(id=i, name=ID_log[i])\n",
        "    cmd = f'zip -r {destination}processed_{ID_log[i]}.zip {source}processed_{ID_log[i]}'\n",
        "    print(cmd)\n",
        "    subprocess.run(cmd, shell=True)\n",
        "    if purge:\n",
        "      shutil.rmtree(f'{source}processed_{ID_log[i]}')\n",
        "    if download:\n",
        "      files.download(f\"{destination}processed_{ID_log[i]}.zip\")\n",
        "  print('mask processing completed')\n",
        " "
      ]
    },
    {
      "cell_type": "code",
      "source": [
        "extract_files()\n",
        "shutil.rmtree('./gtFine')\n",
        "shutil.rmtree('./leftImg8bit')\n"
      ],
      "metadata": {
        "colab": {
          "base_uri": "https://localhost:8080/"
        },
        "id": "vtXxP21zBawj",
        "outputId": "16ccc27b-42a5-46a5-9426-a9b5370dc8dd"
      },
      "execution_count": 7,
      "outputs": [
        {
          "output_type": "stream",
          "name": "stdout",
          "text": [
            "/content/gtFine/train\n",
            "/content/gtFine/val\n",
            "/content/gtFine/test\n"
          ]
        }
      ]
    },
    {
      "cell_type": "code",
      "execution_count": 8,
      "metadata": {
        "colab": {
          "base_uri": "https://localhost:8080/"
        },
        "id": "Wz4ukGiL6GEn",
        "outputId": "9a145bc2-7a5f-45eb-c0c2-e587ac80e001"
      },
      "outputs": [
        {
          "output_type": "stream",
          "name": "stdout",
          "text": [
            "image processing completed\n",
            "sidewalk exists as processed zip, skipping....\n",
            "building exists as processed zip, skipping....\n",
            "wall exists as processed zip, skipping....\n",
            "fence exists as processed zip, skipping....\n",
            "guard_rail exists as processed zip, skipping....\n",
            "bridge exists as processed zip, skipping....\n",
            "tunnel exists as processed zip, skipping....\n",
            "vegetation exists as processed zip, skipping....\n",
            "pole exists as processed zip, skipping....\n",
            "polegroup exists as processed zip, skipping....\n",
            "mask processing completed\n"
          ]
        }
      ],
      "source": [
        "process_files(download=True, purge=True)"
      ]
    }
  ],
  "metadata": {
    "colab": {
      "provenance": [],
      "authorship_tag": "ABX9TyNVDdq1BrS13L5j4t75G1so",
      "include_colab_link": true
    },
    "kernelspec": {
      "display_name": "Python 3",
      "name": "python3"
    },
    "language_info": {
      "name": "python"
    },
    "accelerator": "GPU",
    "gpuClass": "standard"
  },
  "nbformat": 4,
  "nbformat_minor": 0
}