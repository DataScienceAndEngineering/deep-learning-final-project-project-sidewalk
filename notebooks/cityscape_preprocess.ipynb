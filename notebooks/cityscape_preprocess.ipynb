{
  "nbformat": 4,
  "nbformat_minor": 0,
  "metadata": {
    "colab": {
      "provenance": [],
      "authorship_tag": "ABX9TyOZEs+gMLX8MTxJlJp+y77f",
      "include_colab_link": true
    },
    "kernelspec": {
      "name": "python3",
      "display_name": "Python 3"
    },
    "language_info": {
      "name": "python"
    }
  },
  "cells": [
    {
      "cell_type": "markdown",
      "metadata": {
        "id": "view-in-github",
        "colab_type": "text"
      },
      "source": [
        "<a href=\"https://colab.research.google.com/github/DataScienceAndEngineering/deep-learning-final-project-project-sidewalk/blob/nicholas/notebooks/cityscape_preprocess.ipynb\" target=\"_parent\"><img src=\"https://colab.research.google.com/assets/colab-badge.svg\" alt=\"Open In Colab\"/></a>"
      ]
    },
    {
      "cell_type": "code",
      "execution_count": null,
      "metadata": {
        "id": "BWDx3v-P5UoY"
      },
      "outputs": [],
      "source": [
        "import os\n",
        "import PIL\n",
        "import imageio as iio\n",
        "import numpy as np\n",
        "\n",
        "#Uncompressing the raw data\n",
        "if not os.path.isdir('./leftImg8bit/'):\n",
        "  !unzip -n ./drive/MyDrive/tensorflow_datasets/downloads/manual/leftImg8bit_trainvaltest.zip\n",
        "if not os.path.isdir('./gtFine/'):\n",
        "  !unzip -n ./drive/MyDrive/tensorflow_datasets/downloads/manual/gtFine_trainvaltest.zip\n"
      ]
    },
    {
      "cell_type": "code",
      "source": [
        "## Data Extraction\n",
        "def mask_2_image(path):\n",
        "  # Converts the mask path string to the image path string corresponding to the same sample\n",
        "  parts = path.split('/')\n",
        "  parts[1] = 'leftImg8bit'\n",
        "  file_name = parts[-1].split('_')\n",
        "  file_name[-2] = 'leftImg8bit.png'\n",
        "  file_name = file_name[0:-1]\n",
        "  parts[-1] = '_'.join(file_name)\n",
        "  path = '/'.join(parts)\n",
        "  return path\n",
        "  \n",
        "def extract_files(subset='all', paths='old'):\n",
        "  # Returns filepaths of all labels and images which include a sidewalk segmentation\n",
        "  # Additinionally, moves all valid samples into extraction folders\n",
        "  if not os.path.isdir('./extract_labels/'):\n",
        "    os.mkdir('./extract_labels/')\n",
        "    os.mkdir('./extract_images/')\n",
        "  labels_files = []\n",
        "  img_files = []\n",
        "  if subset == 'all':\n",
        "    subsets = ['train', 'val', 'test']\n",
        "  else:\n",
        "    subsets = [subset]\n",
        "  for group in subsets:\n",
        "    LabelsDir = f'./gtFine/{group}'\n",
        "    print(LabelsDir)\n",
        "    for root, dirs, files_list in os.walk(LabelsDir):\n",
        "      for filename in files_list:\n",
        "        if filename.endswith('labelIds.png'):\n",
        "          f = os.path.join(root, filename)\n",
        "          labels = np.array(PIL.Image.open(f))\n",
        "          if 8 in labels:\n",
        "            os.rename(f, './extract_labels/' + '_'.join(f.split('/')[-1].split('_')[0:3]) + '.png')\n",
        "            d = mask_2_image(f)\n",
        "            os.rename(d, './extract_images/' + '_'.join(d.split('/')[-1].split('_')[0:3]) +'.png')\n",
        "            if paths == 'old':\n",
        "              labels_files.append(f)\n",
        "              img_files.append(d)\n",
        "            elif paths == 'new':\n",
        "              labels_files.append('./extract_labels/' + '_'.join(f.split('/')[-1].split('_')[0:3]) + '.png')\n",
        "              img_files.append('./extract_images/' + '_'.join(d.split('/')[-1].split('_')[0:3]) +'.png')\n",
        "  return labels_files, img_files"
      ],
      "metadata": {
        "id": "vlf70kis6HKu"
      },
      "execution_count": null,
      "outputs": []
    },
    {
      "cell_type": "code",
      "source": [
        "## Data Processing and Exporting\n",
        "def process_images(shape=(256, 512, 3)):\n",
        "  #Preprocessing of the images, resizing to standard size\n",
        "  ImageDir = './extract_images/'\n",
        "  if not os.path.isdir('./processed_images/'):\n",
        "    os.mkdir('./processed_images/')\n",
        "  for fil in os.listdir(ImageDir):\n",
        "    image = iio.imread(ImageDir + fil)\n",
        "    image = resize(image, shape)\n",
        "    iio.imsave('./processed_images/' + fil, image)\n",
        "\n",
        "def process_masks(shape=(256, 512, 1)):\n",
        "  # Preprocessing of the masks: removes all segmentations except sidewalks\n",
        "  # REsizes masks to standard size\n",
        "  LabelDir = './extract_labels/'\n",
        "  if not os.path.isdir('./processed_labels/'):\n",
        "    os.mkdir('./processed_labels/')\n",
        "  for fil in os.listdir(LabelDir):\n",
        "    mask = iio.imread(LabelDir + fil)\n",
        "    mask = np.array(mask == 8).astype('uint8')\n",
        "    mask = resize(mask, shape)\n",
        "    iio.imsave('./processed_labels/' + fil, mask)\n",
        "\n",
        "def process_files(download=True):\n",
        "  #Processes all extracted files, zips images and labels, then downloads processed data\n",
        "  process_images()\n",
        "  process_masks()\n",
        "  !zip -r ./drive/MyDrive/tensorflow_datasets/processed_images.zip /content/processed_images\n",
        "  !zip -r ./drive/MyDrive/tensorflow_datasets/processed_labels.zip /content/processed_labels\n",
        "  if download:\n",
        "    files.download(\"./drive/MyDrive/tensorflow_datasets/processed_images.zip\")\n",
        "    files.download(\"./drive/MyDrive/tensorflow_datasets/processed_labels.zip\")"
      ],
      "metadata": {
        "id": "8TtNMg626rot"
      },
      "execution_count": null,
      "outputs": []
    },
    {
      "cell_type": "code",
      "source": [
        "  extract_files()\n",
        "  process_files(download=False)"
      ],
      "metadata": {
        "id": "Wz4ukGiL6GEn"
      },
      "execution_count": null,
      "outputs": []
    }
  ]
}