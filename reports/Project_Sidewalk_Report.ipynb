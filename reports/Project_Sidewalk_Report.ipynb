{
  "nbformat": 4,
  "nbformat_minor": 0,
  "metadata": {
    "colab": {
      "provenance": [],
      "authorship_tag": "ABX9TyMNy3MmxnTXN9/VOxMlsSaK",
      "include_colab_link": true
    },
    "kernelspec": {
      "name": "python3",
      "display_name": "Python 3"
    },
    "language_info": {
      "name": "python"
    }
  },
  "cells": [
    {
      "cell_type": "markdown",
      "metadata": {
        "id": "view-in-github",
        "colab_type": "text"
      },
      "source": [
        "<a href=\"https://colab.research.google.com/github/DataScienceAndEngineering/deep-learning-final-project-project-sidewalk/blob/main/reports/Project_Sidewalk_Report.ipynb\" target=\"_parent\"><img src=\"https://colab.research.google.com/assets/colab-badge.svg\" alt=\"Open In Colab\"/></a>"
      ]
    },
    {
      "cell_type": "markdown",
      "source": [
        "# Project Sidewalk Report\n",
        "##### Analyzing sidewalk accessibility through images of the street\n",
        "##### Rabiul Hossain, Nicholas Leotta, Nancy Sea\n",
        "\n",
        "\n"
      ],
      "metadata": {
        "id": "YLdvfUQvFmFM"
      }
    },
    {
      "cell_type": "markdown",
      "source": [
        "# **Abstract**\n",
        "This work aims to develop a system capable of quickly determining the level of accessibility of a given sidewalk.  We utilize the Cityscapes Dataset, a collection of 5k images taken from the dashcam of a car around 50 European cities.  Each image is associated with a fine instanced annotation of 30 classes.  This dataset was reduced to the approximately 3k images containing a segment of visible sidewalk.  We utilized multiple models capable of segmenting these images into component objects, planning to further process the location and identity of the objects to determine the degree of obstruction present in the image.\n",
        "\n",
        "We explored multiple methodologies to obstain segmentations; MaskRCNN, UNet, SAM (Segment Anything Model), YOLO, with Random Forest as a baseline.  The MaskRCNN model was the best choice, as it is capable of producing instanced segmentations while also determining the class of the segmented object.  "
      ],
      "metadata": {
        "id": "KP2h13LGJXUn"
      }
    }
  ]
}