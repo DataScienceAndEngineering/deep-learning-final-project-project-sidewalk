{
  "nbformat": 4,
  "nbformat_minor": 0,
  "metadata": {
    "colab": {
      "provenance": [],
      "include_colab_link": true
    },
    "kernelspec": {
      "name": "python3",
      "display_name": "Python 3"
    },
    "language_info": {
      "name": "python"
    }
  },
  "cells": [
    {
      "cell_type": "markdown",
      "metadata": {
        "id": "view-in-github",
        "colab_type": "text"
      },
      "source": [
        "<a href=\"https://colab.research.google.com/github/DataScienceAndEngineering/deep-learning-final-project-project-sidewalk/blob/rabiul/notebooks%20/Rabiul/Baseline_Obs.ipynb\" target=\"_parent\"><img src=\"https://colab.research.google.com/assets/colab-badge.svg\" alt=\"Open In Colab\"/></a>"
      ]
    },
    {
      "cell_type": "code",
      "source": [
        "from google.colab import drive\n",
        "drive.mount('/content/drive', force_remount=True)"
      ],
      "metadata": {
        "colab": {
          "base_uri": "https://localhost:8080/"
        },
        "id": "0RemcjponGfS",
        "outputId": "a4bc443c-8f52-4df0-b81f-e16de7362d9a"
      },
      "execution_count": 2,
      "outputs": [
        {
          "output_type": "stream",
          "name": "stdout",
          "text": [
            "Mounted at /content/drive\n"
          ]
        }
      ]
    },
    {
      "cell_type": "code",
      "source": [
        "import os,sys\n",
        "ROOT_DIR = '/content/drive/MyDrive/cityscapes/models/maskrcnn'\n",
        "sys.path.append(ROOT_DIR)\n",
        "\n",
        "from mrcnn import config, utils, visualize\n",
        "import helper \n",
        "import matplotlib.pyplot as plt\n",
        "import pandas as pd\n",
        "import numpy as np\n",
        "import cv2 as cv\n",
        "import matplotlib.pyplot as plt\n",
        "from skimage import transform\n",
        "import cv2\n",
        "from collections import namedtuple\n",
        "import os, shutil,sys\n",
        "import pandas as pd\n",
        "import numpy as np \n",
        "from skimage.draw import polygon\n",
        "import json\n",
        "from skimage import transform\n",
        "from sklearn.metrics import jaccard_score\n",
        "import random\n",
        "from sklearn.model_selection import train_test_split"
      ],
      "metadata": {
        "id": "zQm3gzjxqYvs"
      },
      "execution_count": 3,
      "outputs": []
    },
    {
      "cell_type": "code",
      "source": [],
      "metadata": {
        "id": "Tf95sawhqw20"
      },
      "execution_count": 4,
      "outputs": []
    },
    {
      "cell_type": "code",
      "source": [
        "IMG_DIR = '/content/drive/MyDrive/cityscapes/data/images'\n",
        "MASK_DIR = '/content/drive/MyDrive/cityscapes/data/segmentations'\n",
        "LABEL_DIR = '/content/drive/MyDrive/cityscapes/data/labels_obs.csv'"
      ],
      "metadata": {
        "id": "XrY1HSMOnJqx"
      },
      "execution_count": 5,
      "outputs": []
    },
    {
      "cell_type": "code",
      "source": [
        "# read all the labels and convert them to dictionary\n",
        "#{img_name: [(class_ids), (obstacle_ids)]}\n",
        "labels = pd.read_csv(LABEL_DIR, index_col=None)\n",
        "labels = labels.set_index('ID').T.to_dict('list')"
      ],
      "metadata": {
        "id": "KvgYjuTwoA9P"
      },
      "execution_count": 242,
      "outputs": []
    },
    {
      "cell_type": "code",
      "source": [
        "labels['krefeld_000000_035398']"
      ],
      "metadata": {
        "id": "8VRB1qwFpqbz"
      },
      "execution_count": null,
      "outputs": []
    },
    {
      "cell_type": "code",
      "source": [
        "def get_bboxes(id, labels):\n",
        "  img_path = f'/content/drive/MyDrive/cityscapes/data/images/{id}.png'  \n",
        "  mask_path = f'/content/drive/MyDrive/cityscapes/data/segmentations/{id}.json'\n",
        "\n",
        "  class_labels, obstruction_labels = labels[0], labels[1]\n",
        "  class_labels, obstruction_labels =  np.array([int(i) for i in class_labels.split(' ')[:-1]]), np.array([int(i) for i in obstruction_labels.split(' ')[:-1]])\n",
        "\n",
        "  # create mask using `helper.createmask`\n",
        "  # output: [H,W, num of labels]\n",
        "  masks = helper.create_mask(mask_path,class_labels, resize= (256,512))\n",
        "  # generate bounding box `utils.extractbboxes`\n",
        "  # bboxes are shape [num of labels, (y1,x1,y2,x2)]\n",
        "  bboxes = utils.extract_bboxes(masks)\n",
        "  return masks, bboxes,obstruction_labels\n",
        "\n",
        "\n",
        "\n",
        "def get_crop(img, crop):\n",
        "  # crop can be achieved with bbox[n]\n",
        "  # check image size against masks size make sure its reized to (256,512) !\n",
        "  y1,x1,y2,x2 = crop\n",
        "  return img[y1:y2,x1:x2]\n"
      ],
      "metadata": {
        "id": "Yd70djA9FLmY"
      },
      "execution_count": 248,
      "outputs": []
    },
    {
      "cell_type": "code",
      "source": [
        "# sample use\n",
        "masks,bboxes,obstruction_labels,class_labels = get_bboxes('krefeld_000000_035398',labels['krefeld_000000_035398'])\n",
        "img = plt.imread('/content/drive/MyDrive/cityscapes/data/images/krefeld_000000_035398.png')\n",
        "img = transform.resize(img,(256,512))\n",
        "img = cv2.cvtColor(img, cv2.COLOR_BGR2GRAY)\n"
      ],
      "metadata": {
        "id": "Dkzu0UfaqOmw"
      },
      "execution_count": 211,
      "outputs": []
    },
    {
      "cell_type": "code",
      "source": [
        "for i, v in enumerate(labels.items()):\n",
        "  train = pd.DataFrame()\n",
        "  x,y = v #x = image id, y = image classes and obstruction classes labels \n",
        "  print(x)\n",
        "  print(y)\n",
        "  break"
      ],
      "metadata": {
        "colab": {
          "base_uri": "https://localhost:8080/"
        },
        "id": "KU_YHimlbnRM",
        "outputId": "8820bb1b-553b-4d57-8d89-3f6490490096"
      },
      "execution_count": 263,
      "outputs": [
        {
          "output_type": "stream",
          "name": "stdout",
          "text": [
            "strasbourg_000000_001278\n",
            "['21 21 21 12 8 12 8 17 21 8 17 17 17 17 17 17 17 17 17 17 17 17 26 26 26 26 21 21 17 17 17 17 26 26 17 17 26 26 26 26 26 26 26 26 ', '0 0 0 1 0 0 0 0 1 0 0 0 0 0 0 0 0 0 0 0 0 0 0 0 0 0 0 0 1 1 1 1 0 0 1 1 0 0 0 0 0 0 0 0 ']\n"
          ]
        }
      ]
    },
    {
      "cell_type": "code",
      "source": [
        "for i, v in enumerate(labels.items()):\n",
        "  \n",
        "  train = pd.DataFrame()\n",
        "  x,y = v #x = image id, y = image classes and obstruction classes labels \n",
        "  #generating image mask, bounding box, and obstruction labels\n",
        "  masks,bboxes,obstruction_labels = get_bboxes('krefeld_000000_035398',labels['krefeld_000000_035398'])\n",
        "  img = cv2.imread('/content/drive/MyDrive/cityscapes/data/images/krefeld_000000_035398.png', 0)\n",
        "  img = transform.resize(img,(256,512))\n",
        "  #img = cv2.cvtColor(img, cv2.COLOR_BGR2GRAY)\n",
        "  for x in range(len(bboxes)):\n",
        "    if 0 in bboxes[x]:\n",
        "      continue\n",
        "    y1,x1,y2,x2 = bboxes[x]\n",
        "    m = img[y1:y2,x1:x2]\n",
        "    m =cv2.resize(m,(200,200))\n",
        "    df2 = pd.DataFrame([m.reshape(-1)])\n",
        "    df2['label'] = obstruction_labels[x]\n",
        "    train =pd.concat([train, df2])\n",
        "  if i==30:\n",
        "    break"
      ],
      "metadata": {
        "id": "QSpuoIoHcOvR"
      },
      "execution_count": null,
      "outputs": []
    },
    {
      "cell_type": "code",
      "source": [
        "masks,bboxes,obstruction_labels = get_bboxes(x,y)"
      ],
      "metadata": {
        "id": "PY_5hQB8b7xi"
      },
      "execution_count": 264,
      "outputs": []
    },
    {
      "cell_type": "code",
      "source": [
        "masks.shape\n"
      ],
      "metadata": {
        "colab": {
          "base_uri": "https://localhost:8080/"
        },
        "id": "NxwJsPBwcCye",
        "outputId": "62988d1e-7d56-45bd-b4e1-da6fb427adad"
      },
      "execution_count": 265,
      "outputs": [
        {
          "output_type": "execute_result",
          "data": {
            "text/plain": [
              "(256, 512, 44)"
            ]
          },
          "metadata": {},
          "execution_count": 265
        }
      ]
    },
    {
      "cell_type": "code",
      "source": [
        "train = pd.DataFrame()\n",
        "for i, v in enumerate(labels.items()):\n",
        "  x,y = v #x = image id, y = image classes and obstruction classes labels \n",
        "  #generating image mask, bounding box, and obstruction labels\n",
        "  img_path = f'/content/drive/MyDrive/cityscapes/data/images/{x}.png' \n",
        "  masks,bboxes,obstruction_labels = get_bboxes(x,y)\n",
        "  img = cv2.imread(img_path, 0)\n",
        "  img = transform.resize(img,(256,512))\n",
        "  #img = cv2.cvtColor(img, cv2.COLOR_BGR2GRAY)\n",
        "  for x in range(len(bboxes)):\n",
        "    if 0 in bboxes[x]:\n",
        "      continue\n",
        "    y1,x1,y2,x2 = bboxes[x]\n",
        "    m = img[y1:y2,x1:x2]\n",
        "    m =cv2.resize(m,(200,200))\n",
        "    df2 = pd.DataFrame([m.reshape(-1)])\n",
        "    df2['label'] = obstruction_labels[x]\n",
        "    train =pd.concat([train, df2])\n",
        "  if i==30:\n",
        "    break"
      ],
      "metadata": {
        "id": "qqMTyEg-TAZT"
      },
      "execution_count": 270,
      "outputs": []
    },
    {
      "cell_type": "code",
      "source": [
        "train.shape"
      ],
      "metadata": {
        "colab": {
          "base_uri": "https://localhost:8080/"
        },
        "id": "CQFDHw_aUqzG",
        "outputId": "463b021d-c2eb-4b69-a77a-225721121b0b"
      },
      "execution_count": 271,
      "outputs": [
        {
          "output_type": "execute_result",
          "data": {
            "text/plain": [
              "(1015, 40001)"
            ]
          },
          "metadata": {},
          "execution_count": 271
        }
      ]
    },
    {
      "cell_type": "code",
      "source": [
        "train.head()"
      ],
      "metadata": {
        "colab": {
          "base_uri": "https://localhost:8080/",
          "height": 280
        },
        "id": "02vpRnzFUq01",
        "outputId": "352f56a0-9e4d-4e12-9e18-4e3c2a50b684"
      },
      "execution_count": 272,
      "outputs": [
        {
          "output_type": "execute_result",
          "data": {
            "text/plain": [
              "          0         1         2         3         4         5         6  \\\n",
              "0  0.198506  0.196024  0.188353  0.180682  0.173484  0.166299  0.162969   \n",
              "0  0.789903  0.789003  0.779174  0.769344  0.750925  0.709821  0.668717   \n",
              "0  0.284077  0.284077  0.284077  0.284077  0.284077  0.284077  0.284077   \n",
              "0  0.267247  0.267247  0.267247  0.267247  0.267247  0.271484  0.277225   \n",
              "0  0.206184  0.206184  0.206184  0.206184  0.206184  0.206184  0.206184   \n",
              "\n",
              "          7         8         9  ...     39991     39992     39993     39994  \\\n",
              "0  0.162025  0.161385  0.161592  ...  0.281117  0.296417  0.308956  0.313222   \n",
              "0  0.657673  0.682236  0.706799  ...  0.170903  0.171636  0.172338  0.173014   \n",
              "0  0.284077  0.284077  0.284077  ...  0.148225  0.148225  0.148225  0.148225   \n",
              "0  0.282967  0.288708  0.294449  ...  0.144443  0.142749  0.141055  0.139361   \n",
              "0  0.206184  0.206184  0.206184  ...  0.313610  0.313610  0.313610  0.313610   \n",
              "\n",
              "      39995     39996     39997     39998     39999  label  \n",
              "0  0.304122  0.295226  0.293074  0.290921  0.290225      0  \n",
              "0  0.173690  0.174004  0.174181  0.174358  0.174375      0  \n",
              "0  0.148225  0.148225  0.148225  0.148225  0.148225      1  \n",
              "0  0.138111  0.138111  0.138111  0.138111  0.138111      0  \n",
              "0  0.313610  0.313610  0.313610  0.313610  0.313610      0  \n",
              "\n",
              "[5 rows x 40001 columns]"
            ],
            "text/html": [
              "\n",
              "  <div id=\"df-bacadac1-0f1b-4f8c-9b43-787116145367\">\n",
              "    <div class=\"colab-df-container\">\n",
              "      <div>\n",
              "<style scoped>\n",
              "    .dataframe tbody tr th:only-of-type {\n",
              "        vertical-align: middle;\n",
              "    }\n",
              "\n",
              "    .dataframe tbody tr th {\n",
              "        vertical-align: top;\n",
              "    }\n",
              "\n",
              "    .dataframe thead th {\n",
              "        text-align: right;\n",
              "    }\n",
              "</style>\n",
              "<table border=\"1\" class=\"dataframe\">\n",
              "  <thead>\n",
              "    <tr style=\"text-align: right;\">\n",
              "      <th></th>\n",
              "      <th>0</th>\n",
              "      <th>1</th>\n",
              "      <th>2</th>\n",
              "      <th>3</th>\n",
              "      <th>4</th>\n",
              "      <th>5</th>\n",
              "      <th>6</th>\n",
              "      <th>7</th>\n",
              "      <th>8</th>\n",
              "      <th>9</th>\n",
              "      <th>...</th>\n",
              "      <th>39991</th>\n",
              "      <th>39992</th>\n",
              "      <th>39993</th>\n",
              "      <th>39994</th>\n",
              "      <th>39995</th>\n",
              "      <th>39996</th>\n",
              "      <th>39997</th>\n",
              "      <th>39998</th>\n",
              "      <th>39999</th>\n",
              "      <th>label</th>\n",
              "    </tr>\n",
              "  </thead>\n",
              "  <tbody>\n",
              "    <tr>\n",
              "      <th>0</th>\n",
              "      <td>0.198506</td>\n",
              "      <td>0.196024</td>\n",
              "      <td>0.188353</td>\n",
              "      <td>0.180682</td>\n",
              "      <td>0.173484</td>\n",
              "      <td>0.166299</td>\n",
              "      <td>0.162969</td>\n",
              "      <td>0.162025</td>\n",
              "      <td>0.161385</td>\n",
              "      <td>0.161592</td>\n",
              "      <td>...</td>\n",
              "      <td>0.281117</td>\n",
              "      <td>0.296417</td>\n",
              "      <td>0.308956</td>\n",
              "      <td>0.313222</td>\n",
              "      <td>0.304122</td>\n",
              "      <td>0.295226</td>\n",
              "      <td>0.293074</td>\n",
              "      <td>0.290921</td>\n",
              "      <td>0.290225</td>\n",
              "      <td>0</td>\n",
              "    </tr>\n",
              "    <tr>\n",
              "      <th>0</th>\n",
              "      <td>0.789903</td>\n",
              "      <td>0.789003</td>\n",
              "      <td>0.779174</td>\n",
              "      <td>0.769344</td>\n",
              "      <td>0.750925</td>\n",
              "      <td>0.709821</td>\n",
              "      <td>0.668717</td>\n",
              "      <td>0.657673</td>\n",
              "      <td>0.682236</td>\n",
              "      <td>0.706799</td>\n",
              "      <td>...</td>\n",
              "      <td>0.170903</td>\n",
              "      <td>0.171636</td>\n",
              "      <td>0.172338</td>\n",
              "      <td>0.173014</td>\n",
              "      <td>0.173690</td>\n",
              "      <td>0.174004</td>\n",
              "      <td>0.174181</td>\n",
              "      <td>0.174358</td>\n",
              "      <td>0.174375</td>\n",
              "      <td>0</td>\n",
              "    </tr>\n",
              "    <tr>\n",
              "      <th>0</th>\n",
              "      <td>0.284077</td>\n",
              "      <td>0.284077</td>\n",
              "      <td>0.284077</td>\n",
              "      <td>0.284077</td>\n",
              "      <td>0.284077</td>\n",
              "      <td>0.284077</td>\n",
              "      <td>0.284077</td>\n",
              "      <td>0.284077</td>\n",
              "      <td>0.284077</td>\n",
              "      <td>0.284077</td>\n",
              "      <td>...</td>\n",
              "      <td>0.148225</td>\n",
              "      <td>0.148225</td>\n",
              "      <td>0.148225</td>\n",
              "      <td>0.148225</td>\n",
              "      <td>0.148225</td>\n",
              "      <td>0.148225</td>\n",
              "      <td>0.148225</td>\n",
              "      <td>0.148225</td>\n",
              "      <td>0.148225</td>\n",
              "      <td>1</td>\n",
              "    </tr>\n",
              "    <tr>\n",
              "      <th>0</th>\n",
              "      <td>0.267247</td>\n",
              "      <td>0.267247</td>\n",
              "      <td>0.267247</td>\n",
              "      <td>0.267247</td>\n",
              "      <td>0.267247</td>\n",
              "      <td>0.271484</td>\n",
              "      <td>0.277225</td>\n",
              "      <td>0.282967</td>\n",
              "      <td>0.288708</td>\n",
              "      <td>0.294449</td>\n",
              "      <td>...</td>\n",
              "      <td>0.144443</td>\n",
              "      <td>0.142749</td>\n",
              "      <td>0.141055</td>\n",
              "      <td>0.139361</td>\n",
              "      <td>0.138111</td>\n",
              "      <td>0.138111</td>\n",
              "      <td>0.138111</td>\n",
              "      <td>0.138111</td>\n",
              "      <td>0.138111</td>\n",
              "      <td>0</td>\n",
              "    </tr>\n",
              "    <tr>\n",
              "      <th>0</th>\n",
              "      <td>0.206184</td>\n",
              "      <td>0.206184</td>\n",
              "      <td>0.206184</td>\n",
              "      <td>0.206184</td>\n",
              "      <td>0.206184</td>\n",
              "      <td>0.206184</td>\n",
              "      <td>0.206184</td>\n",
              "      <td>0.206184</td>\n",
              "      <td>0.206184</td>\n",
              "      <td>0.206184</td>\n",
              "      <td>...</td>\n",
              "      <td>0.313610</td>\n",
              "      <td>0.313610</td>\n",
              "      <td>0.313610</td>\n",
              "      <td>0.313610</td>\n",
              "      <td>0.313610</td>\n",
              "      <td>0.313610</td>\n",
              "      <td>0.313610</td>\n",
              "      <td>0.313610</td>\n",
              "      <td>0.313610</td>\n",
              "      <td>0</td>\n",
              "    </tr>\n",
              "  </tbody>\n",
              "</table>\n",
              "<p>5 rows × 40001 columns</p>\n",
              "</div>\n",
              "      <button class=\"colab-df-convert\" onclick=\"convertToInteractive('df-bacadac1-0f1b-4f8c-9b43-787116145367')\"\n",
              "              title=\"Convert this dataframe to an interactive table.\"\n",
              "              style=\"display:none;\">\n",
              "        \n",
              "  <svg xmlns=\"http://www.w3.org/2000/svg\" height=\"24px\"viewBox=\"0 0 24 24\"\n",
              "       width=\"24px\">\n",
              "    <path d=\"M0 0h24v24H0V0z\" fill=\"none\"/>\n",
              "    <path d=\"M18.56 5.44l.94 2.06.94-2.06 2.06-.94-2.06-.94-.94-2.06-.94 2.06-2.06.94zm-11 1L8.5 8.5l.94-2.06 2.06-.94-2.06-.94L8.5 2.5l-.94 2.06-2.06.94zm10 10l.94 2.06.94-2.06 2.06-.94-2.06-.94-.94-2.06-.94 2.06-2.06.94z\"/><path d=\"M17.41 7.96l-1.37-1.37c-.4-.4-.92-.59-1.43-.59-.52 0-1.04.2-1.43.59L10.3 9.45l-7.72 7.72c-.78.78-.78 2.05 0 2.83L4 21.41c.39.39.9.59 1.41.59.51 0 1.02-.2 1.41-.59l7.78-7.78 2.81-2.81c.8-.78.8-2.07 0-2.86zM5.41 20L4 18.59l7.72-7.72 1.47 1.35L5.41 20z\"/>\n",
              "  </svg>\n",
              "      </button>\n",
              "      \n",
              "  <style>\n",
              "    .colab-df-container {\n",
              "      display:flex;\n",
              "      flex-wrap:wrap;\n",
              "      gap: 12px;\n",
              "    }\n",
              "\n",
              "    .colab-df-convert {\n",
              "      background-color: #E8F0FE;\n",
              "      border: none;\n",
              "      border-radius: 50%;\n",
              "      cursor: pointer;\n",
              "      display: none;\n",
              "      fill: #1967D2;\n",
              "      height: 32px;\n",
              "      padding: 0 0 0 0;\n",
              "      width: 32px;\n",
              "    }\n",
              "\n",
              "    .colab-df-convert:hover {\n",
              "      background-color: #E2EBFA;\n",
              "      box-shadow: 0px 1px 2px rgba(60, 64, 67, 0.3), 0px 1px 3px 1px rgba(60, 64, 67, 0.15);\n",
              "      fill: #174EA6;\n",
              "    }\n",
              "\n",
              "    [theme=dark] .colab-df-convert {\n",
              "      background-color: #3B4455;\n",
              "      fill: #D2E3FC;\n",
              "    }\n",
              "\n",
              "    [theme=dark] .colab-df-convert:hover {\n",
              "      background-color: #434B5C;\n",
              "      box-shadow: 0px 1px 3px 1px rgba(0, 0, 0, 0.15);\n",
              "      filter: drop-shadow(0px 1px 2px rgba(0, 0, 0, 0.3));\n",
              "      fill: #FFFFFF;\n",
              "    }\n",
              "  </style>\n",
              "\n",
              "      <script>\n",
              "        const buttonEl =\n",
              "          document.querySelector('#df-bacadac1-0f1b-4f8c-9b43-787116145367 button.colab-df-convert');\n",
              "        buttonEl.style.display =\n",
              "          google.colab.kernel.accessAllowed ? 'block' : 'none';\n",
              "\n",
              "        async function convertToInteractive(key) {\n",
              "          const element = document.querySelector('#df-bacadac1-0f1b-4f8c-9b43-787116145367');\n",
              "          const dataTable =\n",
              "            await google.colab.kernel.invokeFunction('convertToInteractive',\n",
              "                                                     [key], {});\n",
              "          if (!dataTable) return;\n",
              "\n",
              "          const docLinkHtml = 'Like what you see? Visit the ' +\n",
              "            '<a target=\"_blank\" href=https://colab.research.google.com/notebooks/data_table.ipynb>data table notebook</a>'\n",
              "            + ' to learn more about interactive tables.';\n",
              "          element.innerHTML = '';\n",
              "          dataTable['output_type'] = 'display_data';\n",
              "          await google.colab.output.renderOutput(dataTable, element);\n",
              "          const docLink = document.createElement('div');\n",
              "          docLink.innerHTML = docLinkHtml;\n",
              "          element.appendChild(docLink);\n",
              "        }\n",
              "      </script>\n",
              "    </div>\n",
              "  </div>\n",
              "  "
            ]
          },
          "metadata": {},
          "execution_count": 272
        }
      ]
    },
    {
      "cell_type": "code",
      "source": [
        "cd /content/drive/MyDrive/DeepLearning/data"
      ],
      "metadata": {
        "colab": {
          "base_uri": "https://localhost:8080/"
        },
        "id": "b3VgrmbCkcVH",
        "outputId": "9d671b81-4435-4e78-eecb-08fc8df06c98"
      },
      "execution_count": 273,
      "outputs": [
        {
          "output_type": "stream",
          "name": "stdout",
          "text": [
            "/content/drive/MyDrive/DeepLearning/data\n"
          ]
        }
      ]
    },
    {
      "cell_type": "code",
      "source": [
        "train.to_csv('train_obs.csv', index=False)"
      ],
      "metadata": {
        "id": "UeeP1ugtkdSR"
      },
      "execution_count": 274,
      "outputs": []
    },
    {
      "cell_type": "code",
      "source": [
        "df1 = train.copy()"
      ],
      "metadata": {
        "id": "DZJte97NkdV2"
      },
      "execution_count": 276,
      "outputs": []
    },
    {
      "cell_type": "code",
      "source": [
        "df2 = train[train.label != 0]"
      ],
      "metadata": {
        "id": "8k-761inkdYh"
      },
      "execution_count": 279,
      "outputs": []
    },
    {
      "cell_type": "code",
      "source": [
        "df2.head()"
      ],
      "metadata": {
        "colab": {
          "base_uri": "https://localhost:8080/",
          "height": 280
        },
        "id": "ri5pYoaCkdbc",
        "outputId": "1a38b29e-5685-4d29-bb26-e11786973b2c"
      },
      "execution_count": 281,
      "outputs": [
        {
          "output_type": "execute_result",
          "data": {
            "text/plain": [
              "          0         1         2         3         4         5         6  \\\n",
              "0  0.284077  0.284077  0.284077  0.284077  0.284077  0.284077  0.284077   \n",
              "0  0.143719  0.142436  0.138472  0.134507  0.134095  0.133792  0.136460   \n",
              "0  0.501563  0.501563  0.501563  0.501563  0.501563  0.501563  0.501563   \n",
              "0  0.220909  0.220909  0.220909  0.220909  0.220909  0.220909  0.220909   \n",
              "0  0.274863  0.274863  0.274863  0.274863  0.274863  0.274863  0.274863   \n",
              "\n",
              "          7         8         9  ...     39991     39992     39993     39994  \\\n",
              "0  0.284077  0.284077  0.284077  ...  0.148225  0.148225  0.148225  0.148225   \n",
              "0  0.140967  0.144563  0.145629  ...  0.208193  0.211590  0.214028  0.217751   \n",
              "0  0.501563  0.501563  0.501563  ...  0.153082  0.153082  0.153082  0.153082   \n",
              "0  0.220909  0.220909  0.220909  ...  0.454833  0.454833  0.454833  0.454833   \n",
              "0  0.274863  0.274863  0.274863  ...  0.451610  0.451610  0.451610  0.451610   \n",
              "\n",
              "      39995     39996     39997     39998     39999  label  \n",
              "0  0.148225  0.148225  0.148225  0.148225  0.148225      1  \n",
              "0  0.223549  0.229259  0.232038  0.234818  0.235717      1  \n",
              "0  0.153082  0.153082  0.153082  0.153082  0.153082      1  \n",
              "0  0.454833  0.454833  0.454833  0.454833  0.454833      1  \n",
              "0  0.451610  0.451610  0.451610  0.451610  0.451610      1  \n",
              "\n",
              "[5 rows x 40001 columns]"
            ],
            "text/html": [
              "\n",
              "  <div id=\"df-e0113a6b-e570-41a6-80bd-bab991b45b3d\">\n",
              "    <div class=\"colab-df-container\">\n",
              "      <div>\n",
              "<style scoped>\n",
              "    .dataframe tbody tr th:only-of-type {\n",
              "        vertical-align: middle;\n",
              "    }\n",
              "\n",
              "    .dataframe tbody tr th {\n",
              "        vertical-align: top;\n",
              "    }\n",
              "\n",
              "    .dataframe thead th {\n",
              "        text-align: right;\n",
              "    }\n",
              "</style>\n",
              "<table border=\"1\" class=\"dataframe\">\n",
              "  <thead>\n",
              "    <tr style=\"text-align: right;\">\n",
              "      <th></th>\n",
              "      <th>0</th>\n",
              "      <th>1</th>\n",
              "      <th>2</th>\n",
              "      <th>3</th>\n",
              "      <th>4</th>\n",
              "      <th>5</th>\n",
              "      <th>6</th>\n",
              "      <th>7</th>\n",
              "      <th>8</th>\n",
              "      <th>9</th>\n",
              "      <th>...</th>\n",
              "      <th>39991</th>\n",
              "      <th>39992</th>\n",
              "      <th>39993</th>\n",
              "      <th>39994</th>\n",
              "      <th>39995</th>\n",
              "      <th>39996</th>\n",
              "      <th>39997</th>\n",
              "      <th>39998</th>\n",
              "      <th>39999</th>\n",
              "      <th>label</th>\n",
              "    </tr>\n",
              "  </thead>\n",
              "  <tbody>\n",
              "    <tr>\n",
              "      <th>0</th>\n",
              "      <td>0.284077</td>\n",
              "      <td>0.284077</td>\n",
              "      <td>0.284077</td>\n",
              "      <td>0.284077</td>\n",
              "      <td>0.284077</td>\n",
              "      <td>0.284077</td>\n",
              "      <td>0.284077</td>\n",
              "      <td>0.284077</td>\n",
              "      <td>0.284077</td>\n",
              "      <td>0.284077</td>\n",
              "      <td>...</td>\n",
              "      <td>0.148225</td>\n",
              "      <td>0.148225</td>\n",
              "      <td>0.148225</td>\n",
              "      <td>0.148225</td>\n",
              "      <td>0.148225</td>\n",
              "      <td>0.148225</td>\n",
              "      <td>0.148225</td>\n",
              "      <td>0.148225</td>\n",
              "      <td>0.148225</td>\n",
              "      <td>1</td>\n",
              "    </tr>\n",
              "    <tr>\n",
              "      <th>0</th>\n",
              "      <td>0.143719</td>\n",
              "      <td>0.142436</td>\n",
              "      <td>0.138472</td>\n",
              "      <td>0.134507</td>\n",
              "      <td>0.134095</td>\n",
              "      <td>0.133792</td>\n",
              "      <td>0.136460</td>\n",
              "      <td>0.140967</td>\n",
              "      <td>0.144563</td>\n",
              "      <td>0.145629</td>\n",
              "      <td>...</td>\n",
              "      <td>0.208193</td>\n",
              "      <td>0.211590</td>\n",
              "      <td>0.214028</td>\n",
              "      <td>0.217751</td>\n",
              "      <td>0.223549</td>\n",
              "      <td>0.229259</td>\n",
              "      <td>0.232038</td>\n",
              "      <td>0.234818</td>\n",
              "      <td>0.235717</td>\n",
              "      <td>1</td>\n",
              "    </tr>\n",
              "    <tr>\n",
              "      <th>0</th>\n",
              "      <td>0.501563</td>\n",
              "      <td>0.501563</td>\n",
              "      <td>0.501563</td>\n",
              "      <td>0.501563</td>\n",
              "      <td>0.501563</td>\n",
              "      <td>0.501563</td>\n",
              "      <td>0.501563</td>\n",
              "      <td>0.501563</td>\n",
              "      <td>0.501563</td>\n",
              "      <td>0.501563</td>\n",
              "      <td>...</td>\n",
              "      <td>0.153082</td>\n",
              "      <td>0.153082</td>\n",
              "      <td>0.153082</td>\n",
              "      <td>0.153082</td>\n",
              "      <td>0.153082</td>\n",
              "      <td>0.153082</td>\n",
              "      <td>0.153082</td>\n",
              "      <td>0.153082</td>\n",
              "      <td>0.153082</td>\n",
              "      <td>1</td>\n",
              "    </tr>\n",
              "    <tr>\n",
              "      <th>0</th>\n",
              "      <td>0.220909</td>\n",
              "      <td>0.220909</td>\n",
              "      <td>0.220909</td>\n",
              "      <td>0.220909</td>\n",
              "      <td>0.220909</td>\n",
              "      <td>0.220909</td>\n",
              "      <td>0.220909</td>\n",
              "      <td>0.220909</td>\n",
              "      <td>0.220909</td>\n",
              "      <td>0.220909</td>\n",
              "      <td>...</td>\n",
              "      <td>0.454833</td>\n",
              "      <td>0.454833</td>\n",
              "      <td>0.454833</td>\n",
              "      <td>0.454833</td>\n",
              "      <td>0.454833</td>\n",
              "      <td>0.454833</td>\n",
              "      <td>0.454833</td>\n",
              "      <td>0.454833</td>\n",
              "      <td>0.454833</td>\n",
              "      <td>1</td>\n",
              "    </tr>\n",
              "    <tr>\n",
              "      <th>0</th>\n",
              "      <td>0.274863</td>\n",
              "      <td>0.274863</td>\n",
              "      <td>0.274863</td>\n",
              "      <td>0.274863</td>\n",
              "      <td>0.274863</td>\n",
              "      <td>0.274863</td>\n",
              "      <td>0.274863</td>\n",
              "      <td>0.274863</td>\n",
              "      <td>0.274863</td>\n",
              "      <td>0.274863</td>\n",
              "      <td>...</td>\n",
              "      <td>0.451610</td>\n",
              "      <td>0.451610</td>\n",
              "      <td>0.451610</td>\n",
              "      <td>0.451610</td>\n",
              "      <td>0.451610</td>\n",
              "      <td>0.451610</td>\n",
              "      <td>0.451610</td>\n",
              "      <td>0.451610</td>\n",
              "      <td>0.451610</td>\n",
              "      <td>1</td>\n",
              "    </tr>\n",
              "  </tbody>\n",
              "</table>\n",
              "<p>5 rows × 40001 columns</p>\n",
              "</div>\n",
              "      <button class=\"colab-df-convert\" onclick=\"convertToInteractive('df-e0113a6b-e570-41a6-80bd-bab991b45b3d')\"\n",
              "              title=\"Convert this dataframe to an interactive table.\"\n",
              "              style=\"display:none;\">\n",
              "        \n",
              "  <svg xmlns=\"http://www.w3.org/2000/svg\" height=\"24px\"viewBox=\"0 0 24 24\"\n",
              "       width=\"24px\">\n",
              "    <path d=\"M0 0h24v24H0V0z\" fill=\"none\"/>\n",
              "    <path d=\"M18.56 5.44l.94 2.06.94-2.06 2.06-.94-2.06-.94-.94-2.06-.94 2.06-2.06.94zm-11 1L8.5 8.5l.94-2.06 2.06-.94-2.06-.94L8.5 2.5l-.94 2.06-2.06.94zm10 10l.94 2.06.94-2.06 2.06-.94-2.06-.94-.94-2.06-.94 2.06-2.06.94z\"/><path d=\"M17.41 7.96l-1.37-1.37c-.4-.4-.92-.59-1.43-.59-.52 0-1.04.2-1.43.59L10.3 9.45l-7.72 7.72c-.78.78-.78 2.05 0 2.83L4 21.41c.39.39.9.59 1.41.59.51 0 1.02-.2 1.41-.59l7.78-7.78 2.81-2.81c.8-.78.8-2.07 0-2.86zM5.41 20L4 18.59l7.72-7.72 1.47 1.35L5.41 20z\"/>\n",
              "  </svg>\n",
              "      </button>\n",
              "      \n",
              "  <style>\n",
              "    .colab-df-container {\n",
              "      display:flex;\n",
              "      flex-wrap:wrap;\n",
              "      gap: 12px;\n",
              "    }\n",
              "\n",
              "    .colab-df-convert {\n",
              "      background-color: #E8F0FE;\n",
              "      border: none;\n",
              "      border-radius: 50%;\n",
              "      cursor: pointer;\n",
              "      display: none;\n",
              "      fill: #1967D2;\n",
              "      height: 32px;\n",
              "      padding: 0 0 0 0;\n",
              "      width: 32px;\n",
              "    }\n",
              "\n",
              "    .colab-df-convert:hover {\n",
              "      background-color: #E2EBFA;\n",
              "      box-shadow: 0px 1px 2px rgba(60, 64, 67, 0.3), 0px 1px 3px 1px rgba(60, 64, 67, 0.15);\n",
              "      fill: #174EA6;\n",
              "    }\n",
              "\n",
              "    [theme=dark] .colab-df-convert {\n",
              "      background-color: #3B4455;\n",
              "      fill: #D2E3FC;\n",
              "    }\n",
              "\n",
              "    [theme=dark] .colab-df-convert:hover {\n",
              "      background-color: #434B5C;\n",
              "      box-shadow: 0px 1px 3px 1px rgba(0, 0, 0, 0.15);\n",
              "      filter: drop-shadow(0px 1px 2px rgba(0, 0, 0, 0.3));\n",
              "      fill: #FFFFFF;\n",
              "    }\n",
              "  </style>\n",
              "\n",
              "      <script>\n",
              "        const buttonEl =\n",
              "          document.querySelector('#df-e0113a6b-e570-41a6-80bd-bab991b45b3d button.colab-df-convert');\n",
              "        buttonEl.style.display =\n",
              "          google.colab.kernel.accessAllowed ? 'block' : 'none';\n",
              "\n",
              "        async function convertToInteractive(key) {\n",
              "          const element = document.querySelector('#df-e0113a6b-e570-41a6-80bd-bab991b45b3d');\n",
              "          const dataTable =\n",
              "            await google.colab.kernel.invokeFunction('convertToInteractive',\n",
              "                                                     [key], {});\n",
              "          if (!dataTable) return;\n",
              "\n",
              "          const docLinkHtml = 'Like what you see? Visit the ' +\n",
              "            '<a target=\"_blank\" href=https://colab.research.google.com/notebooks/data_table.ipynb>data table notebook</a>'\n",
              "            + ' to learn more about interactive tables.';\n",
              "          element.innerHTML = '';\n",
              "          dataTable['output_type'] = 'display_data';\n",
              "          await google.colab.output.renderOutput(dataTable, element);\n",
              "          const docLink = document.createElement('div');\n",
              "          docLink.innerHTML = docLinkHtml;\n",
              "          element.appendChild(docLink);\n",
              "        }\n",
              "      </script>\n",
              "    </div>\n",
              "  </div>\n",
              "  "
            ]
          },
          "metadata": {},
          "execution_count": 281
        }
      ]
    },
    {
      "cell_type": "code",
      "source": [
        "df3 = train[train.label == 0]"
      ],
      "metadata": {
        "id": "xzF6v6MZl6ZO"
      },
      "execution_count": 282,
      "outputs": []
    },
    {
      "cell_type": "code",
      "source": [],
      "metadata": {
        "id": "2mnWFdl9mhjM"
      },
      "execution_count": null,
      "outputs": []
    },
    {
      "cell_type": "code",
      "source": [
        "df4 = df3.iloc[:300]\n",
        "print(df4.shape)\n",
        "df4.head(2)"
      ],
      "metadata": {
        "colab": {
          "base_uri": "https://localhost:8080/",
          "height": 203
        },
        "id": "8Va8Rn6Sl-6M",
        "outputId": "8c49772f-203f-4bf3-ad90-87dddc305f4d"
      },
      "execution_count": 287,
      "outputs": [
        {
          "output_type": "stream",
          "name": "stdout",
          "text": [
            "(300, 40001)\n"
          ]
        },
        {
          "output_type": "execute_result",
          "data": {
            "text/plain": [
              "          0         1         2         3         4         5         6  \\\n",
              "0  0.198506  0.196024  0.188353  0.180682  0.173484  0.166299  0.162969   \n",
              "0  0.789903  0.789003  0.779174  0.769344  0.750925  0.709821  0.668717   \n",
              "\n",
              "          7         8         9  ...     39991     39992     39993     39994  \\\n",
              "0  0.162025  0.161385  0.161592  ...  0.281117  0.296417  0.308956  0.313222   \n",
              "0  0.657673  0.682236  0.706799  ...  0.170903  0.171636  0.172338  0.173014   \n",
              "\n",
              "      39995     39996     39997     39998     39999  label  \n",
              "0  0.304122  0.295226  0.293074  0.290921  0.290225      0  \n",
              "0  0.173690  0.174004  0.174181  0.174358  0.174375      0  \n",
              "\n",
              "[2 rows x 40001 columns]"
            ],
            "text/html": [
              "\n",
              "  <div id=\"df-0a442fcc-618e-4233-95f3-3b7397903e90\">\n",
              "    <div class=\"colab-df-container\">\n",
              "      <div>\n",
              "<style scoped>\n",
              "    .dataframe tbody tr th:only-of-type {\n",
              "        vertical-align: middle;\n",
              "    }\n",
              "\n",
              "    .dataframe tbody tr th {\n",
              "        vertical-align: top;\n",
              "    }\n",
              "\n",
              "    .dataframe thead th {\n",
              "        text-align: right;\n",
              "    }\n",
              "</style>\n",
              "<table border=\"1\" class=\"dataframe\">\n",
              "  <thead>\n",
              "    <tr style=\"text-align: right;\">\n",
              "      <th></th>\n",
              "      <th>0</th>\n",
              "      <th>1</th>\n",
              "      <th>2</th>\n",
              "      <th>3</th>\n",
              "      <th>4</th>\n",
              "      <th>5</th>\n",
              "      <th>6</th>\n",
              "      <th>7</th>\n",
              "      <th>8</th>\n",
              "      <th>9</th>\n",
              "      <th>...</th>\n",
              "      <th>39991</th>\n",
              "      <th>39992</th>\n",
              "      <th>39993</th>\n",
              "      <th>39994</th>\n",
              "      <th>39995</th>\n",
              "      <th>39996</th>\n",
              "      <th>39997</th>\n",
              "      <th>39998</th>\n",
              "      <th>39999</th>\n",
              "      <th>label</th>\n",
              "    </tr>\n",
              "  </thead>\n",
              "  <tbody>\n",
              "    <tr>\n",
              "      <th>0</th>\n",
              "      <td>0.198506</td>\n",
              "      <td>0.196024</td>\n",
              "      <td>0.188353</td>\n",
              "      <td>0.180682</td>\n",
              "      <td>0.173484</td>\n",
              "      <td>0.166299</td>\n",
              "      <td>0.162969</td>\n",
              "      <td>0.162025</td>\n",
              "      <td>0.161385</td>\n",
              "      <td>0.161592</td>\n",
              "      <td>...</td>\n",
              "      <td>0.281117</td>\n",
              "      <td>0.296417</td>\n",
              "      <td>0.308956</td>\n",
              "      <td>0.313222</td>\n",
              "      <td>0.304122</td>\n",
              "      <td>0.295226</td>\n",
              "      <td>0.293074</td>\n",
              "      <td>0.290921</td>\n",
              "      <td>0.290225</td>\n",
              "      <td>0</td>\n",
              "    </tr>\n",
              "    <tr>\n",
              "      <th>0</th>\n",
              "      <td>0.789903</td>\n",
              "      <td>0.789003</td>\n",
              "      <td>0.779174</td>\n",
              "      <td>0.769344</td>\n",
              "      <td>0.750925</td>\n",
              "      <td>0.709821</td>\n",
              "      <td>0.668717</td>\n",
              "      <td>0.657673</td>\n",
              "      <td>0.682236</td>\n",
              "      <td>0.706799</td>\n",
              "      <td>...</td>\n",
              "      <td>0.170903</td>\n",
              "      <td>0.171636</td>\n",
              "      <td>0.172338</td>\n",
              "      <td>0.173014</td>\n",
              "      <td>0.173690</td>\n",
              "      <td>0.174004</td>\n",
              "      <td>0.174181</td>\n",
              "      <td>0.174358</td>\n",
              "      <td>0.174375</td>\n",
              "      <td>0</td>\n",
              "    </tr>\n",
              "  </tbody>\n",
              "</table>\n",
              "<p>2 rows × 40001 columns</p>\n",
              "</div>\n",
              "      <button class=\"colab-df-convert\" onclick=\"convertToInteractive('df-0a442fcc-618e-4233-95f3-3b7397903e90')\"\n",
              "              title=\"Convert this dataframe to an interactive table.\"\n",
              "              style=\"display:none;\">\n",
              "        \n",
              "  <svg xmlns=\"http://www.w3.org/2000/svg\" height=\"24px\"viewBox=\"0 0 24 24\"\n",
              "       width=\"24px\">\n",
              "    <path d=\"M0 0h24v24H0V0z\" fill=\"none\"/>\n",
              "    <path d=\"M18.56 5.44l.94 2.06.94-2.06 2.06-.94-2.06-.94-.94-2.06-.94 2.06-2.06.94zm-11 1L8.5 8.5l.94-2.06 2.06-.94-2.06-.94L8.5 2.5l-.94 2.06-2.06.94zm10 10l.94 2.06.94-2.06 2.06-.94-2.06-.94-.94-2.06-.94 2.06-2.06.94z\"/><path d=\"M17.41 7.96l-1.37-1.37c-.4-.4-.92-.59-1.43-.59-.52 0-1.04.2-1.43.59L10.3 9.45l-7.72 7.72c-.78.78-.78 2.05 0 2.83L4 21.41c.39.39.9.59 1.41.59.51 0 1.02-.2 1.41-.59l7.78-7.78 2.81-2.81c.8-.78.8-2.07 0-2.86zM5.41 20L4 18.59l7.72-7.72 1.47 1.35L5.41 20z\"/>\n",
              "  </svg>\n",
              "      </button>\n",
              "      \n",
              "  <style>\n",
              "    .colab-df-container {\n",
              "      display:flex;\n",
              "      flex-wrap:wrap;\n",
              "      gap: 12px;\n",
              "    }\n",
              "\n",
              "    .colab-df-convert {\n",
              "      background-color: #E8F0FE;\n",
              "      border: none;\n",
              "      border-radius: 50%;\n",
              "      cursor: pointer;\n",
              "      display: none;\n",
              "      fill: #1967D2;\n",
              "      height: 32px;\n",
              "      padding: 0 0 0 0;\n",
              "      width: 32px;\n",
              "    }\n",
              "\n",
              "    .colab-df-convert:hover {\n",
              "      background-color: #E2EBFA;\n",
              "      box-shadow: 0px 1px 2px rgba(60, 64, 67, 0.3), 0px 1px 3px 1px rgba(60, 64, 67, 0.15);\n",
              "      fill: #174EA6;\n",
              "    }\n",
              "\n",
              "    [theme=dark] .colab-df-convert {\n",
              "      background-color: #3B4455;\n",
              "      fill: #D2E3FC;\n",
              "    }\n",
              "\n",
              "    [theme=dark] .colab-df-convert:hover {\n",
              "      background-color: #434B5C;\n",
              "      box-shadow: 0px 1px 3px 1px rgba(0, 0, 0, 0.15);\n",
              "      filter: drop-shadow(0px 1px 2px rgba(0, 0, 0, 0.3));\n",
              "      fill: #FFFFFF;\n",
              "    }\n",
              "  </style>\n",
              "\n",
              "      <script>\n",
              "        const buttonEl =\n",
              "          document.querySelector('#df-0a442fcc-618e-4233-95f3-3b7397903e90 button.colab-df-convert');\n",
              "        buttonEl.style.display =\n",
              "          google.colab.kernel.accessAllowed ? 'block' : 'none';\n",
              "\n",
              "        async function convertToInteractive(key) {\n",
              "          const element = document.querySelector('#df-0a442fcc-618e-4233-95f3-3b7397903e90');\n",
              "          const dataTable =\n",
              "            await google.colab.kernel.invokeFunction('convertToInteractive',\n",
              "                                                     [key], {});\n",
              "          if (!dataTable) return;\n",
              "\n",
              "          const docLinkHtml = 'Like what you see? Visit the ' +\n",
              "            '<a target=\"_blank\" href=https://colab.research.google.com/notebooks/data_table.ipynb>data table notebook</a>'\n",
              "            + ' to learn more about interactive tables.';\n",
              "          element.innerHTML = '';\n",
              "          dataTable['output_type'] = 'display_data';\n",
              "          await google.colab.output.renderOutput(dataTable, element);\n",
              "          const docLink = document.createElement('div');\n",
              "          docLink.innerHTML = docLinkHtml;\n",
              "          element.appendChild(docLink);\n",
              "        }\n",
              "      </script>\n",
              "    </div>\n",
              "  </div>\n",
              "  "
            ]
          },
          "metadata": {},
          "execution_count": 287
        }
      ]
    },
    {
      "cell_type": "code",
      "source": [
        "df2.shape"
      ],
      "metadata": {
        "colab": {
          "base_uri": "https://localhost:8080/"
        },
        "id": "A6SZKNLXmiXc",
        "outputId": "f7e710c7-a02a-4d56-cb09-43fdad397a59"
      },
      "execution_count": 288,
      "outputs": [
        {
          "output_type": "execute_result",
          "data": {
            "text/plain": [
              "(278, 40001)"
            ]
          },
          "metadata": {},
          "execution_count": 288
        }
      ]
    },
    {
      "cell_type": "code",
      "source": [
        "train_final = pd.concat([df4, df2])\n",
        "print(train_final.shape)\n",
        "train_final.head(2)"
      ],
      "metadata": {
        "colab": {
          "base_uri": "https://localhost:8080/",
          "height": 203
        },
        "id": "N4G34vEdl-8v",
        "outputId": "bd11481d-727d-4d75-8340-d4de9ed026a2"
      },
      "execution_count": 290,
      "outputs": [
        {
          "output_type": "stream",
          "name": "stdout",
          "text": [
            "(578, 40001)\n"
          ]
        },
        {
          "output_type": "execute_result",
          "data": {
            "text/plain": [
              "          0         1         2         3         4         5         6  \\\n",
              "0  0.198506  0.196024  0.188353  0.180682  0.173484  0.166299  0.162969   \n",
              "0  0.789903  0.789003  0.779174  0.769344  0.750925  0.709821  0.668717   \n",
              "\n",
              "          7         8         9  ...     39991     39992     39993     39994  \\\n",
              "0  0.162025  0.161385  0.161592  ...  0.281117  0.296417  0.308956  0.313222   \n",
              "0  0.657673  0.682236  0.706799  ...  0.170903  0.171636  0.172338  0.173014   \n",
              "\n",
              "      39995     39996     39997     39998     39999  label  \n",
              "0  0.304122  0.295226  0.293074  0.290921  0.290225      0  \n",
              "0  0.173690  0.174004  0.174181  0.174358  0.174375      0  \n",
              "\n",
              "[2 rows x 40001 columns]"
            ],
            "text/html": [
              "\n",
              "  <div id=\"df-e9f2611b-d7c3-4c3d-8e30-9a511c7b64ad\">\n",
              "    <div class=\"colab-df-container\">\n",
              "      <div>\n",
              "<style scoped>\n",
              "    .dataframe tbody tr th:only-of-type {\n",
              "        vertical-align: middle;\n",
              "    }\n",
              "\n",
              "    .dataframe tbody tr th {\n",
              "        vertical-align: top;\n",
              "    }\n",
              "\n",
              "    .dataframe thead th {\n",
              "        text-align: right;\n",
              "    }\n",
              "</style>\n",
              "<table border=\"1\" class=\"dataframe\">\n",
              "  <thead>\n",
              "    <tr style=\"text-align: right;\">\n",
              "      <th></th>\n",
              "      <th>0</th>\n",
              "      <th>1</th>\n",
              "      <th>2</th>\n",
              "      <th>3</th>\n",
              "      <th>4</th>\n",
              "      <th>5</th>\n",
              "      <th>6</th>\n",
              "      <th>7</th>\n",
              "      <th>8</th>\n",
              "      <th>9</th>\n",
              "      <th>...</th>\n",
              "      <th>39991</th>\n",
              "      <th>39992</th>\n",
              "      <th>39993</th>\n",
              "      <th>39994</th>\n",
              "      <th>39995</th>\n",
              "      <th>39996</th>\n",
              "      <th>39997</th>\n",
              "      <th>39998</th>\n",
              "      <th>39999</th>\n",
              "      <th>label</th>\n",
              "    </tr>\n",
              "  </thead>\n",
              "  <tbody>\n",
              "    <tr>\n",
              "      <th>0</th>\n",
              "      <td>0.198506</td>\n",
              "      <td>0.196024</td>\n",
              "      <td>0.188353</td>\n",
              "      <td>0.180682</td>\n",
              "      <td>0.173484</td>\n",
              "      <td>0.166299</td>\n",
              "      <td>0.162969</td>\n",
              "      <td>0.162025</td>\n",
              "      <td>0.161385</td>\n",
              "      <td>0.161592</td>\n",
              "      <td>...</td>\n",
              "      <td>0.281117</td>\n",
              "      <td>0.296417</td>\n",
              "      <td>0.308956</td>\n",
              "      <td>0.313222</td>\n",
              "      <td>0.304122</td>\n",
              "      <td>0.295226</td>\n",
              "      <td>0.293074</td>\n",
              "      <td>0.290921</td>\n",
              "      <td>0.290225</td>\n",
              "      <td>0</td>\n",
              "    </tr>\n",
              "    <tr>\n",
              "      <th>0</th>\n",
              "      <td>0.789903</td>\n",
              "      <td>0.789003</td>\n",
              "      <td>0.779174</td>\n",
              "      <td>0.769344</td>\n",
              "      <td>0.750925</td>\n",
              "      <td>0.709821</td>\n",
              "      <td>0.668717</td>\n",
              "      <td>0.657673</td>\n",
              "      <td>0.682236</td>\n",
              "      <td>0.706799</td>\n",
              "      <td>...</td>\n",
              "      <td>0.170903</td>\n",
              "      <td>0.171636</td>\n",
              "      <td>0.172338</td>\n",
              "      <td>0.173014</td>\n",
              "      <td>0.173690</td>\n",
              "      <td>0.174004</td>\n",
              "      <td>0.174181</td>\n",
              "      <td>0.174358</td>\n",
              "      <td>0.174375</td>\n",
              "      <td>0</td>\n",
              "    </tr>\n",
              "  </tbody>\n",
              "</table>\n",
              "<p>2 rows × 40001 columns</p>\n",
              "</div>\n",
              "      <button class=\"colab-df-convert\" onclick=\"convertToInteractive('df-e9f2611b-d7c3-4c3d-8e30-9a511c7b64ad')\"\n",
              "              title=\"Convert this dataframe to an interactive table.\"\n",
              "              style=\"display:none;\">\n",
              "        \n",
              "  <svg xmlns=\"http://www.w3.org/2000/svg\" height=\"24px\"viewBox=\"0 0 24 24\"\n",
              "       width=\"24px\">\n",
              "    <path d=\"M0 0h24v24H0V0z\" fill=\"none\"/>\n",
              "    <path d=\"M18.56 5.44l.94 2.06.94-2.06 2.06-.94-2.06-.94-.94-2.06-.94 2.06-2.06.94zm-11 1L8.5 8.5l.94-2.06 2.06-.94-2.06-.94L8.5 2.5l-.94 2.06-2.06.94zm10 10l.94 2.06.94-2.06 2.06-.94-2.06-.94-.94-2.06-.94 2.06-2.06.94z\"/><path d=\"M17.41 7.96l-1.37-1.37c-.4-.4-.92-.59-1.43-.59-.52 0-1.04.2-1.43.59L10.3 9.45l-7.72 7.72c-.78.78-.78 2.05 0 2.83L4 21.41c.39.39.9.59 1.41.59.51 0 1.02-.2 1.41-.59l7.78-7.78 2.81-2.81c.8-.78.8-2.07 0-2.86zM5.41 20L4 18.59l7.72-7.72 1.47 1.35L5.41 20z\"/>\n",
              "  </svg>\n",
              "      </button>\n",
              "      \n",
              "  <style>\n",
              "    .colab-df-container {\n",
              "      display:flex;\n",
              "      flex-wrap:wrap;\n",
              "      gap: 12px;\n",
              "    }\n",
              "\n",
              "    .colab-df-convert {\n",
              "      background-color: #E8F0FE;\n",
              "      border: none;\n",
              "      border-radius: 50%;\n",
              "      cursor: pointer;\n",
              "      display: none;\n",
              "      fill: #1967D2;\n",
              "      height: 32px;\n",
              "      padding: 0 0 0 0;\n",
              "      width: 32px;\n",
              "    }\n",
              "\n",
              "    .colab-df-convert:hover {\n",
              "      background-color: #E2EBFA;\n",
              "      box-shadow: 0px 1px 2px rgba(60, 64, 67, 0.3), 0px 1px 3px 1px rgba(60, 64, 67, 0.15);\n",
              "      fill: #174EA6;\n",
              "    }\n",
              "\n",
              "    [theme=dark] .colab-df-convert {\n",
              "      background-color: #3B4455;\n",
              "      fill: #D2E3FC;\n",
              "    }\n",
              "\n",
              "    [theme=dark] .colab-df-convert:hover {\n",
              "      background-color: #434B5C;\n",
              "      box-shadow: 0px 1px 3px 1px rgba(0, 0, 0, 0.15);\n",
              "      filter: drop-shadow(0px 1px 2px rgba(0, 0, 0, 0.3));\n",
              "      fill: #FFFFFF;\n",
              "    }\n",
              "  </style>\n",
              "\n",
              "      <script>\n",
              "        const buttonEl =\n",
              "          document.querySelector('#df-e9f2611b-d7c3-4c3d-8e30-9a511c7b64ad button.colab-df-convert');\n",
              "        buttonEl.style.display =\n",
              "          google.colab.kernel.accessAllowed ? 'block' : 'none';\n",
              "\n",
              "        async function convertToInteractive(key) {\n",
              "          const element = document.querySelector('#df-e9f2611b-d7c3-4c3d-8e30-9a511c7b64ad');\n",
              "          const dataTable =\n",
              "            await google.colab.kernel.invokeFunction('convertToInteractive',\n",
              "                                                     [key], {});\n",
              "          if (!dataTable) return;\n",
              "\n",
              "          const docLinkHtml = 'Like what you see? Visit the ' +\n",
              "            '<a target=\"_blank\" href=https://colab.research.google.com/notebooks/data_table.ipynb>data table notebook</a>'\n",
              "            + ' to learn more about interactive tables.';\n",
              "          element.innerHTML = '';\n",
              "          dataTable['output_type'] = 'display_data';\n",
              "          await google.colab.output.renderOutput(dataTable, element);\n",
              "          const docLink = document.createElement('div');\n",
              "          docLink.innerHTML = docLinkHtml;\n",
              "          element.appendChild(docLink);\n",
              "        }\n",
              "      </script>\n",
              "    </div>\n",
              "  </div>\n",
              "  "
            ]
          },
          "metadata": {},
          "execution_count": 290
        }
      ]
    },
    {
      "cell_type": "code",
      "source": [
        "train_final.to_csv('train_obs_final.csv', index=False)"
      ],
      "metadata": {
        "id": "1X6hGGEul-_o"
      },
      "execution_count": 291,
      "outputs": []
    },
    {
      "cell_type": "code",
      "source": [],
      "metadata": {
        "id": "Q-QOyk4ETA5v"
      },
      "execution_count": null,
      "outputs": []
    },
    {
      "cell_type": "code",
      "source": [],
      "metadata": {
        "id": "TrPNMwqxO_ux"
      },
      "execution_count": 239,
      "outputs": []
    },
    {
      "cell_type": "code",
      "source": [
        "train.shape"
      ],
      "metadata": {
        "colab": {
          "base_uri": "https://localhost:8080/"
        },
        "id": "yrrBYim-Lihd",
        "outputId": "4b0cae51-a48f-4dfc-81b9-bfa5eab61c82"
      },
      "execution_count": 240,
      "outputs": [
        {
          "output_type": "execute_result",
          "data": {
            "text/plain": [
              "(35, 40001)"
            ]
          },
          "metadata": {},
          "execution_count": 240
        }
      ]
    },
    {
      "cell_type": "code",
      "source": [
        "train.head()"
      ],
      "metadata": {
        "colab": {
          "base_uri": "https://localhost:8080/",
          "height": 280
        },
        "id": "3Z7vowyMRP0M",
        "outputId": "70892396-9e66-4a03-9888-e70b0f1c24ac"
      },
      "execution_count": 241,
      "outputs": [
        {
          "output_type": "execute_result",
          "data": {
            "text/plain": [
              "          0         1         2         3         4         5         6  \\\n",
              "0  0.303266  0.303266  0.280482  0.254799  0.229116  0.256442  0.310920   \n",
              "0  0.363927  0.374186  0.377500  0.386789  0.396884  0.396103  0.394913   \n",
              "0  0.492458  0.481944  0.462840  0.385243  0.330557  0.305635  0.290361   \n",
              "0  0.993303  0.993275  0.993263  0.992925  0.991210  0.990570  0.990417   \n",
              "0  0.115581  0.115581  0.115581  0.118555  0.129400  0.140245  0.151090   \n",
              "\n",
              "          7         8         9  ...     39991     39992     39993     39994  \\\n",
              "0  0.365398  0.411062  0.445303  ...  0.251417  0.252362  0.252713  0.253064   \n",
              "0  0.394861  0.397268  0.395486  ...  0.182973  0.182298  0.178804  0.176006   \n",
              "0  0.278309  0.270468  0.246606  ...  0.365917  0.371661  0.392080  0.407320   \n",
              "0  0.990351  0.990311  0.991617  ...  0.390674  0.402024  0.382996  0.372911   \n",
              "0  0.161936  0.172781  0.183626  ...  0.163527  0.162926  0.162325  0.161725   \n",
              "\n",
              "      39995     39996     39997     39998     39999  label  \n",
              "0  0.251185  0.244953  0.238720  0.233191  0.233191      0  \n",
              "0  0.174282  0.172327  0.172313  0.164947  0.158358      0  \n",
              "0  0.386718  0.373072  0.364780  0.363708  0.363295      0  \n",
              "0  0.401137  0.410206  0.408646  0.384744  0.423419      1  \n",
              "0  0.161124  0.160523  0.160358  0.160358  0.160358      0  \n",
              "\n",
              "[5 rows x 40001 columns]"
            ],
            "text/html": [
              "\n",
              "  <div id=\"df-97ad1d78-acfb-462c-b60c-4d64a95e0d53\">\n",
              "    <div class=\"colab-df-container\">\n",
              "      <div>\n",
              "<style scoped>\n",
              "    .dataframe tbody tr th:only-of-type {\n",
              "        vertical-align: middle;\n",
              "    }\n",
              "\n",
              "    .dataframe tbody tr th {\n",
              "        vertical-align: top;\n",
              "    }\n",
              "\n",
              "    .dataframe thead th {\n",
              "        text-align: right;\n",
              "    }\n",
              "</style>\n",
              "<table border=\"1\" class=\"dataframe\">\n",
              "  <thead>\n",
              "    <tr style=\"text-align: right;\">\n",
              "      <th></th>\n",
              "      <th>0</th>\n",
              "      <th>1</th>\n",
              "      <th>2</th>\n",
              "      <th>3</th>\n",
              "      <th>4</th>\n",
              "      <th>5</th>\n",
              "      <th>6</th>\n",
              "      <th>7</th>\n",
              "      <th>8</th>\n",
              "      <th>9</th>\n",
              "      <th>...</th>\n",
              "      <th>39991</th>\n",
              "      <th>39992</th>\n",
              "      <th>39993</th>\n",
              "      <th>39994</th>\n",
              "      <th>39995</th>\n",
              "      <th>39996</th>\n",
              "      <th>39997</th>\n",
              "      <th>39998</th>\n",
              "      <th>39999</th>\n",
              "      <th>label</th>\n",
              "    </tr>\n",
              "  </thead>\n",
              "  <tbody>\n",
              "    <tr>\n",
              "      <th>0</th>\n",
              "      <td>0.303266</td>\n",
              "      <td>0.303266</td>\n",
              "      <td>0.280482</td>\n",
              "      <td>0.254799</td>\n",
              "      <td>0.229116</td>\n",
              "      <td>0.256442</td>\n",
              "      <td>0.310920</td>\n",
              "      <td>0.365398</td>\n",
              "      <td>0.411062</td>\n",
              "      <td>0.445303</td>\n",
              "      <td>...</td>\n",
              "      <td>0.251417</td>\n",
              "      <td>0.252362</td>\n",
              "      <td>0.252713</td>\n",
              "      <td>0.253064</td>\n",
              "      <td>0.251185</td>\n",
              "      <td>0.244953</td>\n",
              "      <td>0.238720</td>\n",
              "      <td>0.233191</td>\n",
              "      <td>0.233191</td>\n",
              "      <td>0</td>\n",
              "    </tr>\n",
              "    <tr>\n",
              "      <th>0</th>\n",
              "      <td>0.363927</td>\n",
              "      <td>0.374186</td>\n",
              "      <td>0.377500</td>\n",
              "      <td>0.386789</td>\n",
              "      <td>0.396884</td>\n",
              "      <td>0.396103</td>\n",
              "      <td>0.394913</td>\n",
              "      <td>0.394861</td>\n",
              "      <td>0.397268</td>\n",
              "      <td>0.395486</td>\n",
              "      <td>...</td>\n",
              "      <td>0.182973</td>\n",
              "      <td>0.182298</td>\n",
              "      <td>0.178804</td>\n",
              "      <td>0.176006</td>\n",
              "      <td>0.174282</td>\n",
              "      <td>0.172327</td>\n",
              "      <td>0.172313</td>\n",
              "      <td>0.164947</td>\n",
              "      <td>0.158358</td>\n",
              "      <td>0</td>\n",
              "    </tr>\n",
              "    <tr>\n",
              "      <th>0</th>\n",
              "      <td>0.492458</td>\n",
              "      <td>0.481944</td>\n",
              "      <td>0.462840</td>\n",
              "      <td>0.385243</td>\n",
              "      <td>0.330557</td>\n",
              "      <td>0.305635</td>\n",
              "      <td>0.290361</td>\n",
              "      <td>0.278309</td>\n",
              "      <td>0.270468</td>\n",
              "      <td>0.246606</td>\n",
              "      <td>...</td>\n",
              "      <td>0.365917</td>\n",
              "      <td>0.371661</td>\n",
              "      <td>0.392080</td>\n",
              "      <td>0.407320</td>\n",
              "      <td>0.386718</td>\n",
              "      <td>0.373072</td>\n",
              "      <td>0.364780</td>\n",
              "      <td>0.363708</td>\n",
              "      <td>0.363295</td>\n",
              "      <td>0</td>\n",
              "    </tr>\n",
              "    <tr>\n",
              "      <th>0</th>\n",
              "      <td>0.993303</td>\n",
              "      <td>0.993275</td>\n",
              "      <td>0.993263</td>\n",
              "      <td>0.992925</td>\n",
              "      <td>0.991210</td>\n",
              "      <td>0.990570</td>\n",
              "      <td>0.990417</td>\n",
              "      <td>0.990351</td>\n",
              "      <td>0.990311</td>\n",
              "      <td>0.991617</td>\n",
              "      <td>...</td>\n",
              "      <td>0.390674</td>\n",
              "      <td>0.402024</td>\n",
              "      <td>0.382996</td>\n",
              "      <td>0.372911</td>\n",
              "      <td>0.401137</td>\n",
              "      <td>0.410206</td>\n",
              "      <td>0.408646</td>\n",
              "      <td>0.384744</td>\n",
              "      <td>0.423419</td>\n",
              "      <td>1</td>\n",
              "    </tr>\n",
              "    <tr>\n",
              "      <th>0</th>\n",
              "      <td>0.115581</td>\n",
              "      <td>0.115581</td>\n",
              "      <td>0.115581</td>\n",
              "      <td>0.118555</td>\n",
              "      <td>0.129400</td>\n",
              "      <td>0.140245</td>\n",
              "      <td>0.151090</td>\n",
              "      <td>0.161936</td>\n",
              "      <td>0.172781</td>\n",
              "      <td>0.183626</td>\n",
              "      <td>...</td>\n",
              "      <td>0.163527</td>\n",
              "      <td>0.162926</td>\n",
              "      <td>0.162325</td>\n",
              "      <td>0.161725</td>\n",
              "      <td>0.161124</td>\n",
              "      <td>0.160523</td>\n",
              "      <td>0.160358</td>\n",
              "      <td>0.160358</td>\n",
              "      <td>0.160358</td>\n",
              "      <td>0</td>\n",
              "    </tr>\n",
              "  </tbody>\n",
              "</table>\n",
              "<p>5 rows × 40001 columns</p>\n",
              "</div>\n",
              "      <button class=\"colab-df-convert\" onclick=\"convertToInteractive('df-97ad1d78-acfb-462c-b60c-4d64a95e0d53')\"\n",
              "              title=\"Convert this dataframe to an interactive table.\"\n",
              "              style=\"display:none;\">\n",
              "        \n",
              "  <svg xmlns=\"http://www.w3.org/2000/svg\" height=\"24px\"viewBox=\"0 0 24 24\"\n",
              "       width=\"24px\">\n",
              "    <path d=\"M0 0h24v24H0V0z\" fill=\"none\"/>\n",
              "    <path d=\"M18.56 5.44l.94 2.06.94-2.06 2.06-.94-2.06-.94-.94-2.06-.94 2.06-2.06.94zm-11 1L8.5 8.5l.94-2.06 2.06-.94-2.06-.94L8.5 2.5l-.94 2.06-2.06.94zm10 10l.94 2.06.94-2.06 2.06-.94-2.06-.94-.94-2.06-.94 2.06-2.06.94z\"/><path d=\"M17.41 7.96l-1.37-1.37c-.4-.4-.92-.59-1.43-.59-.52 0-1.04.2-1.43.59L10.3 9.45l-7.72 7.72c-.78.78-.78 2.05 0 2.83L4 21.41c.39.39.9.59 1.41.59.51 0 1.02-.2 1.41-.59l7.78-7.78 2.81-2.81c.8-.78.8-2.07 0-2.86zM5.41 20L4 18.59l7.72-7.72 1.47 1.35L5.41 20z\"/>\n",
              "  </svg>\n",
              "      </button>\n",
              "      \n",
              "  <style>\n",
              "    .colab-df-container {\n",
              "      display:flex;\n",
              "      flex-wrap:wrap;\n",
              "      gap: 12px;\n",
              "    }\n",
              "\n",
              "    .colab-df-convert {\n",
              "      background-color: #E8F0FE;\n",
              "      border: none;\n",
              "      border-radius: 50%;\n",
              "      cursor: pointer;\n",
              "      display: none;\n",
              "      fill: #1967D2;\n",
              "      height: 32px;\n",
              "      padding: 0 0 0 0;\n",
              "      width: 32px;\n",
              "    }\n",
              "\n",
              "    .colab-df-convert:hover {\n",
              "      background-color: #E2EBFA;\n",
              "      box-shadow: 0px 1px 2px rgba(60, 64, 67, 0.3), 0px 1px 3px 1px rgba(60, 64, 67, 0.15);\n",
              "      fill: #174EA6;\n",
              "    }\n",
              "\n",
              "    [theme=dark] .colab-df-convert {\n",
              "      background-color: #3B4455;\n",
              "      fill: #D2E3FC;\n",
              "    }\n",
              "\n",
              "    [theme=dark] .colab-df-convert:hover {\n",
              "      background-color: #434B5C;\n",
              "      box-shadow: 0px 1px 3px 1px rgba(0, 0, 0, 0.15);\n",
              "      filter: drop-shadow(0px 1px 2px rgba(0, 0, 0, 0.3));\n",
              "      fill: #FFFFFF;\n",
              "    }\n",
              "  </style>\n",
              "\n",
              "      <script>\n",
              "        const buttonEl =\n",
              "          document.querySelector('#df-97ad1d78-acfb-462c-b60c-4d64a95e0d53 button.colab-df-convert');\n",
              "        buttonEl.style.display =\n",
              "          google.colab.kernel.accessAllowed ? 'block' : 'none';\n",
              "\n",
              "        async function convertToInteractive(key) {\n",
              "          const element = document.querySelector('#df-97ad1d78-acfb-462c-b60c-4d64a95e0d53');\n",
              "          const dataTable =\n",
              "            await google.colab.kernel.invokeFunction('convertToInteractive',\n",
              "                                                     [key], {});\n",
              "          if (!dataTable) return;\n",
              "\n",
              "          const docLinkHtml = 'Like what you see? Visit the ' +\n",
              "            '<a target=\"_blank\" href=https://colab.research.google.com/notebooks/data_table.ipynb>data table notebook</a>'\n",
              "            + ' to learn more about interactive tables.';\n",
              "          element.innerHTML = '';\n",
              "          dataTable['output_type'] = 'display_data';\n",
              "          await google.colab.output.renderOutput(dataTable, element);\n",
              "          const docLink = document.createElement('div');\n",
              "          docLink.innerHTML = docLinkHtml;\n",
              "          element.appendChild(docLink);\n",
              "        }\n",
              "      </script>\n",
              "    </div>\n",
              "  </div>\n",
              "  "
            ]
          },
          "metadata": {},
          "execution_count": 241
        }
      ]
    },
    {
      "cell_type": "code",
      "execution_count": null,
      "metadata": {
        "id": "GT3x8UjWmx1S"
      },
      "outputs": [],
      "source": []
    },
    {
      "cell_type": "markdown",
      "source": [
        "#Model Creation"
      ],
      "metadata": {
        "id": "GcyERzo4n6nk"
      }
    },
    {
      "cell_type": "code",
      "source": [
        "train_final.shape"
      ],
      "metadata": {
        "colab": {
          "base_uri": "https://localhost:8080/"
        },
        "id": "vFO4O_N8oI2f",
        "outputId": "77afe76e-a591-4b63-807d-bde888c159f2"
      },
      "execution_count": 293,
      "outputs": [
        {
          "output_type": "execute_result",
          "data": {
            "text/plain": [
              "(578, 40001)"
            ]
          },
          "metadata": {},
          "execution_count": 293
        }
      ]
    },
    {
      "cell_type": "code",
      "source": [
        "train_final.head()"
      ],
      "metadata": {
        "colab": {
          "base_uri": "https://localhost:8080/",
          "height": 280
        },
        "id": "GVk8bKasoKQw",
        "outputId": "558d0212-2c74-466d-c00c-bb68e343a195"
      },
      "execution_count": 294,
      "outputs": [
        {
          "output_type": "execute_result",
          "data": {
            "text/plain": [
              "          0         1         2         3         4         5         6  \\\n",
              "0  0.198506  0.196024  0.188353  0.180682  0.173484  0.166299  0.162969   \n",
              "0  0.789903  0.789003  0.779174  0.769344  0.750925  0.709821  0.668717   \n",
              "0  0.267247  0.267247  0.267247  0.267247  0.267247  0.271484  0.277225   \n",
              "0  0.206184  0.206184  0.206184  0.206184  0.206184  0.206184  0.206184   \n",
              "0  0.396772  0.396772  0.397472  0.400553  0.403634  0.406715  0.409796   \n",
              "\n",
              "          7         8         9  ...     39991     39992     39993     39994  \\\n",
              "0  0.162025  0.161385  0.161592  ...  0.281117  0.296417  0.308956  0.313222   \n",
              "0  0.657673  0.682236  0.706799  ...  0.170903  0.171636  0.172338  0.173014   \n",
              "0  0.282967  0.288708  0.294449  ...  0.144443  0.142749  0.141055  0.139361   \n",
              "0  0.206184  0.206184  0.206184  ...  0.313610  0.313610  0.313610  0.313610   \n",
              "0  0.412070  0.413966  0.415862  ...  0.401833  0.402582  0.403194  0.403514   \n",
              "\n",
              "      39995     39996     39997     39998     39999  label  \n",
              "0  0.304122  0.295226  0.293074  0.290921  0.290225      0  \n",
              "0  0.173690  0.174004  0.174181  0.174358  0.174375      0  \n",
              "0  0.138111  0.138111  0.138111  0.138111  0.138111      0  \n",
              "0  0.313610  0.313610  0.313610  0.313610  0.313610      0  \n",
              "0  0.403833  0.404153  0.404473  0.404545  0.404545      0  \n",
              "\n",
              "[5 rows x 40001 columns]"
            ],
            "text/html": [
              "\n",
              "  <div id=\"df-d91a4bef-3f65-4b19-9e8f-fd74464b4dd1\">\n",
              "    <div class=\"colab-df-container\">\n",
              "      <div>\n",
              "<style scoped>\n",
              "    .dataframe tbody tr th:only-of-type {\n",
              "        vertical-align: middle;\n",
              "    }\n",
              "\n",
              "    .dataframe tbody tr th {\n",
              "        vertical-align: top;\n",
              "    }\n",
              "\n",
              "    .dataframe thead th {\n",
              "        text-align: right;\n",
              "    }\n",
              "</style>\n",
              "<table border=\"1\" class=\"dataframe\">\n",
              "  <thead>\n",
              "    <tr style=\"text-align: right;\">\n",
              "      <th></th>\n",
              "      <th>0</th>\n",
              "      <th>1</th>\n",
              "      <th>2</th>\n",
              "      <th>3</th>\n",
              "      <th>4</th>\n",
              "      <th>5</th>\n",
              "      <th>6</th>\n",
              "      <th>7</th>\n",
              "      <th>8</th>\n",
              "      <th>9</th>\n",
              "      <th>...</th>\n",
              "      <th>39991</th>\n",
              "      <th>39992</th>\n",
              "      <th>39993</th>\n",
              "      <th>39994</th>\n",
              "      <th>39995</th>\n",
              "      <th>39996</th>\n",
              "      <th>39997</th>\n",
              "      <th>39998</th>\n",
              "      <th>39999</th>\n",
              "      <th>label</th>\n",
              "    </tr>\n",
              "  </thead>\n",
              "  <tbody>\n",
              "    <tr>\n",
              "      <th>0</th>\n",
              "      <td>0.198506</td>\n",
              "      <td>0.196024</td>\n",
              "      <td>0.188353</td>\n",
              "      <td>0.180682</td>\n",
              "      <td>0.173484</td>\n",
              "      <td>0.166299</td>\n",
              "      <td>0.162969</td>\n",
              "      <td>0.162025</td>\n",
              "      <td>0.161385</td>\n",
              "      <td>0.161592</td>\n",
              "      <td>...</td>\n",
              "      <td>0.281117</td>\n",
              "      <td>0.296417</td>\n",
              "      <td>0.308956</td>\n",
              "      <td>0.313222</td>\n",
              "      <td>0.304122</td>\n",
              "      <td>0.295226</td>\n",
              "      <td>0.293074</td>\n",
              "      <td>0.290921</td>\n",
              "      <td>0.290225</td>\n",
              "      <td>0</td>\n",
              "    </tr>\n",
              "    <tr>\n",
              "      <th>0</th>\n",
              "      <td>0.789903</td>\n",
              "      <td>0.789003</td>\n",
              "      <td>0.779174</td>\n",
              "      <td>0.769344</td>\n",
              "      <td>0.750925</td>\n",
              "      <td>0.709821</td>\n",
              "      <td>0.668717</td>\n",
              "      <td>0.657673</td>\n",
              "      <td>0.682236</td>\n",
              "      <td>0.706799</td>\n",
              "      <td>...</td>\n",
              "      <td>0.170903</td>\n",
              "      <td>0.171636</td>\n",
              "      <td>0.172338</td>\n",
              "      <td>0.173014</td>\n",
              "      <td>0.173690</td>\n",
              "      <td>0.174004</td>\n",
              "      <td>0.174181</td>\n",
              "      <td>0.174358</td>\n",
              "      <td>0.174375</td>\n",
              "      <td>0</td>\n",
              "    </tr>\n",
              "    <tr>\n",
              "      <th>0</th>\n",
              "      <td>0.267247</td>\n",
              "      <td>0.267247</td>\n",
              "      <td>0.267247</td>\n",
              "      <td>0.267247</td>\n",
              "      <td>0.267247</td>\n",
              "      <td>0.271484</td>\n",
              "      <td>0.277225</td>\n",
              "      <td>0.282967</td>\n",
              "      <td>0.288708</td>\n",
              "      <td>0.294449</td>\n",
              "      <td>...</td>\n",
              "      <td>0.144443</td>\n",
              "      <td>0.142749</td>\n",
              "      <td>0.141055</td>\n",
              "      <td>0.139361</td>\n",
              "      <td>0.138111</td>\n",
              "      <td>0.138111</td>\n",
              "      <td>0.138111</td>\n",
              "      <td>0.138111</td>\n",
              "      <td>0.138111</td>\n",
              "      <td>0</td>\n",
              "    </tr>\n",
              "    <tr>\n",
              "      <th>0</th>\n",
              "      <td>0.206184</td>\n",
              "      <td>0.206184</td>\n",
              "      <td>0.206184</td>\n",
              "      <td>0.206184</td>\n",
              "      <td>0.206184</td>\n",
              "      <td>0.206184</td>\n",
              "      <td>0.206184</td>\n",
              "      <td>0.206184</td>\n",
              "      <td>0.206184</td>\n",
              "      <td>0.206184</td>\n",
              "      <td>...</td>\n",
              "      <td>0.313610</td>\n",
              "      <td>0.313610</td>\n",
              "      <td>0.313610</td>\n",
              "      <td>0.313610</td>\n",
              "      <td>0.313610</td>\n",
              "      <td>0.313610</td>\n",
              "      <td>0.313610</td>\n",
              "      <td>0.313610</td>\n",
              "      <td>0.313610</td>\n",
              "      <td>0</td>\n",
              "    </tr>\n",
              "    <tr>\n",
              "      <th>0</th>\n",
              "      <td>0.396772</td>\n",
              "      <td>0.396772</td>\n",
              "      <td>0.397472</td>\n",
              "      <td>0.400553</td>\n",
              "      <td>0.403634</td>\n",
              "      <td>0.406715</td>\n",
              "      <td>0.409796</td>\n",
              "      <td>0.412070</td>\n",
              "      <td>0.413966</td>\n",
              "      <td>0.415862</td>\n",
              "      <td>...</td>\n",
              "      <td>0.401833</td>\n",
              "      <td>0.402582</td>\n",
              "      <td>0.403194</td>\n",
              "      <td>0.403514</td>\n",
              "      <td>0.403833</td>\n",
              "      <td>0.404153</td>\n",
              "      <td>0.404473</td>\n",
              "      <td>0.404545</td>\n",
              "      <td>0.404545</td>\n",
              "      <td>0</td>\n",
              "    </tr>\n",
              "  </tbody>\n",
              "</table>\n",
              "<p>5 rows × 40001 columns</p>\n",
              "</div>\n",
              "      <button class=\"colab-df-convert\" onclick=\"convertToInteractive('df-d91a4bef-3f65-4b19-9e8f-fd74464b4dd1')\"\n",
              "              title=\"Convert this dataframe to an interactive table.\"\n",
              "              style=\"display:none;\">\n",
              "        \n",
              "  <svg xmlns=\"http://www.w3.org/2000/svg\" height=\"24px\"viewBox=\"0 0 24 24\"\n",
              "       width=\"24px\">\n",
              "    <path d=\"M0 0h24v24H0V0z\" fill=\"none\"/>\n",
              "    <path d=\"M18.56 5.44l.94 2.06.94-2.06 2.06-.94-2.06-.94-.94-2.06-.94 2.06-2.06.94zm-11 1L8.5 8.5l.94-2.06 2.06-.94-2.06-.94L8.5 2.5l-.94 2.06-2.06.94zm10 10l.94 2.06.94-2.06 2.06-.94-2.06-.94-.94-2.06-.94 2.06-2.06.94z\"/><path d=\"M17.41 7.96l-1.37-1.37c-.4-.4-.92-.59-1.43-.59-.52 0-1.04.2-1.43.59L10.3 9.45l-7.72 7.72c-.78.78-.78 2.05 0 2.83L4 21.41c.39.39.9.59 1.41.59.51 0 1.02-.2 1.41-.59l7.78-7.78 2.81-2.81c.8-.78.8-2.07 0-2.86zM5.41 20L4 18.59l7.72-7.72 1.47 1.35L5.41 20z\"/>\n",
              "  </svg>\n",
              "      </button>\n",
              "      \n",
              "  <style>\n",
              "    .colab-df-container {\n",
              "      display:flex;\n",
              "      flex-wrap:wrap;\n",
              "      gap: 12px;\n",
              "    }\n",
              "\n",
              "    .colab-df-convert {\n",
              "      background-color: #E8F0FE;\n",
              "      border: none;\n",
              "      border-radius: 50%;\n",
              "      cursor: pointer;\n",
              "      display: none;\n",
              "      fill: #1967D2;\n",
              "      height: 32px;\n",
              "      padding: 0 0 0 0;\n",
              "      width: 32px;\n",
              "    }\n",
              "\n",
              "    .colab-df-convert:hover {\n",
              "      background-color: #E2EBFA;\n",
              "      box-shadow: 0px 1px 2px rgba(60, 64, 67, 0.3), 0px 1px 3px 1px rgba(60, 64, 67, 0.15);\n",
              "      fill: #174EA6;\n",
              "    }\n",
              "\n",
              "    [theme=dark] .colab-df-convert {\n",
              "      background-color: #3B4455;\n",
              "      fill: #D2E3FC;\n",
              "    }\n",
              "\n",
              "    [theme=dark] .colab-df-convert:hover {\n",
              "      background-color: #434B5C;\n",
              "      box-shadow: 0px 1px 3px 1px rgba(0, 0, 0, 0.15);\n",
              "      filter: drop-shadow(0px 1px 2px rgba(0, 0, 0, 0.3));\n",
              "      fill: #FFFFFF;\n",
              "    }\n",
              "  </style>\n",
              "\n",
              "      <script>\n",
              "        const buttonEl =\n",
              "          document.querySelector('#df-d91a4bef-3f65-4b19-9e8f-fd74464b4dd1 button.colab-df-convert');\n",
              "        buttonEl.style.display =\n",
              "          google.colab.kernel.accessAllowed ? 'block' : 'none';\n",
              "\n",
              "        async function convertToInteractive(key) {\n",
              "          const element = document.querySelector('#df-d91a4bef-3f65-4b19-9e8f-fd74464b4dd1');\n",
              "          const dataTable =\n",
              "            await google.colab.kernel.invokeFunction('convertToInteractive',\n",
              "                                                     [key], {});\n",
              "          if (!dataTable) return;\n",
              "\n",
              "          const docLinkHtml = 'Like what you see? Visit the ' +\n",
              "            '<a target=\"_blank\" href=https://colab.research.google.com/notebooks/data_table.ipynb>data table notebook</a>'\n",
              "            + ' to learn more about interactive tables.';\n",
              "          element.innerHTML = '';\n",
              "          dataTable['output_type'] = 'display_data';\n",
              "          await google.colab.output.renderOutput(dataTable, element);\n",
              "          const docLink = document.createElement('div');\n",
              "          docLink.innerHTML = docLinkHtml;\n",
              "          element.appendChild(docLink);\n",
              "        }\n",
              "      </script>\n",
              "    </div>\n",
              "  </div>\n",
              "  "
            ]
          },
          "metadata": {},
          "execution_count": 294
        }
      ]
    },
    {
      "cell_type": "code",
      "source": [
        "from sklearn.model_selection import train_test_split\n",
        "from sklearn.ensemble import RandomForestClassifier\n",
        "import pickle\n",
        "from sklearn import metrics"
      ],
      "metadata": {
        "id": "iognSQCQnm9a"
      },
      "execution_count": 313,
      "outputs": []
    },
    {
      "cell_type": "code",
      "source": [
        "X = train_final.drop(labels = [\"label\"], axis=1) \n",
        "Y = train_final[\"label\"].values\n",
        "print(X.shape, Y.shape)"
      ],
      "metadata": {
        "colab": {
          "base_uri": "https://localhost:8080/"
        },
        "id": "pGz0KxEynnAD",
        "outputId": "8c59dc45-60e7-49ba-b5dd-a6b5da313650"
      },
      "execution_count": 296,
      "outputs": [
        {
          "output_type": "stream",
          "name": "stdout",
          "text": [
            "(578, 40000) (578,)\n"
          ]
        }
      ]
    },
    {
      "cell_type": "code",
      "source": [
        "X_train, X_test, y_train, y_test = train_test_split(X, Y, test_size=0.33, random_state=42)\n",
        "print(X_train.shape, X_test.shape, y_train.shape, y_test.shape)"
      ],
      "metadata": {
        "colab": {
          "base_uri": "https://localhost:8080/"
        },
        "id": "wE1tnzApowCQ",
        "outputId": "22b2251b-4ab9-4ce1-a141-646ef772f14a"
      },
      "execution_count": 299,
      "outputs": [
        {
          "output_type": "stream",
          "name": "stdout",
          "text": [
            "(387, 40000) (191, 40000) (387,) (191,)\n"
          ]
        }
      ]
    },
    {
      "cell_type": "code",
      "source": [
        "xtrain= np.array(X_train).transpose()\n",
        "xtest = np.array(X_test).transpose()"
      ],
      "metadata": {
        "id": "yTNR9jZ0q8ua"
      },
      "execution_count": 322,
      "outputs": []
    },
    {
      "cell_type": "code",
      "source": [
        "xtrain.shape, xtest.shape"
      ],
      "metadata": {
        "colab": {
          "base_uri": "https://localhost:8080/"
        },
        "id": "Zz_owRq-q83q",
        "outputId": "42a05474-52dc-46bb-e94d-0eb83aecbf8b"
      },
      "execution_count": 323,
      "outputs": [
        {
          "output_type": "execute_result",
          "data": {
            "text/plain": [
              "((40000, 387), (40000, 191))"
            ]
          },
          "metadata": {},
          "execution_count": 323
        }
      ]
    },
    {
      "cell_type": "code",
      "source": [
        "model = RandomForestClassifier(n_estimators=100, criterion='entropy', max_depth=None, \n",
        "                            min_samples_split=2, min_samples_leaf=1, min_weight_fraction_leaf=0.0, \n",
        "                            max_features='auto', max_leaf_nodes=None, min_impurity_decrease=0.0, \n",
        "                            bootstrap=True, oob_score=False, n_jobs=None, random_state=2, \n",
        "                            verbose=0, warm_start=False, class_weight=None, ccp_alpha=0.0, \n",
        "                            max_samples=None)"
      ],
      "metadata": {
        "id": "fmbPBDlcnnFp"
      },
      "execution_count": 324,
      "outputs": []
    },
    {
      "cell_type": "code",
      "source": [
        "model.fit(xtrain, y_train)"
      ],
      "metadata": {
        "colab": {
          "base_uri": "https://localhost:8080/",
          "height": 312
        },
        "id": "NKu68zOpnnIW",
        "outputId": "2ea3a81b-cff9-487b-ce72-058336bf061d"
      },
      "execution_count": 325,
      "outputs": [
        {
          "output_type": "error",
          "ename": "ValueError",
          "evalue": "ignored",
          "traceback": [
            "\u001b[0;31m---------------------------------------------------------------------------\u001b[0m",
            "\u001b[0;31mValueError\u001b[0m                                Traceback (most recent call last)",
            "\u001b[0;32m<ipython-input-325-26cf1d773c9e>\u001b[0m in \u001b[0;36m<cell line: 1>\u001b[0;34m()\u001b[0m\n\u001b[0;32m----> 1\u001b[0;31m \u001b[0mmodel\u001b[0m\u001b[0;34m.\u001b[0m\u001b[0mfit\u001b[0m\u001b[0;34m(\u001b[0m\u001b[0mxtrain\u001b[0m\u001b[0;34m,\u001b[0m \u001b[0my_train\u001b[0m\u001b[0;34m)\u001b[0m\u001b[0;34m\u001b[0m\u001b[0;34m\u001b[0m\u001b[0m\n\u001b[0m",
            "\u001b[0;32m/usr/local/lib/python3.10/dist-packages/sklearn/ensemble/_forest.py\u001b[0m in \u001b[0;36mfit\u001b[0;34m(self, X, y, sample_weight)\u001b[0m\n\u001b[1;32m    343\u001b[0m         \u001b[0;32mif\u001b[0m \u001b[0missparse\u001b[0m\u001b[0;34m(\u001b[0m\u001b[0my\u001b[0m\u001b[0;34m)\u001b[0m\u001b[0;34m:\u001b[0m\u001b[0;34m\u001b[0m\u001b[0;34m\u001b[0m\u001b[0m\n\u001b[1;32m    344\u001b[0m             \u001b[0;32mraise\u001b[0m \u001b[0mValueError\u001b[0m\u001b[0;34m(\u001b[0m\u001b[0;34m\"sparse multilabel-indicator for y is not supported.\"\u001b[0m\u001b[0;34m)\u001b[0m\u001b[0;34m\u001b[0m\u001b[0;34m\u001b[0m\u001b[0m\n\u001b[0;32m--> 345\u001b[0;31m         X, y = self._validate_data(\n\u001b[0m\u001b[1;32m    346\u001b[0m             \u001b[0mX\u001b[0m\u001b[0;34m,\u001b[0m \u001b[0my\u001b[0m\u001b[0;34m,\u001b[0m \u001b[0mmulti_output\u001b[0m\u001b[0;34m=\u001b[0m\u001b[0;32mTrue\u001b[0m\u001b[0;34m,\u001b[0m \u001b[0maccept_sparse\u001b[0m\u001b[0;34m=\u001b[0m\u001b[0;34m\"csc\"\u001b[0m\u001b[0;34m,\u001b[0m \u001b[0mdtype\u001b[0m\u001b[0;34m=\u001b[0m\u001b[0mDTYPE\u001b[0m\u001b[0;34m\u001b[0m\u001b[0;34m\u001b[0m\u001b[0m\n\u001b[1;32m    347\u001b[0m         )\n",
            "\u001b[0;32m/usr/local/lib/python3.10/dist-packages/sklearn/base.py\u001b[0m in \u001b[0;36m_validate_data\u001b[0;34m(self, X, y, reset, validate_separately, **check_params)\u001b[0m\n\u001b[1;32m    582\u001b[0m                 \u001b[0my\u001b[0m \u001b[0;34m=\u001b[0m \u001b[0mcheck_array\u001b[0m\u001b[0;34m(\u001b[0m\u001b[0my\u001b[0m\u001b[0;34m,\u001b[0m \u001b[0minput_name\u001b[0m\u001b[0;34m=\u001b[0m\u001b[0;34m\"y\"\u001b[0m\u001b[0;34m,\u001b[0m \u001b[0;34m**\u001b[0m\u001b[0mcheck_y_params\u001b[0m\u001b[0;34m)\u001b[0m\u001b[0;34m\u001b[0m\u001b[0;34m\u001b[0m\u001b[0m\n\u001b[1;32m    583\u001b[0m             \u001b[0;32melse\u001b[0m\u001b[0;34m:\u001b[0m\u001b[0;34m\u001b[0m\u001b[0;34m\u001b[0m\u001b[0m\n\u001b[0;32m--> 584\u001b[0;31m                 \u001b[0mX\u001b[0m\u001b[0;34m,\u001b[0m \u001b[0my\u001b[0m \u001b[0;34m=\u001b[0m \u001b[0mcheck_X_y\u001b[0m\u001b[0;34m(\u001b[0m\u001b[0mX\u001b[0m\u001b[0;34m,\u001b[0m \u001b[0my\u001b[0m\u001b[0;34m,\u001b[0m \u001b[0;34m**\u001b[0m\u001b[0mcheck_params\u001b[0m\u001b[0;34m)\u001b[0m\u001b[0;34m\u001b[0m\u001b[0;34m\u001b[0m\u001b[0m\n\u001b[0m\u001b[1;32m    585\u001b[0m             \u001b[0mout\u001b[0m \u001b[0;34m=\u001b[0m \u001b[0mX\u001b[0m\u001b[0;34m,\u001b[0m \u001b[0my\u001b[0m\u001b[0;34m\u001b[0m\u001b[0;34m\u001b[0m\u001b[0m\n\u001b[1;32m    586\u001b[0m \u001b[0;34m\u001b[0m\u001b[0m\n",
            "\u001b[0;32m/usr/local/lib/python3.10/dist-packages/sklearn/utils/validation.py\u001b[0m in \u001b[0;36mcheck_X_y\u001b[0;34m(X, y, accept_sparse, accept_large_sparse, dtype, order, copy, force_all_finite, ensure_2d, allow_nd, multi_output, ensure_min_samples, ensure_min_features, y_numeric, estimator)\u001b[0m\n\u001b[1;32m   1122\u001b[0m     \u001b[0my\u001b[0m \u001b[0;34m=\u001b[0m \u001b[0m_check_y\u001b[0m\u001b[0;34m(\u001b[0m\u001b[0my\u001b[0m\u001b[0;34m,\u001b[0m \u001b[0mmulti_output\u001b[0m\u001b[0;34m=\u001b[0m\u001b[0mmulti_output\u001b[0m\u001b[0;34m,\u001b[0m \u001b[0my_numeric\u001b[0m\u001b[0;34m=\u001b[0m\u001b[0my_numeric\u001b[0m\u001b[0;34m,\u001b[0m \u001b[0mestimator\u001b[0m\u001b[0;34m=\u001b[0m\u001b[0mestimator\u001b[0m\u001b[0;34m)\u001b[0m\u001b[0;34m\u001b[0m\u001b[0;34m\u001b[0m\u001b[0m\n\u001b[1;32m   1123\u001b[0m \u001b[0;34m\u001b[0m\u001b[0m\n\u001b[0;32m-> 1124\u001b[0;31m     \u001b[0mcheck_consistent_length\u001b[0m\u001b[0;34m(\u001b[0m\u001b[0mX\u001b[0m\u001b[0;34m,\u001b[0m \u001b[0my\u001b[0m\u001b[0;34m)\u001b[0m\u001b[0;34m\u001b[0m\u001b[0;34m\u001b[0m\u001b[0m\n\u001b[0m\u001b[1;32m   1125\u001b[0m \u001b[0;34m\u001b[0m\u001b[0m\n\u001b[1;32m   1126\u001b[0m     \u001b[0;32mreturn\u001b[0m \u001b[0mX\u001b[0m\u001b[0;34m,\u001b[0m \u001b[0my\u001b[0m\u001b[0;34m\u001b[0m\u001b[0;34m\u001b[0m\u001b[0m\n",
            "\u001b[0;32m/usr/local/lib/python3.10/dist-packages/sklearn/utils/validation.py\u001b[0m in \u001b[0;36mcheck_consistent_length\u001b[0;34m(*arrays)\u001b[0m\n\u001b[1;32m    395\u001b[0m     \u001b[0muniques\u001b[0m \u001b[0;34m=\u001b[0m \u001b[0mnp\u001b[0m\u001b[0;34m.\u001b[0m\u001b[0munique\u001b[0m\u001b[0;34m(\u001b[0m\u001b[0mlengths\u001b[0m\u001b[0;34m)\u001b[0m\u001b[0;34m\u001b[0m\u001b[0;34m\u001b[0m\u001b[0m\n\u001b[1;32m    396\u001b[0m     \u001b[0;32mif\u001b[0m \u001b[0mlen\u001b[0m\u001b[0;34m(\u001b[0m\u001b[0muniques\u001b[0m\u001b[0;34m)\u001b[0m \u001b[0;34m>\u001b[0m \u001b[0;36m1\u001b[0m\u001b[0;34m:\u001b[0m\u001b[0;34m\u001b[0m\u001b[0;34m\u001b[0m\u001b[0m\n\u001b[0;32m--> 397\u001b[0;31m         raise ValueError(\n\u001b[0m\u001b[1;32m    398\u001b[0m             \u001b[0;34m\"Found input variables with inconsistent numbers of samples: %r\"\u001b[0m\u001b[0;34m\u001b[0m\u001b[0;34m\u001b[0m\u001b[0m\n\u001b[1;32m    399\u001b[0m             \u001b[0;34m%\u001b[0m \u001b[0;34m[\u001b[0m\u001b[0mint\u001b[0m\u001b[0;34m(\u001b[0m\u001b[0ml\u001b[0m\u001b[0;34m)\u001b[0m \u001b[0;32mfor\u001b[0m \u001b[0ml\u001b[0m \u001b[0;32min\u001b[0m \u001b[0mlengths\u001b[0m\u001b[0;34m]\u001b[0m\u001b[0;34m\u001b[0m\u001b[0;34m\u001b[0m\u001b[0m\n",
            "\u001b[0;31mValueError\u001b[0m: Found input variables with inconsistent numbers of samples: [40000, 387]"
          ]
        }
      ]
    },
    {
      "cell_type": "code",
      "source": [
        "filename = \"rf_obs.sav\"\n",
        "pickle.dump(model, open(filename, 'wb'))"
      ],
      "metadata": {
        "id": "SHHFLIzDnnLE"
      },
      "execution_count": 307,
      "outputs": []
    },
    {
      "cell_type": "markdown",
      "source": [
        "# New s"
      ],
      "metadata": {
        "id": "f8B8Heyo3O-f"
      }
    },
    {
      "cell_type": "code",
      "source": [
        "prediction_test = model.predict(X_test)"
      ],
      "metadata": {
        "id": "CUQ94irdMRuF"
      },
      "execution_count": 308,
      "outputs": []
    },
    {
      "cell_type": "code",
      "source": [
        "prediction_test.shape"
      ],
      "metadata": {
        "colab": {
          "base_uri": "https://localhost:8080/"
        },
        "id": "w5tVRm2owX3c",
        "outputId": "9aa23682-dd4e-432f-89a2-cabd5ee99656"
      },
      "execution_count": 309,
      "outputs": [
        {
          "output_type": "execute_result",
          "data": {
            "text/plain": [
              "(191,)"
            ]
          },
          "metadata": {},
          "execution_count": 309
        }
      ]
    },
    {
      "cell_type": "code",
      "source": [
        "print (\"Testing Accuracy = \", metrics.accuracy_score(y_test, prediction_test))"
      ],
      "metadata": {
        "colab": {
          "base_uri": "https://localhost:8080/"
        },
        "id": "WIhvhkBnuwyX",
        "outputId": "90119496-1311-410b-d753-64527849495a"
      },
      "execution_count": 314,
      "outputs": [
        {
          "output_type": "stream",
          "name": "stdout",
          "text": [
            "Testing Accuracy =  0.6649214659685864\n"
          ]
        }
      ]
    },
    {
      "cell_type": "code",
      "source": [
        "prediction_test"
      ],
      "metadata": {
        "colab": {
          "base_uri": "https://localhost:8080/"
        },
        "id": "__BEl5kkqO5F",
        "outputId": "5d7ca51c-05e5-446e-f336-a6f781708d4c"
      },
      "execution_count": 315,
      "outputs": [
        {
          "output_type": "execute_result",
          "data": {
            "text/plain": [
              "array([0, 1, 0, 0, 1, 0, 1, 1, 1, 1, 0, 1, 0, 0, 1, 0, 1, 1, 1, 1, 0, 0,\n",
              "       0, 1, 0, 0, 1, 1, 1, 0, 0, 1, 1, 1, 1, 1, 1, 1, 1, 1, 0, 0, 0, 1,\n",
              "       0, 0, 1, 0, 0, 1, 0, 0, 1, 0, 1, 1, 0, 1, 1, 1, 1, 1, 1, 1, 1, 1,\n",
              "       1, 0, 1, 0, 0, 0, 1, 0, 0, 0, 0, 0, 1, 1, 0, 0, 0, 1, 0, 1, 0, 1,\n",
              "       1, 1, 1, 1, 1, 0, 0, 1, 1, 0, 1, 1, 1, 1, 0, 0, 1, 1, 1, 0, 1, 0,\n",
              "       1, 0, 0, 1, 1, 0, 0, 0, 0, 1, 0, 1, 1, 1, 0, 1, 0, 1, 0, 1, 0, 1,\n",
              "       0, 0, 1, 1, 0, 1, 0, 1, 0, 0, 0, 0, 0, 1, 0, 0, 0, 1, 0, 0, 0, 0,\n",
              "       0, 0, 0, 0, 1, 0, 0, 0, 1, 1, 1, 1, 1, 1, 0, 1, 1, 1, 1, 0, 1, 0,\n",
              "       0, 1, 0, 0, 1, 1, 0, 0, 0, 1, 1, 1, 0, 1, 0])"
            ]
          },
          "metadata": {},
          "execution_count": 315
        }
      ]
    },
    {
      "cell_type": "code",
      "source": [
        "X_test[0].shape"
      ],
      "metadata": {
        "colab": {
          "base_uri": "https://localhost:8080/"
        },
        "id": "yS269We6qPxo",
        "outputId": "7088ddbe-c132-4352-c6db-5e686bf16383"
      },
      "execution_count": 317,
      "outputs": [
        {
          "output_type": "execute_result",
          "data": {
            "text/plain": [
              "(191,)"
            ]
          },
          "metadata": {},
          "execution_count": 317
        }
      ]
    },
    {
      "cell_type": "code",
      "source": [
        "X_test.shape"
      ],
      "metadata": {
        "colab": {
          "base_uri": "https://localhost:8080/"
        },
        "id": "iPODoebkqU8p",
        "outputId": "c661c860-c897-4677-c41a-801b1b385693"
      },
      "execution_count": 318,
      "outputs": [
        {
          "output_type": "execute_result",
          "data": {
            "text/plain": [
              "(191, 40000)"
            ]
          },
          "metadata": {},
          "execution_count": 318
        }
      ]
    },
    {
      "cell_type": "code",
      "source": [
        "y_train.shape"
      ],
      "metadata": {
        "colab": {
          "base_uri": "https://localhost:8080/"
        },
        "id": "LxtbLGp1qs2s",
        "outputId": "41c99073-3884-40cb-db24-a3d667a888b0"
      },
      "execution_count": 326,
      "outputs": [
        {
          "output_type": "execute_result",
          "data": {
            "text/plain": [
              "(387,)"
            ]
          },
          "metadata": {},
          "execution_count": 326
        }
      ]
    },
    {
      "cell_type": "code",
      "source": [
        "np.array(y_train).transpose().shape"
      ],
      "metadata": {
        "colab": {
          "base_uri": "https://localhost:8080/"
        },
        "id": "_B5ca1l_q0LM",
        "outputId": "f929d967-af46-413c-85f1-d3f8b6e7f481"
      },
      "execution_count": 327,
      "outputs": [
        {
          "output_type": "execute_result",
          "data": {
            "text/plain": [
              "(387,)"
            ]
          },
          "metadata": {},
          "execution_count": 327
        }
      ]
    },
    {
      "cell_type": "code",
      "source": [
        "np.array(X_test[0:1]).reshape(200,200)"
      ],
      "metadata": {
        "colab": {
          "base_uri": "https://localhost:8080/"
        },
        "id": "zj4ysm_Zq41X",
        "outputId": "e228211f-6ba4-4c27-8a58-4eddf012defe"
      },
      "execution_count": 332,
      "outputs": [
        {
          "output_type": "execute_result",
          "data": {
            "text/plain": [
              "array([[0.40372811, 0.40372811, 0.40372811, ..., 0.52074107, 0.52074107,\n",
              "        0.52074107],\n",
              "       [0.40372811, 0.40372811, 0.40372811, ..., 0.52074107, 0.52074107,\n",
              "        0.52074107],\n",
              "       [0.40372811, 0.40372811, 0.40372811, ..., 0.52074107, 0.52074107,\n",
              "        0.52074107],\n",
              "       ...,\n",
              "       [0.48798484, 0.48798484, 0.48798484, ..., 0.52392161, 0.52392161,\n",
              "        0.52392161],\n",
              "       [0.48798484, 0.48798484, 0.48798484, ..., 0.52392161, 0.52392161,\n",
              "        0.52392161],\n",
              "       [0.48798484, 0.48798484, 0.48798484, ..., 0.52392161, 0.52392161,\n",
              "        0.52392161]])"
            ]
          },
          "metadata": {},
          "execution_count": 332
        }
      ]
    },
    {
      "cell_type": "code",
      "source": [
        "X_test.shape"
      ],
      "metadata": {
        "colab": {
          "base_uri": "https://localhost:8080/"
        },
        "id": "8zPipcuSsMk-",
        "outputId": "c5de0e2d-18fc-4c77-bb5d-7bc4c47ad566"
      },
      "execution_count": 336,
      "outputs": [
        {
          "output_type": "execute_result",
          "data": {
            "text/plain": [
              "(191, 40000)"
            ]
          },
          "metadata": {},
          "execution_count": 336
        }
      ]
    },
    {
      "cell_type": "code",
      "source": [
        "X_test.head(2)"
      ],
      "metadata": {
        "colab": {
          "base_uri": "https://localhost:8080/",
          "height": 205
        },
        "id": "p4CgqBvSswz-",
        "outputId": "dc46083b-1af5-44d1-aedd-3afb6c19accb"
      },
      "execution_count": 339,
      "outputs": [
        {
          "output_type": "execute_result",
          "data": {
            "text/plain": [
              "      0         1         2         3         4         5         6      \\\n",
              "0  0.403728  0.403728  0.403728  0.403728  0.403728  0.403728  0.403728   \n",
              "0  0.349875  0.349875  0.349875  0.349875  0.349875  0.349875  0.349875   \n",
              "\n",
              "      7         8         9      ...     39990     39991     39992     39993  \\\n",
              "0  0.403728  0.403728  0.403728  ...  0.523922  0.523922  0.523922  0.523922   \n",
              "0  0.349875  0.349875  0.349875  ...  0.238492  0.238492  0.238492  0.238492   \n",
              "\n",
              "      39994     39995     39996     39997     39998     39999  \n",
              "0  0.523922  0.523922  0.523922  0.523922  0.523922  0.523922  \n",
              "0  0.238492  0.238492  0.238492  0.238492  0.238492  0.238492  \n",
              "\n",
              "[2 rows x 40000 columns]"
            ],
            "text/html": [
              "\n",
              "  <div id=\"df-ecdba9af-5707-4802-a63b-679dd099af58\">\n",
              "    <div class=\"colab-df-container\">\n",
              "      <div>\n",
              "<style scoped>\n",
              "    .dataframe tbody tr th:only-of-type {\n",
              "        vertical-align: middle;\n",
              "    }\n",
              "\n",
              "    .dataframe tbody tr th {\n",
              "        vertical-align: top;\n",
              "    }\n",
              "\n",
              "    .dataframe thead th {\n",
              "        text-align: right;\n",
              "    }\n",
              "</style>\n",
              "<table border=\"1\" class=\"dataframe\">\n",
              "  <thead>\n",
              "    <tr style=\"text-align: right;\">\n",
              "      <th></th>\n",
              "      <th>0</th>\n",
              "      <th>1</th>\n",
              "      <th>2</th>\n",
              "      <th>3</th>\n",
              "      <th>4</th>\n",
              "      <th>5</th>\n",
              "      <th>6</th>\n",
              "      <th>7</th>\n",
              "      <th>8</th>\n",
              "      <th>9</th>\n",
              "      <th>...</th>\n",
              "      <th>39990</th>\n",
              "      <th>39991</th>\n",
              "      <th>39992</th>\n",
              "      <th>39993</th>\n",
              "      <th>39994</th>\n",
              "      <th>39995</th>\n",
              "      <th>39996</th>\n",
              "      <th>39997</th>\n",
              "      <th>39998</th>\n",
              "      <th>39999</th>\n",
              "    </tr>\n",
              "  </thead>\n",
              "  <tbody>\n",
              "    <tr>\n",
              "      <th>0</th>\n",
              "      <td>0.403728</td>\n",
              "      <td>0.403728</td>\n",
              "      <td>0.403728</td>\n",
              "      <td>0.403728</td>\n",
              "      <td>0.403728</td>\n",
              "      <td>0.403728</td>\n",
              "      <td>0.403728</td>\n",
              "      <td>0.403728</td>\n",
              "      <td>0.403728</td>\n",
              "      <td>0.403728</td>\n",
              "      <td>...</td>\n",
              "      <td>0.523922</td>\n",
              "      <td>0.523922</td>\n",
              "      <td>0.523922</td>\n",
              "      <td>0.523922</td>\n",
              "      <td>0.523922</td>\n",
              "      <td>0.523922</td>\n",
              "      <td>0.523922</td>\n",
              "      <td>0.523922</td>\n",
              "      <td>0.523922</td>\n",
              "      <td>0.523922</td>\n",
              "    </tr>\n",
              "    <tr>\n",
              "      <th>0</th>\n",
              "      <td>0.349875</td>\n",
              "      <td>0.349875</td>\n",
              "      <td>0.349875</td>\n",
              "      <td>0.349875</td>\n",
              "      <td>0.349875</td>\n",
              "      <td>0.349875</td>\n",
              "      <td>0.349875</td>\n",
              "      <td>0.349875</td>\n",
              "      <td>0.349875</td>\n",
              "      <td>0.349875</td>\n",
              "      <td>...</td>\n",
              "      <td>0.238492</td>\n",
              "      <td>0.238492</td>\n",
              "      <td>0.238492</td>\n",
              "      <td>0.238492</td>\n",
              "      <td>0.238492</td>\n",
              "      <td>0.238492</td>\n",
              "      <td>0.238492</td>\n",
              "      <td>0.238492</td>\n",
              "      <td>0.238492</td>\n",
              "      <td>0.238492</td>\n",
              "    </tr>\n",
              "  </tbody>\n",
              "</table>\n",
              "<p>2 rows × 40000 columns</p>\n",
              "</div>\n",
              "      <button class=\"colab-df-convert\" onclick=\"convertToInteractive('df-ecdba9af-5707-4802-a63b-679dd099af58')\"\n",
              "              title=\"Convert this dataframe to an interactive table.\"\n",
              "              style=\"display:none;\">\n",
              "        \n",
              "  <svg xmlns=\"http://www.w3.org/2000/svg\" height=\"24px\"viewBox=\"0 0 24 24\"\n",
              "       width=\"24px\">\n",
              "    <path d=\"M0 0h24v24H0V0z\" fill=\"none\"/>\n",
              "    <path d=\"M18.56 5.44l.94 2.06.94-2.06 2.06-.94-2.06-.94-.94-2.06-.94 2.06-2.06.94zm-11 1L8.5 8.5l.94-2.06 2.06-.94-2.06-.94L8.5 2.5l-.94 2.06-2.06.94zm10 10l.94 2.06.94-2.06 2.06-.94-2.06-.94-.94-2.06-.94 2.06-2.06.94z\"/><path d=\"M17.41 7.96l-1.37-1.37c-.4-.4-.92-.59-1.43-.59-.52 0-1.04.2-1.43.59L10.3 9.45l-7.72 7.72c-.78.78-.78 2.05 0 2.83L4 21.41c.39.39.9.59 1.41.59.51 0 1.02-.2 1.41-.59l7.78-7.78 2.81-2.81c.8-.78.8-2.07 0-2.86zM5.41 20L4 18.59l7.72-7.72 1.47 1.35L5.41 20z\"/>\n",
              "  </svg>\n",
              "      </button>\n",
              "      \n",
              "  <style>\n",
              "    .colab-df-container {\n",
              "      display:flex;\n",
              "      flex-wrap:wrap;\n",
              "      gap: 12px;\n",
              "    }\n",
              "\n",
              "    .colab-df-convert {\n",
              "      background-color: #E8F0FE;\n",
              "      border: none;\n",
              "      border-radius: 50%;\n",
              "      cursor: pointer;\n",
              "      display: none;\n",
              "      fill: #1967D2;\n",
              "      height: 32px;\n",
              "      padding: 0 0 0 0;\n",
              "      width: 32px;\n",
              "    }\n",
              "\n",
              "    .colab-df-convert:hover {\n",
              "      background-color: #E2EBFA;\n",
              "      box-shadow: 0px 1px 2px rgba(60, 64, 67, 0.3), 0px 1px 3px 1px rgba(60, 64, 67, 0.15);\n",
              "      fill: #174EA6;\n",
              "    }\n",
              "\n",
              "    [theme=dark] .colab-df-convert {\n",
              "      background-color: #3B4455;\n",
              "      fill: #D2E3FC;\n",
              "    }\n",
              "\n",
              "    [theme=dark] .colab-df-convert:hover {\n",
              "      background-color: #434B5C;\n",
              "      box-shadow: 0px 1px 3px 1px rgba(0, 0, 0, 0.15);\n",
              "      filter: drop-shadow(0px 1px 2px rgba(0, 0, 0, 0.3));\n",
              "      fill: #FFFFFF;\n",
              "    }\n",
              "  </style>\n",
              "\n",
              "      <script>\n",
              "        const buttonEl =\n",
              "          document.querySelector('#df-ecdba9af-5707-4802-a63b-679dd099af58 button.colab-df-convert');\n",
              "        buttonEl.style.display =\n",
              "          google.colab.kernel.accessAllowed ? 'block' : 'none';\n",
              "\n",
              "        async function convertToInteractive(key) {\n",
              "          const element = document.querySelector('#df-ecdba9af-5707-4802-a63b-679dd099af58');\n",
              "          const dataTable =\n",
              "            await google.colab.kernel.invokeFunction('convertToInteractive',\n",
              "                                                     [key], {});\n",
              "          if (!dataTable) return;\n",
              "\n",
              "          const docLinkHtml = 'Like what you see? Visit the ' +\n",
              "            '<a target=\"_blank\" href=https://colab.research.google.com/notebooks/data_table.ipynb>data table notebook</a>'\n",
              "            + ' to learn more about interactive tables.';\n",
              "          element.innerHTML = '';\n",
              "          dataTable['output_type'] = 'display_data';\n",
              "          await google.colab.output.renderOutput(dataTable, element);\n",
              "          const docLink = document.createElement('div');\n",
              "          docLink.innerHTML = docLinkHtml;\n",
              "          element.appendChild(docLink);\n",
              "        }\n",
              "      </script>\n",
              "    </div>\n",
              "  </div>\n",
              "  "
            ]
          },
          "metadata": {},
          "execution_count": 339
        }
      ]
    },
    {
      "cell_type": "code",
      "source": [
        "a = np.array(X_test)"
      ],
      "metadata": {
        "id": "MIyQei_QsWYj"
      },
      "execution_count": 337,
      "outputs": []
    },
    {
      "cell_type": "code",
      "source": [
        "a.shape"
      ],
      "metadata": {
        "colab": {
          "base_uri": "https://localhost:8080/"
        },
        "id": "1YEtfg2ls2Jw",
        "outputId": "792c407e-7300-45af-deed-70c9d01b39b8"
      },
      "execution_count": 340,
      "outputs": [
        {
          "output_type": "execute_result",
          "data": {
            "text/plain": [
              "(191, 40000)"
            ]
          },
          "metadata": {},
          "execution_count": 340
        }
      ]
    },
    {
      "cell_type": "code",
      "source": [
        "a[0, :].reshape(200,200).shape"
      ],
      "metadata": {
        "colab": {
          "base_uri": "https://localhost:8080/"
        },
        "id": "nv-RsIucs2No",
        "outputId": "edb6e960-b0c0-44bf-911d-6863ed353e55"
      },
      "execution_count": 343,
      "outputs": [
        {
          "output_type": "execute_result",
          "data": {
            "text/plain": [
              "(200, 200)"
            ]
          },
          "metadata": {},
          "execution_count": 343
        }
      ]
    },
    {
      "cell_type": "code",
      "source": [
        "plt.imshow(a[1, :].reshape(200,200))"
      ],
      "metadata": {
        "colab": {
          "base_uri": "https://localhost:8080/",
          "height": 451
        },
        "id": "2D59UHCPtBP2",
        "outputId": "af3c4192-10d6-4037-b8cf-504e46304b4b"
      },
      "execution_count": 345,
      "outputs": [
        {
          "output_type": "execute_result",
          "data": {
            "text/plain": [
              "<matplotlib.image.AxesImage at 0x7f9f99fdd090>"
            ]
          },
          "metadata": {},
          "execution_count": 345
        },
        {
          "output_type": "display_data",
          "data": {
            "text/plain": [
              "<Figure size 640x480 with 1 Axes>"
            ],
            "image/png": "[encoded data removed]"
          },
          "metadata": {}
        }
      ]
    },
    {
      "cell_type": "code",
      "source": [
        "plt.imshow(np.array(X_test[0:1]).reshape(200,200))"
      ],
      "metadata": {
        "colab": {
          "base_uri": "https://localhost:8080/",
          "height": 451
        },
        "id": "8eZR1ulTrpKe",
        "outputId": "28171a61-d848-48a2-afb2-94bfbf3c341c"
      },
      "execution_count": 333,
      "outputs": [
        {
          "output_type": "execute_result",
          "data": {
            "text/plain": [
              "<matplotlib.image.AxesImage at 0x7f9f9939b0a0>"
            ]
          },
          "metadata": {},
          "execution_count": 333
        },
        {
          "output_type": "display_data",
          "data": {
            "text/plain": [
              "<Figure size 640x480 with 1 Axes>"
            ],
            "image/png": "[encoded data removed]"
          },
          "metadata": {}
        }
      ]
    }
  ]
}