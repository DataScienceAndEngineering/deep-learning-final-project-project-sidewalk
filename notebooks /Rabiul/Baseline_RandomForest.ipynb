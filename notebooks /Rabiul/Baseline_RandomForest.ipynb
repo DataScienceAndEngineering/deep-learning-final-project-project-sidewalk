{
  "nbformat": 4,
  "nbformat_minor": 0,
  "metadata": {
    "colab": {
      "provenance": [],
      "private_outputs": true,
      "gpuType": "T4",
      "toc_visible": true,
      "include_colab_link": true
    },
    "kernelspec": {
      "name": "python3",
      "display_name": "Python 3"
    },
    "language_info": {
      "name": "python"
    },
    "gpuClass": "standard",
    "accelerator": "TPU"
  },
  "cells": [
    {
      "cell_type": "markdown",
      "metadata": {
        "id": "view-in-github",
        "colab_type": "text"
      },
      "source": [
        "<a href=\"https://colab.research.google.com/github/DataScienceAndEngineering/deep-learning-final-project-project-sidewalk/blob/rabiul/notebooks%20/Rabiul/Baseline_RandomForest.ipynb\" target=\"_parent\"><img src=\"https://colab.research.google.com/assets/colab-badge.svg\" alt=\"Open In Colab\"/></a>"
      ]
    },
    {
      "cell_type": "code",
      "source": [],
      "metadata": {
        "id": "idX69JKKAaZn"
      },
      "execution_count": null,
      "outputs": []
    },
    {
      "cell_type": "markdown",
      "source": [
        "Instruction\n",
        "** Please excute the following section:\n",
        "1. "
      ],
      "metadata": {
        "id": "q_RLyd6QAdzj"
      }
    },
    {
      "cell_type": "markdown",
      "source": [
        "### Loading Libraries"
      ],
      "metadata": {
        "id": "7QcascrI7M07"
      }
    },
    {
      "cell_type": "code",
      "source": [
        "from google.colab import drive\n",
        "drive.mount('/content/drive')"
      ],
      "metadata": {
        "id": "1SS4YIzG2fV1"
      },
      "execution_count": null,
      "outputs": []
    },
    {
      "cell_type": "code",
      "source": [
        "import numpy as np \n",
        "import matplotlib.pyplot as plt\n",
        "import glob\n",
        "import cv2\n",
        "import os\n",
        "import seaborn as sns\n",
        "import pandas as pd\n",
        "from skimage.filters import roberts, sobel, scharr, prewitt\n",
        "from scipy import ndimage as nd\n",
        "from sklearn.preprocessing import LabelEncoder\n",
        "from sklearn.ensemble import RandomForestClassifier\n",
        "from google.colab import drive\n",
        "import pickle\n",
        "from sklearn import metrics"
      ],
      "metadata": {
        "id": "PO2TnZE37PmF"
      },
      "execution_count": null,
      "outputs": []
    },
    {
      "cell_type": "code",
      "source": [
        "#loading data and model \n",
        "!gdown --id 1-3gbEPrVnD0YZ38ZixZrRjo3y2-NeOgr -O test.csv\n",
        "!gdown --id 1TRDaaX13CqHE8xzIXKPnhLEhniWlUR9a -O train.csv\n",
        "!gdown --id 1-14yL80KGLJzF2D6j3BXTH1dLa2knz_W -O model.sav"
      ],
      "metadata": {
        "id": "iYZPEFo99R5h"
      },
      "execution_count": null,
      "outputs": []
    },
    {
      "cell_type": "code",
      "source": [
        "model = pickle.load(open('/content/model.sav', 'rb'))"
      ],
      "metadata": {
        "id": "vBhe37Xg9SZv"
      },
      "execution_count": null,
      "outputs": []
    },
    {
      "cell_type": "code",
      "source": [
        "X_train, X_test, y_train, y_test = train_test_data('/content/train.csv', '/content/test.csv')\n",
        "print(X_train.shape, X_test.shape, y_train.shape, y_test.shape)"
      ],
      "metadata": {
        "id": "1rvqpXEQ9Sp5"
      },
      "execution_count": null,
      "outputs": []
    },
    {
      "cell_type": "code",
      "source": [
        "print(rf_accuracy(model, X_test,y_test))"
      ],
      "metadata": {
        "id": "3mBoEgmf9Znl"
      },
      "execution_count": null,
      "outputs": []
    },
    {
      "cell_type": "code",
      "source": [
        "print(rf_accuracy(model, X_train,y_train))"
      ],
      "metadata": {
        "id": "ytQBfmK79S5-"
      },
      "execution_count": null,
      "outputs": []
    },
    {
      "cell_type": "markdown",
      "source": [
        "# Data"
      ],
      "metadata": {
        "id": "GrwWFosL6HVO"
      }
    },
    {
      "cell_type": "markdown",
      "source": [
        "###  Loading Data"
      ],
      "metadata": {
        "id": "fYPpYVlJ7ALs"
      }
    },
    {
      "cell_type": "code",
      "source": [
        "%%time\n",
        "#downloading preprocessed data\n",
        "!gdown --id 12rNfOiM4allOn8t4l0ErpvgmA9hEZPh2 -O processed_labels.zip\n",
        "!gdown --id 145Ul0rdbQcX98lQz8IO5eOtI0ZlvKwz6 -O processed_images.zip"
      ],
      "metadata": {
        "id": "nlkvBNXItiHM"
      },
      "execution_count": null,
      "outputs": []
    },
    {
      "cell_type": "code",
      "source": [
        "%%time\n",
        "#unzipping the preprocessed data to local dir\n",
        "!unzip /content/processed_images.zip\n",
        "!unzip /content/processed_labels.zip"
      ],
      "metadata": {
        "id": "iRtqOCbcvSTp"
      },
      "execution_count": null,
      "outputs": []
    },
    {
      "cell_type": "markdown",
      "source": [
        "### Pre-Processing Data Step 1"
      ],
      "metadata": {
        "id": "tCDqzox07E_Q"
      }
    },
    {
      "cell_type": "code",
      "source": [
        "#path to the directory for both image and label data \n",
        "img_path = '/content/content/processed_images/*'\n",
        "lab_path = '/content/content/processed_labels/*'\n",
        "#one sample data point\n",
        "#/content/content/processed_images/aachen_000000_000019.png\n",
        "#/content/content/processed_labels/aachen_000000_000019.png"
      ],
      "metadata": {
        "id": "AgJMIX2_dDHH"
      },
      "execution_count": null,
      "outputs": []
    },
    {
      "cell_type": "code",
      "source": [
        "#loading the data indo a list, numpy array\n",
        "%%time\n",
        "train_images = glob.glob(img_path)\n",
        "train_labels = glob.glob(lab_path)\n",
        "print(len(train_images),len(train_labels))\n"
      ],
      "metadata": {
        "id": "4ZMBHtR1veez"
      },
      "execution_count": null,
      "outputs": []
    },
    {
      "cell_type": "code",
      "source": [
        "n=40\n",
        "m=2310"
      ],
      "metadata": {
        "id": "9JKgRGjYrjCn"
      },
      "execution_count": null,
      "outputs": []
    },
    {
      "cell_type": "code",
      "source": [
        "t = np.array(x_train['gray'].values)\n",
        "t = t.reshape(int(t.shape[0]/40000),40000)\n",
        "display_img(t[0].reshape(200,200))"
      ],
      "metadata": {
        "id": "FdtUv0ZEwS1F"
      },
      "execution_count": null,
      "outputs": []
    },
    {
      "cell_type": "code",
      "source": [
        "#test and train images \n",
        "x_train = create_train_image_df(train_images[:n])\n",
        "x_test = create_test_image_df(train_images[2300:m])\n",
        "print(x_train.shape,x_test.shape )\n",
        "x_train.head()"
      ],
      "metadata": {
        "id": "J1yBL0DknMZk"
      },
      "execution_count": null,
      "outputs": []
    },
    {
      "cell_type": "code",
      "source": [
        "x_test.head(2)"
      ],
      "metadata": {
        "id": "sW4cyfqJnMec"
      },
      "execution_count": null,
      "outputs": []
    },
    {
      "cell_type": "code",
      "source": [
        "#Creating train mask image Data Frame\n",
        "%%time\n",
        "dim = (200,200)\n",
        "y_train = pd.DataFrame()\n",
        "\n",
        "for label_dir in train_labels[:n]:\n",
        "  df2 = pd.DataFrame()\n",
        "  lab = cv2.imread(label_dir, 0)\n",
        "  #lab = cv2.resize(lab, dim).reshape(-1)\n",
        "  df2['label'] = cv2.resize(lab, dim).reshape(-1) \n",
        "  y_train = pd.concat([y_train, df2])\n",
        "print(y_train.shape)\n",
        "y_train.head(2)"
      ],
      "metadata": {
        "id": "FJeuq2KZrU4y"
      },
      "execution_count": null,
      "outputs": []
    },
    {
      "cell_type": "code",
      "source": [
        "#Creating test mask image Data Frame\n",
        "%%time\n",
        "dim = (200,200)\n",
        "y_test = pd.DataFrame()\n",
        "\n",
        "for label_dir in train_labels[2300:m]:\n",
        "  df2 = pd.DataFrame()\n",
        "  lab = cv2.imread(label_dir, 0)\n",
        "  #lab = cv2.resize(lab, dim).reshape(-1)\n",
        "  df2['label'] = cv2.resize(lab, dim).reshape(-1) \n",
        "  y_test = pd.concat([y_test, df2])\n",
        "print(y_test.shape)\n",
        "y_test.head(2)"
      ],
      "metadata": {
        "id": "_67502CwqnKH"
      },
      "execution_count": null,
      "outputs": []
    },
    {
      "cell_type": "code",
      "source": [
        "df_train = pd.concat([x_train, y_train], axis=1)\n",
        "print(df_train.shape)\n",
        "df_train.head(2)"
      ],
      "metadata": {
        "id": "gsuVHFS2qnPl"
      },
      "execution_count": null,
      "outputs": []
    },
    {
      "cell_type": "code",
      "source": [
        "df_test = pd.concat([x_test, y_test], axis=1)\n",
        "print(df_test.shape)\n",
        "df_test.head(2)"
      ],
      "metadata": {
        "id": "C5eM82vR1Hnv"
      },
      "execution_count": null,
      "outputs": []
    },
    {
      "cell_type": "code",
      "source": [
        "print(df_train.shape)\n",
        "print(df_test.shape)"
      ],
      "metadata": {
        "id": "APQbBEFg1aRc"
      },
      "execution_count": null,
      "outputs": []
    },
    {
      "cell_type": "code",
      "source": [
        "cd /content/drive/MyDrive/DL_Project"
      ],
      "metadata": {
        "id": "dPHqaN4g8job"
      },
      "execution_count": null,
      "outputs": []
    },
    {
      "cell_type": "code",
      "source": [
        "#only execute this cell to save the preprocessed dataframe to google drive \n",
        "df_train.to_csv('df_train.csv', index=False)\n",
        "df_test.to_csv('df_test.csv', index=False)\n",
        "#Changing directory back to \"Content\"\n"
      ],
      "metadata": {
        "id": "x8SZLWEi7If3"
      },
      "execution_count": null,
      "outputs": []
    },
    {
      "cell_type": "code",
      "source": [
        "cd /content"
      ],
      "metadata": {
        "id": "WRuWlUbn8tcW"
      },
      "execution_count": null,
      "outputs": []
    },
    {
      "cell_type": "markdown",
      "source": [
        "## PreProcess Data Step 2"
      ],
      "metadata": {
        "id": "TKTRjTQq_R6B"
      }
    },
    {
      "cell_type": "code",
      "source": [
        "#print(df_train.shape)\n",
        "#print(df_test.shape)\n",
        "print(df_train.shape, df_test.shape)"
      ],
      "metadata": {
        "id": "JjO1GlhE1fq0"
      },
      "execution_count": null,
      "outputs": []
    },
    {
      "cell_type": "code",
      "source": [
        "#Execute this cell only if you want to use GPU and GPU is setup\n",
        "import tensorflow as tf\n",
        "device_name = tf.test.gpu_device_name()\n",
        "if device_name != '/device:GPU:0':\n",
        "  raise SystemError('GPU device not found')\n",
        "print('Found GPU at: {}'.format(device_name))"
      ],
      "metadata": {
        "id": "pVkRepNvCu3o"
      },
      "execution_count": null,
      "outputs": []
    },
    {
      "cell_type": "code",
      "source": [
        "#Execute this cell only if you want to remove all zero value where label = 0. \n",
        "df_train = df_train[df_train.label != 0]\n",
        "df_test = df_test[df_test.label != 0]\n",
        "print(df_train.shape, df_test.shape)"
      ],
      "metadata": {
        "id": "tc6AFIEj1f0L"
      },
      "execution_count": null,
      "outputs": []
    },
    {
      "cell_type": "code",
      "source": [
        "X_Train = df_train.drop(labels = [\"label\"], axis=1)\n",
        "Y_Train = df_train[\"label\"].values\n",
        "\n",
        "X_Test = df_test.drop(labels = [\"label\"], axis=1)\n",
        "Y_Test = df_test[\"label\"].values\n",
        "\n",
        "\n",
        "print((X_Train.shape, Y_Train.shape),(X_Test.shape, Y_Test.shape))"
      ],
      "metadata": {
        "id": "T177MN4P2eGY"
      },
      "execution_count": null,
      "outputs": []
    },
    {
      "cell_type": "code",
      "source": [
        "Y_Train = LabelEncoder().fit_transform(Y_Train)\n",
        "Y_Test = LabelEncoder().fit_transform(Y_Test)\n",
        "print(Y_Train.shape, Y_Test.shape)"
      ],
      "metadata": {
        "id": "8FEgcJoo2ePK"
      },
      "execution_count": null,
      "outputs": []
    },
    {
      "cell_type": "code",
      "source": [],
      "metadata": {
        "id": "NfJrWrxgCmXx"
      },
      "execution_count": null,
      "outputs": []
    },
    {
      "cell_type": "code",
      "source": [],
      "metadata": {
        "id": "Op5AcVhXCmay"
      },
      "execution_count": null,
      "outputs": []
    },
    {
      "cell_type": "code",
      "source": [],
      "metadata": {
        "id": "Y_n6sEjFCmd4"
      },
      "execution_count": null,
      "outputs": []
    },
    {
      "cell_type": "code",
      "source": [],
      "metadata": {
        "id": "txVMAJoYCmg7"
      },
      "execution_count": null,
      "outputs": []
    },
    {
      "cell_type": "code",
      "source": [],
      "metadata": {
        "id": "iI3VIuPlCmkM"
      },
      "execution_count": null,
      "outputs": []
    },
    {
      "cell_type": "markdown",
      "source": [
        "#Feature Importance "
      ],
      "metadata": {
        "id": "utRiYBzDCm1K"
      }
    },
    {
      "cell_type": "markdown",
      "source": [
        "# MODEL"
      ],
      "metadata": {
        "id": "YYZ0a30I6NNu"
      }
    },
    {
      "cell_type": "code",
      "source": [
        "model = RandomForestClassifier(n_estimators=100, criterion='entropy', max_depth=None, \n",
        "                            min_samples_split=2, min_samples_leaf=1, min_weight_fraction_leaf=0.0, \n",
        "                            max_features='auto', max_leaf_nodes=None, min_impurity_decrease=0.0, \n",
        "                            bootstrap=True, oob_score=False, n_jobs=None, random_state=2, \n",
        "                            verbose=0, warm_start=False, class_weight=None, ccp_alpha=0.0, \n",
        "                            max_samples=None)"
      ],
      "metadata": {
        "id": "WIIIcyUUzTY_"
      },
      "execution_count": null,
      "outputs": []
    },
    {
      "cell_type": "markdown",
      "source": [
        "## FIT & Save Model"
      ],
      "metadata": {
        "id": "gB-kE0C26Zqs"
      }
    },
    {
      "cell_type": "code",
      "source": [
        "cd /content/drive/MyDrive/DL_Project"
      ],
      "metadata": {
        "id": "0bhiHlMjqT3b"
      },
      "execution_count": null,
      "outputs": []
    },
    {
      "cell_type": "code",
      "source": [
        "%%time\n",
        "## Train the model on training data\n",
        "model.fit(X_Train, Y_Train)"
      ],
      "metadata": {
        "id": "il3_TV0q29MC"
      },
      "execution_count": null,
      "outputs": []
    },
    {
      "cell_type": "code",
      "source": [
        "#Save the trained model as pickle string to google drive for future use \n",
        "filename = \"rf_model2_withzero.sav\"\n",
        "pickle.dump(model, open(filename, 'wb'))\n",
        "#Changing directory back to \"Content\"\n",
        "cd /content"
      ],
      "metadata": {
        "id": "euEnyJ0KH8hk"
      },
      "execution_count": null,
      "outputs": []
    },
    {
      "cell_type": "markdown",
      "source": [
        "## Predict"
      ],
      "metadata": {
        "id": "bhz6ChqizydG"
      }
    },
    {
      "cell_type": "code",
      "source": [
        "prediction_test = model.predict(X_Test)"
      ],
      "metadata": {
        "id": "0auJH93AgVHs"
      },
      "execution_count": null,
      "outputs": []
    },
    {
      "cell_type": "code",
      "source": [
        "print (\"Testing Accuracy = \", metrics.accuracy_score(Y_Test, prediction_test))"
      ],
      "metadata": {
        "id": "vt7LxLRO0jJ_"
      },
      "execution_count": null,
      "outputs": []
    },
    {
      "cell_type": "code",
      "source": [
        "Y_pred = prediction_test.reshape(int(prediction_test.shape[0]/40000),40000)\n",
        "Y_true = Y_Test.reshape(int(Y_Test.shape[0]/40000),40000)\n",
        "print(Y_true.shape,Y_pred.shape )"
      ],
      "metadata": {
        "id": "xSsXPBvc1XjU"
      },
      "execution_count": null,
      "outputs": []
    },
    {
      "cell_type": "code",
      "source": [
        "print (\"Testing Accuracy = \", metrics.accuracy_score(Y_true[0].reshape(200,200), Y_pred[0].reshape(200,200)))"
      ],
      "metadata": {
        "id": "wcVE4OgS6EEH"
      },
      "execution_count": null,
      "outputs": []
    },
    {
      "cell_type": "code",
      "source": [
        "import numpy as np\n",
        "from sklearn.metrics import jaccard_score"
      ],
      "metadata": {
        "id": "I8-O9m_zjOEO"
      },
      "execution_count": null,
      "outputs": []
    },
    {
      "cell_type": "code",
      "source": [
        "print (\"Training Accuracy = \", jaccard_score(Y_true, Y_pred,average='micro'))"
      ],
      "metadata": {
        "id": "_cF0vQENjQ28"
      },
      "execution_count": null,
      "outputs": []
    },
    {
      "cell_type": "code",
      "source": [],
      "metadata": {
        "id": "3lovB0fgt-5S"
      },
      "execution_count": null,
      "outputs": []
    },
    {
      "cell_type": "markdown",
      "source": [
        "# Functions"
      ],
      "metadata": {
        "id": "WoXAEEd0sJk6"
      }
    },
    {
      "cell_type": "code",
      "source": [
        "def gabor_feature_extraction(img, lamda, gamma):\n",
        "  kernel = cv2.getGaborKernel((8, 8), 1, 0, lamda, gamma, 0, ktype=cv2.CV_32F)\n",
        "  gabor_img = cv2.filter2D(img, cv2.CV_8UC3, kernel)\n",
        "  return gabor_img.reshape(-1,1)/255\n"
      ],
      "metadata": {
        "id": "-vv5vreOsLXu"
      },
      "execution_count": null,
      "outputs": []
    },
    {
      "cell_type": "code",
      "source": [
        "def preprocess_image(img):\n",
        "  #function will accept a numpy.ndarray\n",
        "\n",
        "  #GAUSSIAN blur 1\n",
        "  gblur = cv2.GaussianBlur(img, (5,5),7)\n",
        "  #Laplacian\n",
        "  laplacian = cv2.Laplacian(img, cv2.CV_64F, ksize=7) \n",
        "  #SOBEL\n",
        "  sobele = cv2.Sobel(img,cv2.CV_64F, 0,1,ksize=5)\n",
        "  #CANNY \n",
        "  cany = cv2.Canny(np.uint8(sobele), 100,200)\n",
        "\n",
        "  #return cany\n",
        "  return (gblur.reshape(-1)/255,laplacian.reshape(-1)/255,sobele.reshape(-1)/255,cany.reshape(-1)/255)"
      ],
      "metadata": {
        "id": "CZ_JrjPPsLz_"
      },
      "execution_count": null,
      "outputs": []
    },
    {
      "cell_type": "code",
      "source": [
        "def preprocess_image_org(img):\n",
        "  #GAUSSIAN blur 1\n",
        "  blur1 = nd.gaussian_filter(img, sigma=3)\n",
        "  #GAUSSIAN blur2\n",
        "  blur2 = nd.gaussian_filter(img, sigma=7)\n",
        "  #SOBEL\n",
        "  sobele = sobel(blur2)\n",
        "  #CANNY \n",
        "  cany = cv2.Canny(np.uint8(sobele), 100,200)\n",
        "  #return cany\n",
        "  return (blur1.reshape(-1,1),blur2.reshape(-1,1),sobele.reshape(-1,1),cany.reshape(-1,1))"
      ],
      "metadata": {
        "id": "BVCA-uLQsL2h"
      },
      "execution_count": null,
      "outputs": []
    },
    {
      "cell_type": "code",
      "source": [
        "def display_img(img):\n",
        "  fig = plt.figure(figsize=(8,8))\n",
        "  ax = fig.add_subplot(111)\n",
        "  ax.imshow(img,cmap='gray')"
      ],
      "metadata": {
        "id": "00mkCqMssL5R"
      },
      "execution_count": null,
      "outputs": []
    },
    {
      "cell_type": "code",
      "source": [
        "def load_img(image_path):\n",
        "  return cv2.imread(image_path, 0).astype(np.float32)/255\n"
      ],
      "metadata": {
        "id": "1ocjCADFplBx"
      },
      "execution_count": null,
      "outputs": []
    },
    {
      "cell_type": "code",
      "source": [
        "def generate_one_test_image(image_dir):\n",
        "  img = cv2.imread(image_dir, 0)\n",
        "  g1 = img/255\n",
        "  _,thresh3  = cv2.threshold(img, 80, 255, cv2.THRESH_BINARY_INV)\n",
        "  binay_inv = thresh3/255\n",
        "  adaptive_thresh = cv2.adaptiveThreshold(img, 255, cv2.ADAPTIVE_THRESH_MEAN_C,cv2.THRESH_BINARY,11, 11)/255\n",
        "  gb1 = gabor_feature_extraction(img,.8, .05 )/255\n",
        "  gb2 = gabor_feature_extraction(img,1.6, .5 )/255\n",
        "  blur, laplacian, sobel, cany = preprocess_image(img)\n",
        "  return np.hstack((g1.reshape(-1,1), binay_inv.reshape(-1,1), adaptive_thresh.reshape(-1,1), \n",
        "                    gb1.reshape(-1,1), gb2.reshape(-1,1), blur.reshape(-1,1), \n",
        "                    laplacian.reshape(-1,1), sobel.reshape(-1,1), cany.reshape(-1,1)))\n"
      ],
      "metadata": {
        "id": "1zQxJi2WplEg"
      },
      "execution_count": null,
      "outputs": []
    },
    {
      "cell_type": "code",
      "source": [
        "def generate_one_test_image_df(image_dir):\n",
        "  dim = (200,200)\n",
        "  test_df = pd.DataFrame()\n",
        "  img = cv2.imread(image_dir, 0)\n",
        "  img = cv2.resize(img, dim)\n",
        "  g1 = img/255\n",
        "  _,thresh3  = cv2.threshold(img, 80, 255, cv2.THRESH_BINARY_INV)\n",
        "  binay_inv = thresh3/255\n",
        "  adaptive_thresh = cv2.adaptiveThreshold(img, 255, cv2.ADAPTIVE_THRESH_MEAN_C,cv2.THRESH_BINARY,11, 11)/255\n",
        "  gb1 = gabor_feature_extraction(img,.8, .05 )/255\n",
        "  gb2 = gabor_feature_extraction(img,1.6, .5 )/255\n",
        "  blur, laplacian, sobel, cany = preprocess_image(img)\n",
        "\n",
        "  test_df['gray']= g1.reshape(-1)\n",
        "  test_df['binay_inv']= binay_inv.reshape(-1)\n",
        "  test_df['adaptive_thresh']=adaptive_thresh.reshape(-1)\n",
        "  test_df['gabor1'] = gabor_feature_extraction(img,.8, .05 ).reshape(-1)\n",
        "  test_df['gabor2'] = gabor_feature_extraction(img,1.6, .5 ).reshape(-1)\n",
        "  test_df['blur'], test_df['laplacian'], test_df['sobelx'], test_df['canny'] = blur.reshape(-1), laplacian.reshape(-1), sobel.reshape(-1), cany.reshape(-1)\n",
        "\n",
        "  return test_df\n"
      ],
      "metadata": {
        "id": "rx5nfg_-plH2"
      },
      "execution_count": null,
      "outputs": []
    },
    {
      "cell_type": "code",
      "source": [
        "def generate_one_test_image_df_a(image_dir):\n",
        "  #this function is getting an image as an input \n",
        "  test_df = pd.DataFrame()\n",
        "  #img = cv2.imread(image_dir, 0)\n",
        "  img = image_dir\n",
        "  g1 = img/255\n",
        "  _,thresh3  = cv2.threshold(img, 80, 255, cv2.THRESH_BINARY_INV)\n",
        "  binay_inv = thresh3/255\n",
        "  adaptive_thresh = cv2.adaptiveThreshold(img, 255, cv2.ADAPTIVE_THRESH_MEAN_C,cv2.THRESH_BINARY,11, 11)/255\n",
        "  gb1 = gabor_feature_extraction(img,.8, .05 )/255\n",
        "  gb2 = gabor_feature_extraction(img,1.6, .5 )/255\n",
        "  blur, laplacian, sobel, cany = preprocess_image(img)\n",
        "\n",
        "  test_df['gray']= g1.reshape(-1)\n",
        "  test_df['binay_inv']= binay_inv.reshape(-1)\n",
        "  test_df['adaptive_thresh']=adaptive_thresh.reshape(-1)\n",
        "  test_df['gabor1'] = gabor_feature_extraction(img,.8, .05 ).reshape(-1)\n",
        "  test_df['gabor2'] = gabor_feature_extraction(img,1.6, .5 ).reshape(-1)\n",
        "  test_df['blur'], test_df['laplacian'], test_df['sobelx'], test_df['canny'] = blur.reshape(-1), laplacian.reshape(-1), sobel.reshape(-1), cany.reshape(-1)\n",
        "\n",
        "  return test_df"
      ],
      "metadata": {
        "id": "qvBiGJ_nek2P"
      },
      "execution_count": null,
      "outputs": []
    },
    {
      "cell_type": "code",
      "source": [
        "def visualize_images(img, gt, pred):\n",
        "    if pred is not None:\n",
        "        fig, axes = plt.subplots(1, 3, figsize=(12, 8))\n",
        "    else:\n",
        "        fig, axes = plt.subplots(1, 2, figsize=(8, 8))\n",
        "\n",
        "    axes[0].imshow(img)\n",
        "    axes[0].set_title('Actual Image')\n",
        "\n",
        "    axes[1].imshow(gt)\n",
        "    axes[1].set_title('Masked Image')\n",
        "    \n",
        "    if pred is not None:\n",
        "        axes[2].imshow(pred)\n",
        "        axes[2].set_title('Predicted Image')"
      ],
      "metadata": {
        "id": "L5OnUvljBEEI"
      },
      "execution_count": null,
      "outputs": []
    },
    {
      "cell_type": "code",
      "source": [
        "def visualize_images_2(img, gt, pred):\n",
        "    if pred is not None:\n",
        "        fig, axes = plt.subplots(1, 3, figsize=(12, 8))\n",
        "    else:\n",
        "        fig, axes = plt.subplots(1, 2, figsize=(8, 8))\n",
        "\n",
        "    axes[0].imshow(img)\n",
        "    axes[0].set_title('Actual Image')\n",
        "\n",
        "    axes[1].imshow(gt)\n",
        "    axes[1].set_title('erosion5')\n",
        "    \n",
        "    if pred is not None:\n",
        "        axes[2].imshow(pred)\n",
        "        axes[2].set_title('Gradiant')"
      ],
      "metadata": {
        "id": "e0Ma5yc59JYT"
      },
      "execution_count": null,
      "outputs": []
    },
    {
      "cell_type": "code",
      "source": [
        "def plot(history):\n",
        "  acc = history.history['accuracy']\n",
        "  val_acc = history.history['val_accuracy']\n",
        "  loss = history.history['loss']\n",
        "  val_loss = history.history['val_loss']\n",
        "\n",
        "  epochs = range(1,len(acc)+1)\n",
        "\n",
        "  plt.title('Training and validation accuracy')\n",
        "  plt.plot(epochs, acc, color='blue', label='Train')\n",
        "  plt.plot(epochs, val_acc, color='orange', label='Val')\n",
        "  plt.xlabel('Epoch')\n",
        "  plt.ylabel('Accuracy')\n",
        "  plt.legend()\n",
        "\n",
        "  _ = plt.figure()\n",
        "  plt.title('Training and validation loss')\n",
        "  plt.plot(epochs, loss, color='blue', label='Train')\n",
        "  plt.plot(epochs, val_loss, color='orange', label='Val')\n",
        "  plt.xlabel('Epoch')\n",
        "  plt.ylabel('Loss')\n",
        "  plt.legend()"
      ],
      "metadata": {
        "id": "h3aNpbOIBZ44"
      },
      "execution_count": null,
      "outputs": []
    },
    {
      "cell_type": "code",
      "source": [
        "def create_test_image_df(train_images,n):\n",
        "  '''provide a list of image directory and n= number of image'''\n",
        "  image_df = pd.DataFrame()\n",
        "  for img_dir in train_images[:n]:\n",
        "    image_df = pd.concat([image_df, generate_one_test_image_df(img_dir)])\n",
        "  return image_df"
      ],
      "metadata": {
        "id": "M8iJi35OBZ7v"
      },
      "execution_count": null,
      "outputs": []
    },
    {
      "cell_type": "code",
      "source": [
        "def create_train_image_df(train_images):\n",
        "  '''provide a list of image directory and n= number of image you want , test image starts from 2300'''\n",
        "  image_df = pd.DataFrame()\n",
        "  for img_dir in train_images:\n",
        "    image_df = pd.concat([image_df, generate_one_test_image_df(img_dir)])\n",
        "  print('train', image_df.shape)\n",
        "  return image_df\n",
        "\n",
        "def create_test_image_df(train_images):\n",
        "  import pandas as pd\n",
        "  '''provide a list of image directory and n= number of image'''\n",
        "  image_df = pd.DataFrame()\n",
        "  for img_dir in train_images:\n",
        "    single_img_df = generate_one_test_image_df(img_dir)\n",
        "    image_df = pd.concat([image_df,single_img_df ])\n",
        "  print('test', image_df.shape)\n",
        "  return image_df"
      ],
      "metadata": {
        "id": "P_SA7aY0jisz"
      },
      "execution_count": null,
      "outputs": []
    },
    {
      "cell_type": "code",
      "source": [
        "def train_test_data(df_train, df_test):\n",
        "  '''df_train, df_test > provide both test and train df with image data and label data'''\n",
        "  df_train = pd.read_csv(df_train) \n",
        "  df_test = pd.read_csv(df_test) \n",
        "  X_Train = df_train.drop(labels = [\"label\"], axis=1)\n",
        "  Y_Train = df_train[\"label\"].values\n",
        "\n",
        "  X_Test = df_test.drop(labels = [\"label\"], axis=1)\n",
        "  Y_Test = df_test[\"label\"].values\n",
        "\n",
        "  Y_Train = LabelEncoder().fit_transform(Y_Train)\n",
        "  Y_Test = LabelEncoder().fit_transform(Y_Test)\n",
        "\n",
        "  return X_Train,X_Test, Y_Train, Y_Test"
      ],
      "metadata": {
        "id": "Bd90XMhevRZR"
      },
      "execution_count": null,
      "outputs": []
    },
    {
      "cell_type": "code",
      "source": [
        "def rf_accuracy(model, X, Y):\n",
        "  'provide the randomforest model, X: test/train data, y: test/train label '\n",
        "  prediction_test = model.predict(X)\n",
        "  Y_pred = prediction_test.reshape(int(prediction_test.shape[0]/40000),40000)\n",
        "  Y_true = Y.reshape(int(Y.shape[0]/40000),40000)\n",
        "  return metrics.accuracy_score(Y_true[0].reshape(200,200), Y_pred[0].reshape(200,200))"
      ],
      "metadata": {
        "id": "3l-k6ezk9Hyn"
      },
      "execution_count": null,
      "outputs": []
    },
    {
      "cell_type": "code",
      "source": [
        "def plot_feature_importance(importance,names,model_type):\n",
        "  #Create arrays from feature importance and feature names\n",
        "  feature_importance = np.array(importance)\n",
        "  feature_names = np.array(names)\n",
        "\n",
        "  #Create a DataFrame using a Dictionary\n",
        "  data={'feature_names':feature_names,'feature_importance':feature_importance}\n",
        "  fi_df = pd.DataFrame(data)\n",
        "\n",
        "  #Sort the DataFrame in order decreasing feature importance\n",
        "  fi_df.sort_values(by=['feature_importance'], ascending=False,inplace=True)\n",
        "\n",
        "  #Define size of bar plot\n",
        "  plt.figure(figsize=(10,8))\n",
        "  #Plot Searborn bar chart\n",
        "  sns.barplot(x=fi_df['feature_importance'], y=fi_df['feature_names'])\n",
        "  #Add chart labels\n",
        "  plt.title(model_type + 'FEATURE IMPORTANCE')\n",
        "  plt.xlabel('FEATURE IMPORTANCE')\n",
        "  plt.ylabel('FEATURE NAMES')"
      ],
      "metadata": {
        "id": "NhdkaDF1h2HU"
      },
      "execution_count": null,
      "outputs": []
    },
    {
      "cell_type": "code",
      "source": [
        "def precision_score_(groundtruth_mask, pred_mask):\n",
        "    intersect = np.sum(pred_mask*groundtruth_mask)\n",
        "    total_pixel_pred = np.sum(pred_mask)\n",
        "    precision = np.mean(intersect/total_pixel_pred)\n",
        "    return round(precision, 3)\n",
        "\n",
        "def recall_score_(groundtruth_mask, pred_mask):\n",
        "    intersect = np.sum(pred_mask*groundtruth_mask)\n",
        "    total_pixel_truth = np.sum(groundtruth_mask)\n",
        "    recall = np.mean(intersect/total_pixel_truth)\n",
        "    return round(recall, 3)\n",
        "\n",
        "\n",
        "def accuracy(groundtruth_mask, pred_mask):\n",
        "    intersect = np.sum(pred_mask*groundtruth_mask)\n",
        "    union = np.sum(pred_mask) + np.sum(groundtruth_mask) - intersect\n",
        "    xor = np.sum(groundtruth_mask==pred_mask)\n",
        "    acc = np.mean(xor/(union + xor - intersect))\n",
        "    return round(acc, 3)\n",
        "\n",
        "def dice_coef(groundtruth_mask, pred_mask):\n",
        "    intersect = np.sum(pred_mask*groundtruth_mask)\n",
        "    total_sum = np.sum(pred_mask) + np.sum(groundtruth_mask)\n",
        "    dice = np.mean(2*intersect/total_sum)\n",
        "    return round(dice, 3) #round up to 3 decimal places\n",
        "\n",
        "def iou(groundtruth_mask, pred_mask):\n",
        "    intersect = np.sum(pred_mask*groundtruth_mask)\n",
        "    union = np.sum(pred_mask) + np.sum(groundtruth_mask) - intersect\n",
        "    iou = np.mean(intersect/union)\n",
        "    return round(iou, 3)"
      ],
      "metadata": {
        "id": "O5N23gTLEmwM"
      },
      "execution_count": null,
      "outputs": []
    },
    {
      "cell_type": "markdown",
      "source": [
        "# Edge detection and  Thresholding"
      ],
      "metadata": {
        "id": "4PAovo-cEm7r"
      }
    },
    {
      "cell_type": "code",
      "source": [
        "mask_img = cv2.imread('/content/content/processed_labels/strasbourg_000001_038281.png',0)\n",
        "cl_img =cv2.imread('/content/content/processed_images/strasbourg_000001_038281.png')\n",
        "img = cv2.imread('/content/content/processed_images/strasbourg_000001_038281.png',0)"
      ],
      "metadata": {
        "id": "5NSZLYnEhkLr"
      },
      "execution_count": null,
      "outputs": []
    },
    {
      "cell_type": "code",
      "source": [
        "img = cv2.imread(train_images[0],0)"
      ],
      "metadata": {
        "id": "D4a6c1SoEol3"
      },
      "execution_count": null,
      "outputs": []
    },
    {
      "cell_type": "code",
      "source": [
        "display_img(img)"
      ],
      "metadata": {
        "id": "dvf4UKFnErAt"
      },
      "execution_count": null,
      "outputs": []
    },
    {
      "cell_type": "code",
      "source": [
        "_,thresh1 = cv2.threshold(img,127,255,cv2.THRESH_BINARY)\n",
        "display_img(thresh1)"
      ],
      "metadata": {
        "id": "hr63cCukE0d4"
      },
      "execution_count": null,
      "outputs": []
    },
    {
      "cell_type": "code",
      "source": [
        "_,thresh2 = cv2.threshold(img,127,255,cv2.THRESH_BINARY_INV)\n",
        "plt.imshow(thresh2,cmap='gray')"
      ],
      "metadata": {
        "id": "9RfECvUPFF8_"
      },
      "execution_count": null,
      "outputs": []
    },
    {
      "cell_type": "code",
      "source": [
        "_,thresh3 = cv2.threshold(img,127,255,cv2.THRESH_TRUNC)\n",
        "plt.imshow(thresh3,cmap='gray')"
      ],
      "metadata": {
        "id": "jLHQLnOvGOKk"
      },
      "execution_count": null,
      "outputs": []
    },
    {
      "cell_type": "code",
      "source": [
        "_,thresh4 = cv2.threshold(img,127,255,cv2.THRESH_TOZERO)\n",
        "plt.imshow(thresh4,cmap='gray')"
      ],
      "metadata": {
        "id": "6Na1ZADiGOV2"
      },
      "execution_count": null,
      "outputs": []
    },
    {
      "cell_type": "code",
      "source": [
        "_,thresh5 = cv2.threshold(img,127,255,cv2.THRESH_TOZERO_INV)\n",
        "plt.imshow(thresh5,cmap='gray')"
      ],
      "metadata": {
        "id": "buUwjhOlGOb_"
      },
      "execution_count": null,
      "outputs": []
    },
    {
      "cell_type": "code",
      "source": [
        "gamma = 1/4\n",
        "effected_image1 = np.power(img, gamma)\n",
        "display_img(effected_image1)"
      ],
      "metadata": {
        "id": "H3d2aI6VIzdo"
      },
      "execution_count": null,
      "outputs": []
    },
    {
      "cell_type": "code",
      "source": [
        "gamma = 2\n",
        "effected_image2 = np.power(img, gamma)\n",
        "display_img(effected_image2)"
      ],
      "metadata": {
        "id": "bDRnfKtTJSv-"
      },
      "execution_count": null,
      "outputs": []
    },
    {
      "cell_type": "code",
      "source": [
        "median_blur = cv2.medianBlur(img,5)\n",
        "display_img(median_blur)"
      ],
      "metadata": {
        "id": "RfTykqS0JZRb"
      },
      "execution_count": null,
      "outputs": []
    },
    {
      "cell_type": "code",
      "source": [
        "#Erosion\n",
        "#Erodes away boundaries of foreground objects. Works best when foreground is light color (preferrably white) and background is dark.\n",
        "kernel = np.ones((5,5),np.uint8)\n",
        "erosion1 = cv2.erode(img,kernel,iterations = 1)\n",
        "display_img(erosion1)"
      ],
      "metadata": {
        "id": "T1NszrvTKCYu"
      },
      "execution_count": null,
      "outputs": []
    },
    {
      "cell_type": "code",
      "source": [
        "kernel = np.ones((5,5),np.uint8)\n",
        "erosion5 = cv2.erode(img,kernel,iterations = 4)\n",
        "display_img(erosion5)"
      ],
      "metadata": {
        "id": "j1c9be4xKlde"
      },
      "execution_count": null,
      "outputs": []
    },
    {
      "cell_type": "code",
      "source": [
        "white_noise = np.random.randint(low=0,high=2,size=(256,512))\n",
        "white_noise = white_noise*255\n",
        "noise_img = white_noise+img\n",
        "display_img(noise_img)"
      ],
      "metadata": {
        "id": "0TXpTH0RKwVl"
      },
      "execution_count": null,
      "outputs": []
    },
    {
      "cell_type": "code",
      "source": [
        "gradient = cv2.morphologyEx(img,cv2.MORPH_GRADIENT,kernel)\n",
        "display_img(gradient)"
      ],
      "metadata": {
        "id": "0T578kg1K3dE"
      },
      "execution_count": null,
      "outputs": []
    },
    {
      "cell_type": "code",
      "source": [
        "eq_img= cv2.equalizeHist(img)\n",
        "display_img(eq_img)"
      ],
      "metadata": {
        "id": "FifNSaWNLzM1"
      },
      "execution_count": null,
      "outputs": []
    },
    {
      "cell_type": "code",
      "source": [
        "kernel = cv2.getGaborKernel((8, 8), 1, 0, .8, .05, 0, ktype=cv2.CV_32F)\n",
        "gabor1 = cv2.filter2D(img, cv2.CV_8UC3, kernel)\n",
        "plt.imshow(gabor1,cmap='gray')"
      ],
      "metadata": {
        "id": "nu9aVB-dLzPj"
      },
      "execution_count": null,
      "outputs": []
    },
    {
      "cell_type": "code",
      "source": [
        "kernel2 = cv2.getGaborKernel((8, 8), 1, 0, 1.6, .5, 0, ktype=cv2.CV_32F)\n",
        "gabor2 = cv2.filter2D(img, cv2.CV_8UC3, kernel2)\n",
        "plt.imshow(gabor2,cmap='gray')"
      ],
      "metadata": {
        "id": "7_T1liQ6S96l"
      },
      "execution_count": null,
      "outputs": []
    },
    {
      "cell_type": "code",
      "source": [
        "# kernel size\n",
        "ksize = 31  \n",
        "# sigma for Gaussian envelope\n",
        "sigma = 5  \n",
        "# range of orientation values\n",
        "theta_range = np.arange(0, np.pi, np.pi / 4) \n",
        "# frequency of sinusoidal wave\n",
        "frequency = 0.3  \n",
        "# phase of sinusoidal wave\n",
        "phase = 0  \n",
        "  \n",
        "# for loop for generating different rotation\n",
        "for theta in theta_range:\n",
        "    kernel = cv2.getGaborKernel((ksize, ksize),\n",
        "                                sigma, theta,\n",
        "                                frequency, phase)\n",
        "    gabor_img = cv2.filter2D(img, cv2.CV_8UC3, kernel)\n",
        "    plt.imshow(gabor_img,\n",
        "               cmap='gray')\n",
        "    plt.title(\"Kernel with orientation = \" + str(theta))\n",
        "    plt.show()"
      ],
      "metadata": {
        "id": "CZVrwzRlQgur"
      },
      "execution_count": null,
      "outputs": []
    },
    {
      "cell_type": "code",
      "source": [
        "cl_img =cv2.imread('/content/content/processed_images/strasbourg_000001_038281.png')\n",
        " # Extract RGB color features\n",
        "r, g, b = cv2.split(cl_img)\n",
        "plt.imshow(r)"
      ],
      "metadata": {
        "id": "0ILByKu4Uqr9"
      },
      "execution_count": null,
      "outputs": []
    },
    {
      "cell_type": "code",
      "source": [
        "plt.imshow(g)"
      ],
      "metadata": {
        "id": "mipi1OyEU_Qr"
      },
      "execution_count": null,
      "outputs": []
    },
    {
      "cell_type": "code",
      "source": [
        "plt.imshow(b)"
      ],
      "metadata": {
        "id": "pMqv_9xRU_nh"
      },
      "execution_count": null,
      "outputs": []
    },
    {
      "cell_type": "code",
      "source": [
        "train_images[0], train_images[0]"
      ],
      "metadata": {
        "id": "bWhCxi-peB4E"
      },
      "execution_count": null,
      "outputs": []
    },
    {
      "cell_type": "code",
      "source": [
        "cl_img =cv2.imread('/content/content/processed_images/strasbourg_000001_038281.png')\n",
        "img = cv2.imread('/content/content/processed_images/strasbourg_000001_038281.png',0)\n",
        " # Extract RGB color features\n",
        "r, g, b = cv2.split(cl_img)"
      ],
      "metadata": {
        "id": "bZeUnGEZeGar"
      },
      "execution_count": null,
      "outputs": []
    },
    {
      "cell_type": "code",
      "source": [
        "cl_img =cv2.imread(train_images[0])\n",
        "img = cv2.imread(train_images[0],0)\n",
        " # Extract RGB color features\n",
        "r, g, b = cv2.split(cl_img)"
      ],
      "metadata": {
        "id": "m2fPIkDXVGTA"
      },
      "execution_count": null,
      "outputs": []
    },
    {
      "cell_type": "code",
      "source": [
        "_,thresh1 = cv2.threshold(img,127,255,cv2.THRESH_BINARY)\n",
        "_,thresh2 = cv2.threshold(img,127,255,cv2.THRESH_BINARY_INV)\n",
        "_,thresh3 = cv2.threshold(img,127,255,cv2.THRESH_TRUNC)\n",
        "_,thresh4 = cv2.threshold(img,127,255,cv2.THRESH_TOZERO)\n",
        "_,thresh5 = cv2.threshold(img,127,255,cv2.THRESH_TOZERO_INV)\n",
        "effected_image1 = np.power(img, .25)\n",
        "effected_image2 = np.power(img, 2)\n",
        "median_blur = cv2.medianBlur(img,5)\n",
        "#Erosion\n",
        "kernel = np.ones((5,5),np.uint8)\n",
        "erosion1 = cv2.erode(img,kernel,iterations = 1)\n",
        "erosion5 = cv2.erode(img,kernel,iterations = 4)\n",
        "white_noise = np.random.randint(low=0,high=2,size=(256,512))\n",
        "white_noise = white_noise*255\n",
        "noise_img = white_noise+img\n",
        "gradient = cv2.morphologyEx(img,cv2.MORPH_GRADIENT,kernel)\n",
        "eq_img= cv2.equalizeHist(img)\n",
        "kernel = cv2.getGaborKernel((8, 8), 1, 0, .8, .05, 0, ktype=cv2.CV_32F)\n",
        "gabor1 = cv2.filter2D(img, cv2.CV_8UC3, kernel)\n",
        "kernel2 = cv2.getGaborKernel((8, 8), 1, 0, 1.6, .5, 0, ktype=cv2.CV_32F)\n",
        "gabor2 = cv2.filter2D(img, cv2.CV_8UC3, kernel2)"
      ],
      "metadata": {
        "id": "J3u5-EKcbdHq"
      },
      "execution_count": null,
      "outputs": []
    },
    {
      "cell_type": "markdown",
      "source": [
        "## feature importance"
      ],
      "metadata": {
        "id": "KRXw_tXMVc3A"
      }
    },
    {
      "cell_type": "code",
      "source": [
        "df = pd.DataFrame()\n",
        "df['gray'] = img.reshape(-1)/255"
      ],
      "metadata": {
        "id": "nL8A1pngVhHt"
      },
      "execution_count": null,
      "outputs": []
    },
    {
      "cell_type": "code",
      "source": [
        "df['r'] = r.reshape(-1)/255\n",
        "df['g'] = g.reshape(-1)/255\n",
        "df['b'] = b.reshape(-1)/255"
      ],
      "metadata": {
        "id": "7z5LRUmDVrZ0"
      },
      "execution_count": null,
      "outputs": []
    },
    {
      "cell_type": "code",
      "source": [
        "df['thresh1'] = thresh1.reshape(-1)/255\n",
        "df['thresh2'] = thresh2.reshape(-1)/255\n",
        "df['thresh3'] = thresh3.reshape(-1)/255\n",
        "df['thresh4'] = thresh4.reshape(-1)/255\n",
        "df['thresh5'] = thresh5.reshape(-1)/255"
      ],
      "metadata": {
        "id": "5viPUSmdVy28"
      },
      "execution_count": null,
      "outputs": []
    },
    {
      "cell_type": "code",
      "source": [
        "df['effected_image2'] = effected_image2.reshape(-1)/255\n",
        "df['effected_image1'] = effected_image1.reshape(-1)/255"
      ],
      "metadata": {
        "id": "Hqc8FeHQWqPD"
      },
      "execution_count": null,
      "outputs": []
    },
    {
      "cell_type": "code",
      "source": [
        "df['median_blur'] = median_blur.reshape(-1)/255\n",
        "df['erosion1'] = erosion1.reshape(-1)/255\n",
        "df['erosion5'] = erosion5.reshape(-1)/255\n",
        "df['noise_img'] = noise_img.reshape(-1)/255\n",
        "df['gradient'] = gradient.reshape(-1)/255\n",
        "df['eq_img'] = eq_img.reshape(-1)/255\n",
        "df['gabor1'] = gabor1.reshape(-1)/255\n",
        "df['gabor2'] = gabor2.reshape(-1)/255"
      ],
      "metadata": {
        "id": "8_EX_BliWqR4"
      },
      "execution_count": null,
      "outputs": []
    },
    {
      "cell_type": "code",
      "source": [
        " blur, laplacian, sobel, cany = preprocess_image(img)\n",
        "df['blur'], df['laplacian'], df['sobelx'], df['canny'] = blur.reshape(-1), laplacian.reshape(-1), sobel.reshape(-1), cany.reshape(-1)"
      ],
      "metadata": {
        "id": "rzZzcnEeWqVG"
      },
      "execution_count": null,
      "outputs": []
    },
    {
      "cell_type": "code",
      "source": [
        "df.shape"
      ],
      "metadata": {
        "id": "7vMXq-KpWFXx"
      },
      "execution_count": null,
      "outputs": []
    },
    {
      "cell_type": "code",
      "source": [
        "train_labels[0]"
      ],
      "metadata": {
        "id": "1907MQYpePz6"
      },
      "execution_count": null,
      "outputs": []
    },
    {
      "cell_type": "code",
      "source": [
        "mask_img = cv2.imread('/content/content/processed_labels/strasbourg_000001_038281.png',0)\n",
        "plt.imshow(mask_img)"
      ],
      "metadata": {
        "id": "7PStk7kueP_U"
      },
      "execution_count": null,
      "outputs": []
    },
    {
      "cell_type": "code",
      "source": [
        "mask_img = cv2.imread(train_labels[0],0)\n",
        "plt.imshow(mask_img)"
      ],
      "metadata": {
        "id": "TvSLnI7LWF5_"
      },
      "execution_count": null,
      "outputs": []
    },
    {
      "cell_type": "code",
      "source": [
        "df['Labels'] = mask_img.reshape(-1)/255"
      ],
      "metadata": {
        "id": "JUupQIgMYN09"
      },
      "execution_count": null,
      "outputs": []
    },
    {
      "cell_type": "code",
      "source": [
        "from sklearn.preprocessing import LabelEncoder\n",
        "Y = df[\"Labels\"].values\n",
        "Y = LabelEncoder().fit_transform(Y)"
      ],
      "metadata": {
        "id": "CUdI9lY1Z2Gc"
      },
      "execution_count": null,
      "outputs": []
    },
    {
      "cell_type": "code",
      "source": [
        "#removing label data \n",
        "X = df.drop(labels = [\"Labels\"], axis=1) "
      ],
      "metadata": {
        "id": "cOyhx0ivZ_j0"
      },
      "execution_count": null,
      "outputs": []
    },
    {
      "cell_type": "code",
      "source": [
        "model = RandomForestClassifier(n_estimators=100, criterion='entropy', max_depth=None, \n",
        "                            min_samples_split=2, min_samples_leaf=1, min_weight_fraction_leaf=0.0, \n",
        "                            max_leaf_nodes=None, min_impurity_decrease=0.0, \n",
        "                            bootstrap=True, oob_score=False, n_jobs=None, random_state=2, \n",
        "                            verbose=0, warm_start=False, class_weight=None, ccp_alpha=0.0, \n",
        "                            max_samples=None)"
      ],
      "metadata": {
        "id": "YYrKgIm9axQY"
      },
      "execution_count": null,
      "outputs": []
    },
    {
      "cell_type": "code",
      "source": [
        "# Train the model on training data\n",
        "#model.fit(X_train, y_train)\n",
        "model.fit(X, Y)"
      ],
      "metadata": {
        "id": "Dfp6sxwbax8i"
      },
      "execution_count": null,
      "outputs": []
    },
    {
      "cell_type": "code",
      "source": [
        "feature_list = list(X.columns)\n",
        "feature_imp = pd.Series(model.feature_importances_,index=feature_list).sort_values(ascending=False)\n",
        "print(feature_imp)"
      ],
      "metadata": {
        "id": "Lsu9tsAUa3Yz"
      },
      "execution_count": null,
      "outputs": []
    },
    {
      "cell_type": "code",
      "source": [
        "plot_feature_importance(model.feature_importances_,X.columns,'RANDOM FOREST ')"
      ],
      "metadata": {
        "id": "2pUCvVqUhf2a"
      },
      "execution_count": null,
      "outputs": []
    },
    {
      "cell_type": "code",
      "source": [
        "features = feature_imp[feature_imp>.045]\n",
        "features"
      ],
      "metadata": {
        "id": "C2o0VDr5i_HR"
      },
      "execution_count": null,
      "outputs": []
    },
    {
      "cell_type": "code",
      "source": [
        "plot_feature_importance(features ,features.index,'RANDOM FOREST ' )"
      ],
      "metadata": {
        "id": "ywA_6aZrkYaP"
      },
      "execution_count": null,
      "outputs": []
    },
    {
      "cell_type": "markdown",
      "source": [
        "note: \n",
        "/content/content/processed_images/hanover_000000_029455.png /content/content/processed_labels/hanover_000000_029455.png\n",
        "content/content/processed_images/strasbourg_000000_015602.png /content/content/processed_labels/strasbourg_000000_015602.png"
      ],
      "metadata": {
        "id": "e9yssUrzkO6x"
      }
    },
    {
      "cell_type": "markdown",
      "source": [
        "# GridSearch CV"
      ],
      "metadata": {
        "id": "8j2SWhatj9iI"
      }
    },
    {
      "cell_type": "markdown",
      "source": [
        "## Data"
      ],
      "metadata": {
        "id": "AMpmYkksk6kv"
      }
    },
    {
      "cell_type": "code",
      "source": [
        "n=17\n",
        "train_images[n],train_labels[n]"
      ],
      "metadata": {
        "id": "qisciJelZQUq"
      },
      "execution_count": null,
      "outputs": []
    },
    {
      "cell_type": "code",
      "source": [
        "n=17\n",
        "m = cv2.imread(train_images[n]\n",
        "l = train_labels[n]"
      ],
      "metadata": {
        "id": "rizgVFMMZFyW"
      },
      "execution_count": null,
      "outputs": []
    },
    {
      "cell_type": "code",
      "source": [
        "#Test data \n",
        "cl_img =cv2.imread('/content/content/processed_images/strasbourg_000000_015602.png')\n",
        "img = cv2.imread('/content/content/processed_images/strasbourg_000000_015602.png',0)\n",
        " # Extract RGB color features"
      ],
      "metadata": {
        "id": "k_GbhMH8YCxa"
      },
      "execution_count": null,
      "outputs": []
    },
    {
      "cell_type": "code",
      "source": [
        "#training data \n",
        "cl_img =cv2.imread('/content/content/processed_images/hanover_000000_029455.png')\n",
        "img = cv2.imread('/content/content/processed_images/hanover_000000_029455.png',0)\n",
        " # Extract RGB color features\n"
      ],
      "metadata": {
        "id": "xa4SZIcfk5vb"
      },
      "execution_count": null,
      "outputs": []
    },
    {
      "cell_type": "code",
      "source": [
        "#img = cv2.imread('content/content/processed_images/strasbourg_000000_015602.png',0)\n",
        "plt.imshow(img)"
      ],
      "metadata": {
        "id": "2oPKA27BYYk7"
      },
      "execution_count": null,
      "outputs": []
    },
    {
      "cell_type": "code",
      "source": [
        "kernel = np.ones((5,5),np.uint8)\n",
        "kernel2 = cv2.getGaborKernel((8, 8), 1, 0, 1.6, .5, 0, ktype=cv2.CV_32F)\n",
        "erosion5 = cv2.erode(img,kernel,iterations = 4)\n",
        "gradient = cv2.morphologyEx(img,cv2.MORPH_GRADIENT,kernel)\n",
        "blur, laplacian, sobel, _ = preprocess_image(img)\n",
        "median_blur = cv2.medianBlur(img,5)\n",
        "erosion1 = cv2.erode(img,kernel,iterations = 1)\n",
        "r, _, _ = cv2.split(cl_img)\n",
        "gabor2 = cv2.filter2D(img, cv2.CV_8UC3, kernel2)\n",
        "_,thresh5 = cv2.threshold(img,127,255,cv2.THRESH_TOZERO_INV)"
      ],
      "metadata": {
        "id": "H6f6CwEplGr4"
      },
      "execution_count": null,
      "outputs": []
    },
    {
      "cell_type": "code",
      "source": [
        "df_gridcv = pd.DataFrame()"
      ],
      "metadata": {
        "id": "A2I2M5Rzl1-x"
      },
      "execution_count": null,
      "outputs": []
    },
    {
      "cell_type": "code",
      "source": [
        "df_gridcv['erosion5'] = erosion5.reshape(-1)/255\n",
        "df_gridcv['gradient'] = gradient.reshape(-1)/255\n",
        "df_gridcv['blur'], df_gridcv['laplacian'], df_gridcv['sobelx']= blur.reshape(-1), laplacian.reshape(-1), sobel.reshape(-1)\n",
        "df_gridcv['median_blur'] = median_blur.reshape(-1)/255\n",
        "df_gridcv['erosion1'] = erosion1.reshape(-1)/255\n",
        "df_gridcv['r'] = r.reshape(-1)/255\n",
        "df_gridcv['gabor2'] = gabor2.reshape(-1)/255\n",
        "df_gridcv['thresh5'] = thresh5.reshape(-1)/255\n",
        "# Test    '/content/content/processed_labels/strasbourg_000000_015602.png'\n",
        "# Train   '/content/content/processed_labels/hanover_000000_029455.png'\n",
        "mask_img = cv2.imread('/content/content/processed_labels/strasbourg_000000_015602.png',0)\n",
        "df_gridcv['Labels'] = mask_img.reshape(-1)/255"
      ],
      "metadata": {
        "id": "K2775Lt7lGvG"
      },
      "execution_count": null,
      "outputs": []
    },
    {
      "cell_type": "code",
      "source": [
        "#Test ONly\n",
        "from sklearn.preprocessing import LabelEncoder\n",
        "Y_test = df_gridcv[\"Labels\"].values\n",
        "Y_est = LabelEncoder().fit_transform(Y)\n",
        "#removing label data \n",
        "X_test= df_gridcv.drop(labels = [\"Labels\"], axis=1) \n",
        "# X_test, Y_est"
      ],
      "metadata": {
        "id": "WzlCgIsUlGyB"
      },
      "execution_count": null,
      "outputs": []
    },
    {
      "cell_type": "code",
      "source": [
        "from sklearn.preprocessing import LabelEncoder\n",
        "Y = df_gridcv[\"Labels\"].values\n",
        "Y = LabelEncoder().fit_transform(Y)\n",
        "#removing label data \n",
        "X = df_gridcv.drop(labels = [\"Labels\"], axis=1) "
      ],
      "metadata": {
        "id": "WO82x5i9k545"
      },
      "execution_count": null,
      "outputs": []
    },
    {
      "cell_type": "code",
      "source": [
        "from sklearn.model_selection import train_test_split, learning_curve, validation_curve, cross_val_score, GridSearchCV, RandomizedSearchCV\n",
        "#GridSearch & Pipeline\n",
        "from sklearn.pipeline import make_pipeline\n",
        "from sklearn.preprocessing import MinMaxScaler"
      ],
      "metadata": {
        "id": "IVx3c3zkkr4R"
      },
      "execution_count": null,
      "outputs": []
    },
    {
      "cell_type": "code",
      "source": [
        "rf = RandomForestClassifier()"
      ],
      "metadata": {
        "id": "GGwa51K0xJyv"
      },
      "execution_count": null,
      "outputs": []
    },
    {
      "cell_type": "code",
      "source": [
        "n_estimators = [int(x) for x in np.linspace(start = 200, stop = 2000, num = 10)]\n",
        "# Number of features to consider at every split\n",
        "max_features = ['auto', 'sqrt']\n",
        "# Maximum number of levels in tree\n",
        "max_depth = [int(x) for x in np.linspace(10, 110, num = 11)]\n",
        "max_depth.append(None)\n",
        "# Minimum number of samples required to split a node\n",
        "min_samples_split = [2, 5, 10]\n",
        "# Minimum number of samples required at each leaf node\n",
        "min_samples_leaf = [1, 2, 4]\n",
        "# Method of selecting samples for training each tree\n",
        "bootstrap = [True, False]\n",
        "# Create the random grid\n",
        "random_grid = {'n_estimators': n_estimators,\n",
        "               'max_features': max_features,\n",
        "               'max_depth': max_depth,\n",
        "               'min_samples_split': min_samples_split,\n",
        "               'min_samples_leaf': min_samples_leaf,\n",
        "               'bootstrap': bootstrap}\n",
        "print(random_grid)"
      ],
      "metadata": {
        "id": "P0SE3KHCkGhF"
      },
      "execution_count": null,
      "outputs": []
    },
    {
      "cell_type": "code",
      "source": [
        "rf_grid_cv = GridSearchCV(estimator = rf, param_grid = random_grid,\n",
        "                          cv = 5, verbose=2,n_jobs = 8,scoring= 'accuracy')"
      ],
      "metadata": {
        "id": "AMKq6K9LkXTb"
      },
      "execution_count": null,
      "outputs": []
    },
    {
      "cell_type": "code",
      "source": [
        "X = [1,2,3,4,5]\n",
        "Y= [1,2,3,4,5]"
      ],
      "metadata": {
        "id": "cuBY2GPcXvsZ"
      },
      "execution_count": null,
      "outputs": []
    },
    {
      "cell_type": "code",
      "source": [
        "%time rf_grid_cv.fit(X, Y)\n",
        "print(rf_grid_cv.best_params_)"
      ],
      "metadata": {
        "id": "XTs9mLFLk1pk"
      },
      "execution_count": null,
      "outputs": []
    },
    {
      "cell_type": "code",
      "source": [
        "print(rf_grid_cv.best_params_)"
      ],
      "metadata": {
        "id": "4X2UUxwYiLPO"
      },
      "execution_count": null,
      "outputs": []
    },
    {
      "cell_type": "code",
      "source": [],
      "metadata": {
        "id": "D6W2DD6lis02"
      },
      "execution_count": null,
      "outputs": []
    },
    {
      "cell_type": "code",
      "source": [
        "g = {'n_estimators': [100, 200, 400],\n",
        "     'max_depth': [40, 50, 70],\n",
        "     'min_samples_split': [5,10,20],\n",
        "     'min_samples_leaf': [ 20, 40,60]}"
      ],
      "metadata": {
        "id": "tE63uPwMitGh"
      },
      "execution_count": null,
      "outputs": []
    },
    {
      "cell_type": "code",
      "source": [
        "rf_grid_cv = GridSearchCV(estimator = rf, param_grid = g,\n",
        "                          cv = 5, verbose=2,n_jobs = 8,scoring= 'accuracy')"
      ],
      "metadata": {
        "id": "YJTpxrtZjObv"
      },
      "execution_count": null,
      "outputs": []
    },
    {
      "cell_type": "code",
      "source": [
        "%time rf_grid_cv.fit(X, Y)\n",
        "print(rf_grid_cv.best_params_)"
      ],
      "metadata": {
        "id": "0yJ8sEN9jJmS"
      },
      "execution_count": null,
      "outputs": []
    },
    {
      "cell_type": "code",
      "source": [
        "print(rf_grid_cv.best_params_)"
      ],
      "metadata": {
        "id": "No2pObcQ1XCF"
      },
      "execution_count": null,
      "outputs": []
    },
    {
      "cell_type": "code",
      "source": [
        "rf = RandomForestClassifier(n_estimators=100, criterion='gini',\n",
        "                           max_depth=None, n_jobs=-1, random_state=42)\n",
        "#n_estimators=2000,max_features='gini',random_state=101, n_jobs=-1,max_depth=60, min_samples_leaf=1, min_samples_split=2)"
      ],
      "metadata": {
        "id": "GrkiLGMtWGtg"
      },
      "execution_count": null,
      "outputs": []
    },
    {
      "cell_type": "code",
      "source": [
        "rf.fit(X, Y)"
      ],
      "metadata": {
        "id": "dN1qXTKbWSwL"
      },
      "execution_count": null,
      "outputs": []
    },
    {
      "cell_type": "code",
      "source": [
        "filename = \"rf_model2_10feature.sav\"\n",
        "pickle.dump(rf, open(filename, 'wb'))"
      ],
      "metadata": {
        "id": "5CofQ6nEWhy5"
      },
      "execution_count": null,
      "outputs": []
    },
    {
      "cell_type": "code",
      "source": [
        "prediction_test = rf.predict(X)"
      ],
      "metadata": {
        "id": "8kCjP51YWosP"
      },
      "execution_count": null,
      "outputs": []
    },
    {
      "cell_type": "code",
      "source": [
        "prediction_test.shape"
      ],
      "metadata": {
        "id": "nne3nEuHWzKb"
      },
      "execution_count": null,
      "outputs": []
    },
    {
      "cell_type": "code",
      "source": [
        "Y_pred = prediction_test.reshape(256,512)\n",
        "Y_true = Y.reshape(256,512)"
      ],
      "metadata": {
        "id": "l6PvsC2WWzNe"
      },
      "execution_count": null,
      "outputs": []
    },
    {
      "cell_type": "code",
      "source": [
        "display_img(Y_pred)"
      ],
      "metadata": {
        "id": "V5dAhNzoWzQx"
      },
      "execution_count": null,
      "outputs": []
    },
    {
      "cell_type": "code",
      "source": [
        "import numpy as np\n",
        "from sklearn.metrics import jaccard_score"
      ],
      "metadata": {
        "id": "EGkBvcJWXE-f"
      },
      "execution_count": null,
      "outputs": []
    },
    {
      "cell_type": "code",
      "source": [
        "print (\"Training Accuracy = \", jaccard_score(Y_true, Y_pred,average='micro'))"
      ],
      "metadata": {
        "id": "e-MavNURXgfp"
      },
      "execution_count": null,
      "outputs": []
    },
    {
      "cell_type": "code",
      "source": [
        "Y.shape.reshape(256,512)"
      ],
      "metadata": {
        "id": "sEGsPIFwXgic"
      },
      "execution_count": null,
      "outputs": []
    },
    {
      "cell_type": "code",
      "source": [
        "#X_test, Y_est\n",
        "prediction_test = rf.predict(X_test)"
      ],
      "metadata": {
        "id": "6NjCZqSUXltU"
      },
      "execution_count": null,
      "outputs": []
    },
    {
      "cell_type": "code",
      "source": [
        "Y_pred = prediction_test.reshape(256,512)\n",
        "Y_true = Y_est.reshape(256,512)"
      ],
      "metadata": {
        "id": "FP4ZzDUDaCWt"
      },
      "execution_count": null,
      "outputs": []
    },
    {
      "cell_type": "code",
      "source": [
        "print (\"Training Accuracy = \", jaccard_score(Y_true, Y_pred,average='micro'))"
      ],
      "metadata": {
        "id": "L17X2TajaCZa"
      },
      "execution_count": null,
      "outputs": []
    },
    {
      "cell_type": "code",
      "source": [
        "plt.imshow(Y_pred)"
      ],
      "metadata": {
        "id": "bLShPb2taIwc"
      },
      "execution_count": null,
      "outputs": []
    },
    {
      "cell_type": "code",
      "source": [
        "plt.imshow(Y_true)"
      ],
      "metadata": {
        "id": "TcqhUNLJappG"
      },
      "execution_count": null,
      "outputs": []
    },
    {
      "cell_type": "code",
      "source": [
        "print (\"Testing Accuracy = \", metrics.accuracy_score(Y_true, Y_pred))"
      ],
      "metadata": {
        "id": "SD0m6dJFasl-"
      },
      "execution_count": null,
      "outputs": []
    },
    {
      "cell_type": "code",
      "source": [
        "visualize_images(cl_img, Y_true,Y_pred )"
      ],
      "metadata": {
        "id": "Un74eMi4cunJ"
      },
      "execution_count": null,
      "outputs": []
    },
    {
      "cell_type": "code",
      "source": [
        "precision_score_(Y_true,Y_pred)"
      ],
      "metadata": {
        "id": "GAb_QFyWgCYV"
      },
      "execution_count": null,
      "outputs": []
    },
    {
      "cell_type": "code",
      "source": [
        "recall_score_(Y_true,Y_pred)"
      ],
      "metadata": {
        "id": "-lrW95prcDRE"
      },
      "execution_count": null,
      "outputs": []
    },
    {
      "cell_type": "code",
      "source": [
        "accuracy(Y_true,Y_pred)"
      ],
      "metadata": {
        "id": "-I7b3i0dhfIJ"
      },
      "execution_count": null,
      "outputs": []
    },
    {
      "cell_type": "code",
      "source": [
        "dice_coef(Y_true,Y_pred)"
      ],
      "metadata": {
        "id": "KETtfrSkiV6q"
      },
      "execution_count": null,
      "outputs": []
    },
    {
      "cell_type": "code",
      "source": [
        "iou(Y_true,Y_pred)"
      ],
      "metadata": {
        "id": "aIe9TvrJiiWE"
      },
      "execution_count": null,
      "outputs": []
    }
  ]
}